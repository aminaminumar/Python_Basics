{
 "cells": [
  {
   "cell_type": "markdown",
   "id": "a1f2e4d8-b5ec-405e-840c-9e4fdde86dec",
   "metadata": {},
   "source": [
    "CRUD FOR LIST"
   ]
  },
  {
   "cell_type": "code",
   "execution_count": 2,
   "id": "41ee3ad4-1dfa-44f8-ad91-8584eaf2c073",
   "metadata": {},
   "outputs": [],
   "source": [
    "#create\n",
    "names = [\"Amina\", \"Fatima\", \"Isa\", \"Abdullah\"]"
   ]
  },
  {
   "cell_type": "code",
   "execution_count": 4,
   "id": "d7a198c6-0586-4ad6-b07c-d2ef40904940",
   "metadata": {},
   "outputs": [
    {
     "data": {
      "text/plain": [
       "['Amina', 'Fatima', 'Isa', 'Abdullah']"
      ]
     },
     "execution_count": 4,
     "metadata": {},
     "output_type": "execute_result"
    }
   ],
   "source": [
    "#read\n",
    "names"
   ]
  },
  {
   "cell_type": "code",
   "execution_count": 5,
   "id": "35864cc6-31c1-4e2a-96fb-9c4eada18cba",
   "metadata": {},
   "outputs": [
    {
     "data": {
      "text/plain": [
       "'Amina'"
      ]
     },
     "execution_count": 5,
     "metadata": {},
     "output_type": "execute_result"
    }
   ],
   "source": [
    "#reading using indexing\n",
    "names[0]"
   ]
  },
  {
   "cell_type": "code",
   "execution_count": 6,
   "id": "69be4999-7bdd-4b0b-8a44-fd5f6d34f372",
   "metadata": {},
   "outputs": [
    {
     "data": {
      "text/plain": [
       "'Abdullah'"
      ]
     },
     "execution_count": 6,
     "metadata": {},
     "output_type": "execute_result"
    }
   ],
   "source": [
    "names[-1]"
   ]
  },
  {
   "cell_type": "code",
   "execution_count": 7,
   "id": "dbf321f2-744b-41a0-8699-13d71c44a0c9",
   "metadata": {},
   "outputs": [
    {
     "data": {
      "text/plain": [
       "4"
      ]
     },
     "execution_count": 7,
     "metadata": {},
     "output_type": "execute_result"
    }
   ],
   "source": [
    "len(names)"
   ]
  },
  {
   "cell_type": "code",
   "execution_count": null,
   "id": "59691442-f6aa-4ee2-9e53-d0a5530c69a1",
   "metadata": {},
   "outputs": [],
   "source": [
    "#update"
   ]
  },
  {
   "cell_type": "code",
   "execution_count": 9,
   "id": "32baadd8-7165-4a3d-a5fa-c7781e1e74c5",
   "metadata": {},
   "outputs": [],
   "source": [
    "names[-1] = \"Mubarak\""
   ]
  },
  {
   "cell_type": "code",
   "execution_count": 10,
   "id": "9e67d5cb-af6e-4deb-b971-c1a1440037c7",
   "metadata": {},
   "outputs": [
    {
     "data": {
      "text/plain": [
       "['Amina', 'Fatima', 'Isa', 'Mubarak']"
      ]
     },
     "execution_count": 10,
     "metadata": {},
     "output_type": "execute_result"
    }
   ],
   "source": [
    "names"
   ]
  },
  {
   "cell_type": "code",
   "execution_count": 11,
   "id": "00c558b9-add9-4cea-8576-45dc546366da",
   "metadata": {},
   "outputs": [],
   "source": [
    "names.append(\"Mujahid\")"
   ]
  },
  {
   "cell_type": "code",
   "execution_count": 12,
   "id": "2320df8c-f796-4ea7-aa0c-8a86ff649088",
   "metadata": {},
   "outputs": [
    {
     "data": {
      "text/plain": [
       "['Amina', 'Fatima', 'Isa', 'Mubarak', 'Mujahid']"
      ]
     },
     "execution_count": 12,
     "metadata": {},
     "output_type": "execute_result"
    }
   ],
   "source": [
    "names"
   ]
  },
  {
   "cell_type": "code",
   "execution_count": 13,
   "id": "413e34c1-c017-44e1-90ae-33dd77e9adc3",
   "metadata": {},
   "outputs": [],
   "source": [
    "names.insert(0, \"Sakina\")"
   ]
  },
  {
   "cell_type": "code",
   "execution_count": 14,
   "id": "c0f07ef4-de34-4df0-a886-2377206dc50c",
   "metadata": {},
   "outputs": [
    {
     "data": {
      "text/plain": [
       "['Sakina', 'Amina', 'Fatima', 'Isa', 'Mubarak', 'Mujahid']"
      ]
     },
     "execution_count": 14,
     "metadata": {},
     "output_type": "execute_result"
    }
   ],
   "source": [
    "names"
   ]
  },
  {
   "cell_type": "code",
   "execution_count": null,
   "id": "572da428-ddaa-4f9f-bb43-d5e28972928f",
   "metadata": {},
   "outputs": [],
   "source": [
    "#delete"
   ]
  },
  {
   "cell_type": "code",
   "execution_count": 15,
   "id": "e4f07e20-37d3-4eb8-ad3a-669f5f4a20a6",
   "metadata": {},
   "outputs": [],
   "source": [
    "del names[-2]"
   ]
  },
  {
   "cell_type": "code",
   "execution_count": 16,
   "id": "036de452-cd05-4345-ae25-770f42f3f938",
   "metadata": {},
   "outputs": [
    {
     "data": {
      "text/plain": [
       "['Sakina', 'Amina', 'Fatima', 'Isa', 'Mujahid']"
      ]
     },
     "execution_count": 16,
     "metadata": {},
     "output_type": "execute_result"
    }
   ],
   "source": [
    "names"
   ]
  },
  {
   "cell_type": "markdown",
   "id": "85c34258-7277-4d7b-bd72-f4f796e8e4cb",
   "metadata": {},
   "source": [
    "Crud for Dictionaries"
   ]
  },
  {
   "cell_type": "code",
   "execution_count": 18,
   "id": "46b9efea-1c1e-4bf6-9043-66674a63ec83",
   "metadata": {},
   "outputs": [],
   "source": [
    "#create\n",
    "astronaut = {\n",
    "    \"name\": \"Elon Musk\",\n",
    "    \"suit_size\": \"large\",\n",
    "    \"allergies\": \"peanuts\"\n",
    "}"
   ]
  },
  {
   "cell_type": "code",
   "execution_count": null,
   "id": "21717ecf-e5cc-4038-a303-6195ec50b38e",
   "metadata": {},
   "outputs": [],
   "source": [
    "#read"
   ]
  },
  {
   "cell_type": "code",
   "execution_count": 19,
   "id": "af6cf0c7-2c22-4ed2-a2fb-4bfd0b66af42",
   "metadata": {},
   "outputs": [
    {
     "data": {
      "text/plain": [
       "{'name': 'Elon Musk', 'suit_size': 'large', 'allergies': 'peanuts'}"
      ]
     },
     "execution_count": 19,
     "metadata": {},
     "output_type": "execute_result"
    }
   ],
   "source": [
    "astronaut"
   ]
  },
  {
   "cell_type": "code",
   "execution_count": 24,
   "id": "944b91ea-35f1-4766-95dc-99a8ed13f35b",
   "metadata": {},
   "outputs": [],
   "source": [
    "suit_size = astronaut[\"suit_size\"]"
   ]
  },
  {
   "cell_type": "code",
   "execution_count": 25,
   "id": "1a13584b-ecc5-48c0-8083-49dd41f52e55",
   "metadata": {},
   "outputs": [
    {
     "data": {
      "text/plain": [
       "'large'"
      ]
     },
     "execution_count": 25,
     "metadata": {},
     "output_type": "execute_result"
    }
   ],
   "source": [
    "suit_size"
   ]
  },
  {
   "cell_type": "code",
   "execution_count": 26,
   "id": "270da2d8-1150-4ad2-91a1-07b9840e31c0",
   "metadata": {},
   "outputs": [
    {
     "data": {
      "text/plain": [
       "dict_keys(['name', 'suit_size', 'allergies'])"
      ]
     },
     "execution_count": 26,
     "metadata": {},
     "output_type": "execute_result"
    }
   ],
   "source": [
    "astronaut.keys()"
   ]
  },
  {
   "cell_type": "code",
   "execution_count": 28,
   "id": "51e9fbba-27c1-4924-8426-ca2483825ef5",
   "metadata": {},
   "outputs": [
    {
     "data": {
      "text/plain": [
       "dict_values(['Elon Musk', 'large', 'peanuts'])"
      ]
     },
     "execution_count": 28,
     "metadata": {},
     "output_type": "execute_result"
    }
   ],
   "source": [
    "astronaut.values()"
   ]
  },
  {
   "cell_type": "code",
   "execution_count": null,
   "id": "b68eba4b-6cdd-4af7-92f8-020af5788b94",
   "metadata": {},
   "outputs": [],
   "source": [
    "#update"
   ]
  },
  {
   "cell_type": "code",
   "execution_count": 29,
   "id": "14a8cc26-1801-418e-bdd5-ebd29d4d29bf",
   "metadata": {},
   "outputs": [],
   "source": [
    "astronaut[\"allergies\"] = \"mango\""
   ]
  },
  {
   "cell_type": "code",
   "execution_count": 30,
   "id": "d43c0c19-c4ca-4bd3-97e7-d650f21d8ec5",
   "metadata": {},
   "outputs": [],
   "source": [
    "astronaut[\"space_ship\"]= \"galactic 1\""
   ]
  },
  {
   "cell_type": "code",
   "execution_count": 31,
   "id": "c585649c-a58b-44f3-a9d4-31285384cd84",
   "metadata": {},
   "outputs": [],
   "source": [
    "astronaut[\"weight\"] = \"CHubby\""
   ]
  },
  {
   "cell_type": "code",
   "execution_count": 33,
   "id": "2642e593-8b27-4ba1-8e66-255238ab9fe2",
   "metadata": {},
   "outputs": [
    {
     "data": {
      "text/plain": [
       "{'name': 'Elon Musk',\n",
       " 'suit_size': 'large',\n",
       " 'allergies': 'mango',\n",
       " 'space_ship': 'galactic 1',\n",
       " 'weight': 'CHubby'}"
      ]
     },
     "execution_count": 33,
     "metadata": {},
     "output_type": "execute_result"
    }
   ],
   "source": [
    "astronaut"
   ]
  },
  {
   "cell_type": "code",
   "execution_count": null,
   "id": "e3011cb2-69ec-4348-a862-e1ef014299d5",
   "metadata": {},
   "outputs": [],
   "source": [
    "#delete"
   ]
  },
  {
   "cell_type": "code",
   "execution_count": 34,
   "id": "b5d961dd-4324-43d9-af76-209d02f137d8",
   "metadata": {},
   "outputs": [],
   "source": [
    "del astronaut[\"space_ship\"]"
   ]
  },
  {
   "cell_type": "markdown",
   "id": "a874e81e-d354-4f99-aa86-20f4f3e6df03",
   "metadata": {},
   "source": [
    "#Conditions and Logic"
   ]
  },
  {
   "cell_type": "code",
   "execution_count": 38,
   "id": "a3faf01d-816a-4a77-a975-7a247801a408",
   "metadata": {},
   "outputs": [
    {
     "name": "stdout",
     "output_type": "stream",
     "text": [
      "name not found\n"
     ]
    }
   ],
   "source": [
    "# if statements\n",
    "name = \"Amina Amin\"\n",
    "if (name == \"Amina Aminu\"):\n",
    "    print(\"name\")\n",
    "else:\n",
    "    print(\"name not found\")"
   ]
  },
  {
   "cell_type": "code",
   "execution_count": 39,
   "id": "b7012773-fb91-4bf8-950e-7bd68f69a2dd",
   "metadata": {},
   "outputs": [
    {
     "name": "stdout",
     "output_type": "stream",
     "text": [
      "number is greater than 4\n"
     ]
    }
   ],
   "source": [
    "test_number = 7\n",
    "if (test_number >= 4):\n",
    "    print(\"number is greater than 4\")"
   ]
  },
  {
   "cell_type": "markdown",
   "id": "8016a1a6-d714-41fa-a46d-589912eb37ba",
   "metadata": {},
   "source": []
  },
  {
   "cell_type": "code",
   "execution_count": 42,
   "id": "8b624776-9e13-4a34-b7c4-e56c2364137e",
   "metadata": {},
   "outputs": [
    {
     "name": "stdout",
     "output_type": "stream",
     "text": [
      "True\n"
     ]
    }
   ],
   "source": [
    "prob = 0.75\n",
    "if prob >= 0.5:\n",
    "    print(True)\n",
    "else:\n",
    "    print(False)"
   ]
  },
  {
   "cell_type": "code",
   "execution_count": 46,
   "id": "f985bd32-d379-420a-a60f-19e22c77695f",
   "metadata": {},
   "outputs": [
    {
     "data": {
      "text/plain": [
       "True"
      ]
     },
     "execution_count": 46,
     "metadata": {},
     "output_type": "execute_result"
    }
   ],
   "source": [
    "names = [\"mufida\", \"rufy\", \"sury\"]\n",
    "\"sury\" in names"
   ]
  },
  {
   "cell_type": "code",
   "execution_count": 52,
   "id": "a3db5f88-715c-4220-8fbb-1e2e289a89a0",
   "metadata": {},
   "outputs": [
    {
     "name": "stdout",
     "output_type": "stream",
     "text": [
      "hi rufy\n",
      "suree\n"
     ]
    }
   ],
   "source": [
    "for name in names:\n",
    "    if name == \"rufy\":\n",
    "        print('hi rufy')\n",
    "    elif name == 'sury':\n",
    "        print(\"suree\")\n",
    "        break\n",
    "   "
   ]
  },
  {
   "cell_type": "code",
   "execution_count": null,
   "id": "b8065a14-5aae-4a6b-a0db-2abfe7c3cb25",
   "metadata": {},
   "outputs": [],
   "source": []
  }
 ],
 "metadata": {
  "kernelspec": {
   "display_name": "Python 3 (ipykernel)",
   "language": "python",
   "name": "python3"
  },
  "language_info": {
   "codemirror_mode": {
    "name": "ipython",
    "version": 3
   },
   "file_extension": ".py",
   "mimetype": "text/x-python",
   "name": "python",
   "nbconvert_exporter": "python",
   "pygments_lexer": "ipython3",
   "version": "3.12.4"
  }
 },
 "nbformat": 4,
 "nbformat_minor": 5
}
