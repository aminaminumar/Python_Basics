{
 "cells": [
  {
   "cell_type": "code",
   "execution_count": 2,
   "id": "ac418abd-281a-4655-b1b9-be81dce0c549",
   "metadata": {},
   "outputs": [],
   "source": [
    "import numpy as np\n",
    "import time\n",
    "import sys"
   ]
  },
  {
   "cell_type": "code",
   "execution_count": 56,
   "id": "683bb991-1ded-483a-bce0-bf63737f0c53",
   "metadata": {},
   "outputs": [
    {
     "name": "stdout",
     "output_type": "stream",
     "text": [
      "4800\n",
      "400\n"
     ]
    },
    {
     "data": {
      "text/plain": [
       "4"
      ]
     },
     "execution_count": 56,
     "metadata": {},
     "output_type": "execute_result"
    }
   ],
   "source": [
    "#checking memory time of list vs numpy\n",
    "\n",
    "#for list\n",
    "s = range(100)\n",
    "print(sys.getsizeof(s)*len(s))\n",
    "\n",
    "#numpy\n",
    "d = np.arange(100)\n",
    "print(d.size*d.itemsize)\n",
    "d.itemsize"
   ]
  },
  {
   "cell_type": "markdown",
   "id": "562baae2-aafa-421b-afee-66a84ffb80c1",
   "metadata": {},
   "source": [
    "NUMPY Operations"
   ]
  },
  {
   "cell_type": "code",
   "execution_count": 4,
   "id": "20e8e52f-4c5a-4c57-8c9d-b7ef455946ff",
   "metadata": {},
   "outputs": [
    {
     "data": {
      "text/plain": [
       "2"
      ]
     },
     "execution_count": 4,
     "metadata": {},
     "output_type": "execute_result"
    }
   ],
   "source": [
    "#define numpy array\n",
    "a = np.array([(1,2,3),(2,3,4)]) #2 dim\n",
    "\n",
    "#finding the dimension of an array\n",
    "a.ndim\n"
   ]
  },
  {
   "cell_type": "code",
   "execution_count": 15,
   "id": "18eb57ee-a899-4d52-80a7-f162311de6b9",
   "metadata": {},
   "outputs": [
    {
     "name": "stdout",
     "output_type": "stream",
     "text": [
      "4\n"
     ]
    },
    {
     "data": {
      "text/plain": [
       "dtype('int32')"
      ]
     },
     "execution_count": 15,
     "metadata": {},
     "output_type": "execute_result"
    }
   ],
   "source": [
    "#finding the byte size of each element\n",
    "print(a.itemsize)\n",
    "\n",
    "#finding the data types \n",
    "a.dtype"
   ]
  },
  {
   "cell_type": "code",
   "execution_count": 29,
   "id": "0a2f04c2-4a21-41f1-b055-819ca481936a",
   "metadata": {},
   "outputs": [
    {
     "name": "stdout",
     "output_type": "stream",
     "text": [
      "6\n"
     ]
    },
    {
     "data": {
      "text/plain": [
       "(2, 3)"
      ]
     },
     "execution_count": 29,
     "metadata": {},
     "output_type": "execute_result"
    }
   ],
   "source": [
    "#finding the size of the array\n",
    "print(a.size)\n",
    "\n",
    "#finding the shape(total no of cols and rows)\n",
    "(a.shape)"
   ]
  },
  {
   "cell_type": "code",
   "execution_count": 32,
   "id": "b761d54d-2203-444d-888b-c91f7d93473a",
   "metadata": {},
   "outputs": [
    {
     "name": "stdout",
     "output_type": "stream",
     "text": [
      "[[1 2]\n",
      " [3 2]\n",
      " [3 4]]\n"
     ]
    }
   ],
   "source": [
    "#reshaping \n",
    "a = a.reshape(3,2)\n",
    "print(a)"
   ]
  },
  {
   "cell_type": "code",
   "execution_count": 56,
   "id": "9db6459c-a99a-43c5-8b70-1dc8de6873e2",
   "metadata": {},
   "outputs": [
    {
     "name": "stdout",
     "output_type": "stream",
     "text": [
      "[3 1 3]\n",
      "[1 3]\n"
     ]
    }
   ],
   "source": [
    "#slicing\n",
    "b = np.array([(1,4,6,7,3,2), (9,0,4,3,1,6), (3,2,7,8,3,5)])\n",
    "print(b[0:5, 4]) #prints the 4th elements in each tuple\n",
    "print(b[1:3, 4]) #prints from tuple at 2 and 3 at index 4 "
   ]
  },
  {
   "cell_type": "code",
   "execution_count": 61,
   "id": "fac4d588-23a9-4da7-a00a-89714f9aaae5",
   "metadata": {},
   "outputs": [
    {
     "name": "stdout",
     "output_type": "stream",
     "text": [
      "[1.         1.44444444 1.88888889 2.33333333 2.77777778 3.22222222\n",
      " 3.66666667 4.11111111 4.55555556 5.        ]\n"
     ]
    }
   ],
   "source": [
    "c = np.linspace(1, 5, 10) #prints 10 numbers from 1 to 5\n",
    "print(c)"
   ]
  },
  {
   "cell_type": "code",
   "execution_count": 65,
   "id": "c093c603-4d82-49b6-a9f1-d2c1f67236bb",
   "metadata": {},
   "outputs": [
    {
     "name": "stdout",
     "output_type": "stream",
     "text": [
      "4\n",
      "1\n",
      "15\n"
     ]
    }
   ],
   "source": [
    "\n",
    "print(a.max()) #max value\n",
    "print(a.min()) #min value\n",
    "print(a.sum()) #sum of numbers in array"
   ]
  },
  {
   "cell_type": "code",
   "execution_count": 73,
   "id": "f2adad4b-1a19-4737-beed-4618ea966885",
   "metadata": {},
   "outputs": [
    {
     "name": "stdout",
     "output_type": "stream",
     "text": [
      "[30 33]\n",
      "[17 21 25]\n"
     ]
    }
   ],
   "source": [
    "f = np.array([(8,9), (10,11), (12,13)])\n",
    "print(f.sum(axis = 0)) #8+10+12, 9+11+13\n",
    "print(f.sum(axis = 1)) #8+9, 10+11, 12+13"
   ]
  },
  {
   "cell_type": "code",
   "execution_count": 76,
   "id": "4fc84082-4e9b-46cc-9c9f-0e76dead403a",
   "metadata": {},
   "outputs": [
    {
     "name": "stdout",
     "output_type": "stream",
     "text": [
      "[[2.82842712 3.        ]\n",
      " [3.16227766 3.31662479]\n",
      " [3.46410162 3.60555128]]\n",
      "1.707825127659933\n"
     ]
    }
   ],
   "source": [
    "#square root and standard deviation\n",
    "print(np.sqrt(f)) \n",
    "print(np.std(f))"
   ]
  },
  {
   "cell_type": "code",
   "execution_count": 91,
   "id": "0e563f52-f809-47c1-b369-f1969166e1a2",
   "metadata": {},
   "outputs": [
    {
     "name": "stdout",
     "output_type": "stream",
     "text": [
      "[[ 9 11]\n",
      " [13 13]\n",
      " [15 17]]\n",
      "\n",
      "[[-7 -7]\n",
      " [-7 -9]\n",
      " [-9 -9]]\n",
      "\n",
      "[[ 8 18]\n",
      " [30 22]\n",
      " [36 52]]\n",
      "\n",
      "[[0.125      0.22222222]\n",
      " [0.3        0.18181818]\n",
      " [0.25       0.30769231]]\n"
     ]
    }
   ],
   "source": [
    "#finding the matrix addition, subtraction, multiplication abd division\n",
    "print(a+f)\n",
    "print()\n",
    "print(a-f)\n",
    "print()\n",
    "print(a*f)\n",
    "print()\n",
    "print(a/f)"
   ]
  },
  {
   "cell_type": "code",
   "execution_count": 96,
   "id": "08ca04ab-cea1-41a5-bd22-3c4b03053f3c",
   "metadata": {},
   "outputs": [
    {
     "name": "stdout",
     "output_type": "stream",
     "text": [
      "[[ 1  2]\n",
      " [ 3  2]\n",
      " [ 3  4]\n",
      " [ 8  9]\n",
      " [10 11]\n",
      " [12 13]]\n",
      "[[ 1  2  8  9]\n",
      " [ 3  2 10 11]\n",
      " [ 3  4 12 13]]\n"
     ]
    }
   ],
   "source": [
    "#concatenating arrays \n",
    "#vertical stacking\n",
    "\n",
    "print(np.vstack((a,f)))\n",
    "      \n",
    "#horizontal stacking\n",
    "print(np.hstack((a,f)))"
   ]
  },
  {
   "cell_type": "code",
   "execution_count": 98,
   "id": "69a4e5c6-a328-40bb-afbe-d00f2872023d",
   "metadata": {},
   "outputs": [
    {
     "name": "stdout",
     "output_type": "stream",
     "text": [
      "[1 2 3 2 3 4]\n"
     ]
    }
   ],
   "source": [
    "#converting array to 1 line\n",
    "print(a.ravel())"
   ]
  },
  {
   "cell_type": "markdown",
   "id": "10d687b4-477a-4026-a2d9-793703762a1f",
   "metadata": {},
   "source": [
    "NUmpy special operation - sine and cosine"
   ]
  },
  {
   "cell_type": "code",
   "execution_count": 59,
   "id": "4bd911ae-d2de-4506-b11a-ce973952bc02",
   "metadata": {},
   "outputs": [],
   "source": [
    "import matplotlib.pyplot as plt"
   ]
  },
  {
   "cell_type": "code",
   "execution_count": 66,
   "id": "b9cd9521-78d8-46fb-ab28-bc3834fdd4fa",
   "metadata": {},
   "outputs": [
    {
     "data": {
      "text/plain": [
       "[<matplotlib.lines.Line2D at 0x1b2330d7260>]"
      ]
     },
     "execution_count": 66,
     "metadata": {},
     "output_type": "execute_result"
    },
    {
     "data": {
      "image/png": "[encoded data removed]",
      "text/plain": [
       "<Figure size 640x480 with 1 Axes>"
      ]
     },
     "metadata": {},
     "output_type": "display_data"
    }
   ],
   "source": [
    "x = np.arange(0, 3*np.pi, 0.1)\n",
    "y = np.sin(x)\n",
    "plt.plot(x,y)"
   ]
  },
  {
   "cell_type": "code",
   "execution_count": 106,
   "id": "7ead16af-8b4b-4339-a151-21a5f1b536f4",
   "metadata": {},
   "outputs": [
    {
     "data": {
      "text/plain": [
       "[<matplotlib.lines.Line2D at 0x2945c70c860>]"
      ]
     },
     "execution_count": 106,
     "metadata": {},
     "output_type": "execute_result"
    },
    {
     "data": {
      "image/png": "[encoded data removed]",
      "text/plain": [
       "<Figure size 640x480 with 1 Axes>"
      ]
     },
     "metadata": {},
     "output_type": "display_data"
    }
   ],
   "source": [
    "x = np.arange(0, 3*np.pi, 0.1)\n",
    "y = np.cos(x)\n",
    "plt.plot(x,y)"
   ]
  },
  {
   "cell_type": "code",
   "execution_count": 68,
   "id": "9bb994b7-ae32-4e1a-b7ff-6b5a92b97cb9",
   "metadata": {},
   "outputs": [
    {
     "data": {
      "text/plain": [
       "[<matplotlib.lines.Line2D at 0x1b233156d80>]"
      ]
     },
     "execution_count": 68,
     "metadata": {},
     "output_type": "execute_result"
    },
    {
     "data": {
      "image/png": "[encoded data removed]",
      "text/plain": [
       "<Figure size 640x480 with 1 Axes>"
      ]
     },
     "metadata": {},
     "output_type": "display_data"
    }
   ],
   "source": [
    "x = np.arange(0, 2*np.pi, 0.1)\n",
    "y = np.tan(x)\n",
    "plt.plot(x,y)"
   ]
  },
  {
   "cell_type": "code",
   "execution_count": 114,
   "id": "c03d40a0-2a87-4f8f-ab81-b66181e83ec3",
   "metadata": {},
   "outputs": [
    {
     "name": "stdout",
     "output_type": "stream",
     "text": [
      "[ 2.71828183 20.08553692 54.59815003]\n",
      "[0.         1.09861229 1.38629436]\n",
      "[0.         0.47712125 0.60205999]\n"
     ]
    }
   ],
   "source": [
    "#exponential and log functions\n",
    "ar = np.array([1,3,4])\n",
    "print(np.exp(ar))\n",
    "print(np.log(ar)) #natural log lin\n",
    "print(np.log10(ar))"
   ]
  },
  {
   "cell_type": "markdown",
   "id": "6db31e3c-c3d5-4bf0-8c60-74da789bf8a5",
   "metadata": {},
   "source": [
    "Exercise 1: Array Creation and Basic Operations.\n",
    "Create a 3x3 matrix with values ranging from 1 to 9.\n",
    "Perform element-wise addition, subtraction, multiplication, and division on this matrix with another 3x3 matrix filled with 2s.\n",
    "Find the transpose of your 3x3 matrix."
   ]
  },
  {
   "cell_type": "code",
   "execution_count": 127,
   "id": "3875c3c3-40f6-431a-88e0-c3d45a644415",
   "metadata": {},
   "outputs": [
    {
     "name": "stdout",
     "output_type": "stream",
     "text": [
      "[[[1]\n",
      "  [2]\n",
      "  [6]]\n",
      "\n",
      " [[3]\n",
      "  [4]\n",
      "  [7]]\n",
      "\n",
      " [[5]\n",
      "  [6]\n",
      "  [8]]]\n",
      "[[[1 3 5]\n",
      "  [2 4 6]\n",
      "  [6 7 8]]]\n"
     ]
    }
   ],
   "source": [
    "arr = np.array([[[1,3,5], [2,4,6], [6,7,8]]]) #3x3 array\n",
    "arr.ndim\n",
    "arr.shape\n",
    "arr.size\n",
    "arr.transpose()\n",
    "arr2 = np.array(arr.transpose())\n",
    "print(arr2)\n",
    "print(arr)\n"
   ]
  },
  {
   "cell_type": "code",
   "execution_count": 131,
   "id": "e660ae57-def9-4027-8e25-cf108bb86e0c",
   "metadata": {},
   "outputs": [],
   "source": [
    "add_arr = arr + arr2"
   ]
  },
  {
   "cell_type": "code",
   "execution_count": 134,
   "id": "8e6ab529-b22b-48dc-82fc-9c8966422cfc",
   "metadata": {},
   "outputs": [
    {
     "data": {
      "text/plain": [
       "(3, 3, 3)"
      ]
     },
     "execution_count": 134,
     "metadata": {},
     "output_type": "execute_result"
    }
   ],
   "source": [
    "add_arr.ndim\n",
    "add_arr.shape"
   ]
  },
  {
   "cell_type": "code",
   "execution_count": 135,
   "id": "5dddb0f1-92c7-49ea-91f5-d8f786c94651",
   "metadata": {},
   "outputs": [
    {
     "name": "stdout",
     "output_type": "stream",
     "text": [
      "[[[ 0  2  4]\n",
      "  [ 0  2  4]\n",
      "  [ 0  1  2]]\n",
      "\n",
      " [[-2  0  2]\n",
      "  [-2  0  2]\n",
      "  [-1  0  1]]\n",
      "\n",
      " [[-4 -2  0]\n",
      "  [-4 -2  0]\n",
      "  [-2 -1  0]]]\n"
     ]
    }
   ],
   "source": [
    "print(arr - arr2)"
   ]
  },
  {
   "cell_type": "code",
   "execution_count": 136,
   "id": "67da32ce-a0a6-4158-8e1f-d6c300f36f75",
   "metadata": {},
   "outputs": [
    {
     "name": "stdout",
     "output_type": "stream",
     "text": [
      "[[[ 1  3  5]\n",
      "  [ 4  8 12]\n",
      "  [36 42 48]]\n",
      "\n",
      " [[ 3  9 15]\n",
      "  [ 8 16 24]\n",
      "  [42 49 56]]\n",
      "\n",
      " [[ 5 15 25]\n",
      "  [12 24 36]\n",
      "  [48 56 64]]]\n"
     ]
    }
   ],
   "source": [
    "print(arr * arr2)"
   ]
  },
  {
   "cell_type": "code",
   "execution_count": 140,
   "id": "b222a7fe-81df-44b2-b9c5-f15eecc411ea",
   "metadata": {},
   "outputs": [
    {
     "data": {
      "text/plain": [
       "array([[ 2,  4,  6],\n",
       "       [ 4,  6,  8],\n",
       "       [12, 13, 14],\n",
       "       [ 4,  6,  8],\n",
       "       [ 6,  8, 10],\n",
       "       [13, 14, 15],\n",
       "       [ 6,  8, 10],\n",
       "       [ 8, 10, 12],\n",
       "       [14, 15, 16]])"
      ]
     },
     "execution_count": 140,
     "metadata": {},
     "output_type": "execute_result"
    }
   ],
   "source": [
    "add_arr.reshape(9,3)"
   ]
  },
  {
   "cell_type": "code",
   "execution_count": 69,
   "id": "a80b18d5-6225-4301-9823-b6f88db76c23",
   "metadata": {},
   "outputs": [
    {
     "data": {
      "text/plain": [
       "array([85, 72, 45, 32, 25, 29, 32, 80, 97, 39, 12, 31, 69,  9, 65, 96,  3,\n",
       "       27, 11, 53])"
      ]
     },
     "execution_count": 69,
     "metadata": {},
     "output_type": "execute_result"
    }
   ],
   "source": [
    "\"\"\"\n",
    "Exercise 3: Statistical Operations\n",
    "Generate a 1D array of 20 random integers between 1 and 100.\n",
    "Calculate the mean, median, standard deviation, and sum of this array.\n",
    "Find the maximum and minimum values and their indices.\n",
    "\"\"\"\n",
    "\n",
    "D_array = np.random.randint(1, 100, 20) #generating 20 random numbers \n",
    "D_array"
   ]
  },
  {
   "cell_type": "code",
   "execution_count": 70,
   "id": "e21f0ebb-5f21-47c4-b42e-4aa794a9620c",
   "metadata": {},
   "outputs": [
    {
     "data": {
      "text/plain": [
       "45.6"
      ]
     },
     "execution_count": 70,
     "metadata": {},
     "output_type": "execute_result"
    }
   ],
   "source": [
    "#calculating mean\n",
    "np.mean(D_array)"
   ]
  },
  {
   "cell_type": "code",
   "execution_count": 71,
   "id": "dcc5fad7-831b-4243-a862-0a7fc275baa1",
   "metadata": {},
   "outputs": [
    {
     "data": {
      "text/plain": [
       "35.5"
      ]
     },
     "execution_count": 71,
     "metadata": {},
     "output_type": "execute_result"
    }
   ],
   "source": [
    "#calculating median\n",
    "np.median(D_array)\n"
   ]
  },
  {
   "cell_type": "code",
   "execution_count": 18,
   "id": "331c8593-2447-41c1-ac57-db48edb2e082",
   "metadata": {},
   "outputs": [
    {
     "data": {
      "text/plain": [
       "28.755027386528432"
      ]
     },
     "execution_count": 18,
     "metadata": {},
     "output_type": "execute_result"
    }
   ],
   "source": [
    "#calculating standard deviation\n",
    "np.std(D_array)"
   ]
  },
  {
   "cell_type": "code",
   "execution_count": 19,
   "id": "68f71e34-64e4-48a3-a181-d4a9fedd9fd7",
   "metadata": {},
   "outputs": [
    {
     "data": {
      "text/plain": [
       "2839"
      ]
     },
     "execution_count": 19,
     "metadata": {},
     "output_type": "execute_result"
    }
   ],
   "source": [
    "np.sum(D_array)"
   ]
  },
  {
   "cell_type": "code",
   "execution_count": 23,
   "id": "bb16b2fa-f1bd-4142-99b9-3652c3b407d6",
   "metadata": {},
   "outputs": [
    {
     "name": "stdout",
     "output_type": "stream",
     "text": [
      "1\n"
     ]
    },
    {
     "data": {
      "text/plain": [
       "21"
      ]
     },
     "execution_count": 23,
     "metadata": {},
     "output_type": "execute_result"
    }
   ],
   "source": [
    "print(np.min(D_array)) #minimum value\n",
    "np.argmin(D_array) #index of min value"
   ]
  },
  {
   "cell_type": "code",
   "execution_count": 25,
   "id": "b648a8dc-886d-4385-bc1c-41f44f0cfbc5",
   "metadata": {},
   "outputs": [
    {
     "name": "stdout",
     "output_type": "stream",
     "text": [
      "99\n"
     ]
    },
    {
     "data": {
      "text/plain": [
       "22"
      ]
     },
     "execution_count": 25,
     "metadata": {},
     "output_type": "execute_result"
    }
   ],
   "source": [
    "print(np.max(D_array)) #maximun value\n",
    "np.argmax(D_array)     #index of max value"
   ]
  },
  {
   "cell_type": "code",
   "execution_count": null,
   "id": "1d903f39-a8b1-4574-9072-6f2669d2d2a4",
   "metadata": {},
   "outputs": [],
   "source": [
    "\"\"\"\n",
    "Exercise 2: Array Indexing and Slicing\n",
    "Create a 4x4 array with random integers between 10 and 50.\n",
    "Extract a 2x2 subarray from it (e.g., the center of the array).\n",
    "Replace all values greater than 30 with 0.\n",
    "\"\"\""
   ]
  },
  {
   "cell_type": "code",
   "execution_count": 42,
   "id": "f64a28bf-3577-4e62-980c-d5d88d325680",
   "metadata": {},
   "outputs": [
    {
     "data": {
      "text/plain": [
       "array([[[36, 34, 43, 18],\n",
       "        [35, 15, 35, 13],\n",
       "        [32, 42, 43, 48],\n",
       "        [13, 36, 17, 10]],\n",
       "\n",
       "       [[36, 28, 31, 33],\n",
       "        [12, 24, 26, 23],\n",
       "        [27, 33, 24, 23],\n",
       "        [26, 24, 26, 28]],\n",
       "\n",
       "       [[25, 47, 40, 24],\n",
       "        [37, 29, 39, 29],\n",
       "        [17, 20, 22, 48],\n",
       "        [13, 32, 21, 29]],\n",
       "\n",
       "       [[49, 37, 26, 24],\n",
       "        [13, 49, 22, 41],\n",
       "        [42, 43, 24, 15],\n",
       "        [40, 27, 43, 45]]])"
      ]
     },
     "execution_count": 42,
     "metadata": {},
     "output_type": "execute_result"
    }
   ],
   "source": [
    "array_4x4 = np.random.randint(10,50,(4,4,4)) #creating 4x4 array using random function\n",
    "array_4x4\n"
   ]
  },
  {
   "cell_type": "code",
   "execution_count": 43,
   "id": "8ab48ffb-4690-42fc-94b6-acb8a1de66ef",
   "metadata": {},
   "outputs": [
    {
     "data": {
      "text/plain": [
       "array([[74, 63],\n",
       "       [88, 67],\n",
       "       [24, 99],\n",
       "       [77, 95]])"
      ]
     },
     "execution_count": 43,
     "metadata": {},
     "output_type": "execute_result"
    }
   ],
   "source": [
    "array_4x2 = np.random.randint(1, 100, (4,2)) #4x2 random generated array\n",
    "array_4x2"
   ]
  },
  {
   "cell_type": "code",
   "execution_count": 47,
   "id": "7f24b760-5f34-4340-ad16-73497aa66340",
   "metadata": {},
   "outputs": [
    {
     "data": {
      "text/plain": [
       "array([[[36, 34],\n",
       "        [35, 15]],\n",
       "\n",
       "       [[36, 28],\n",
       "        [12, 24]]])"
      ]
     },
     "execution_count": 47,
     "metadata": {},
     "output_type": "execute_result"
    }
   ],
   "source": [
    "array_2x2 = array_4x4[:2, :2 , :2]\n",
    "array_2x2"
   ]
  },
  {
   "cell_type": "code",
   "execution_count": 51,
   "id": "e0cc76ec-9653-4591-b2a3-286b2715973b",
   "metadata": {},
   "outputs": [
    {
     "data": {
      "text/plain": [
       "array([[[ 0,  0,  0, 18],\n",
       "        [ 0, 15,  0, 13],\n",
       "        [ 0,  0,  0,  0],\n",
       "        [13,  0, 17, 10]],\n",
       "\n",
       "       [[ 0, 28,  0,  0],\n",
       "        [12, 24, 26, 23],\n",
       "        [27,  0, 24, 23],\n",
       "        [26, 24, 26, 28]],\n",
       "\n",
       "       [[25,  0,  0, 24],\n",
       "        [ 0, 29,  0, 29],\n",
       "        [17, 20, 22,  0],\n",
       "        [13,  0, 21, 29]],\n",
       "\n",
       "       [[ 0,  0, 26, 24],\n",
       "        [13,  0, 22,  0],\n",
       "        [ 0,  0, 24, 15],\n",
       "        [ 0, 27,  0,  0]]])"
      ]
     },
     "execution_count": 51,
     "metadata": {},
     "output_type": "execute_result"
    }
   ],
   "source": [
    "array_4x4[array_4x4 > 30] = 0\n",
    "array_4x4"
   ]
  },
  {
   "cell_type": "code",
   "execution_count": null,
   "id": "0deae6e5-dc36-400c-95ac-42f0c0f58982",
   "metadata": {},
   "outputs": [],
   "source": []
  },
  {
   "cell_type": "code",
   "execution_count": 53,
   "id": "948a079c-34dd-40ea-9c32-9c24b35cc3f7",
   "metadata": {},
   "outputs": [
    {
     "data": {
      "text/plain": [
       "array([[[[0.13793889, 0.83106716],\n",
       "         [0.70502737, 0.17729292],\n",
       "         [0.61116274, 0.63964805],\n",
       "         [0.82328724, 0.03024709]],\n",
       "\n",
       "        [[0.89266105, 0.29035926],\n",
       "         [0.55140823, 0.2389897 ],\n",
       "         [0.08019672, 0.43998056],\n",
       "         [0.58862626, 0.29152655]],\n",
       "\n",
       "        [[0.05655225, 0.16764797],\n",
       "         [0.22683235, 0.99242653],\n",
       "         [0.03522831, 0.99375582],\n",
       "         [0.80003309, 0.95552964]]],\n",
       "\n",
       "\n",
       "       [[[0.83984893, 0.39870066],\n",
       "         [0.11214375, 0.93890465],\n",
       "         [0.42544386, 0.69988322],\n",
       "         [0.37136251, 0.71579504]],\n",
       "\n",
       "        [[0.52478115, 0.089217  ],\n",
       "         [0.14965759, 0.31278627],\n",
       "         [0.75856483, 0.64706576],\n",
       "         [0.23269405, 0.4765301 ]],\n",
       "\n",
       "        [[0.4671419 , 0.33700912],\n",
       "         [0.18370885, 0.21668641],\n",
       "         [0.49220199, 0.75012458],\n",
       "         [0.97553785, 0.03206559]]]])"
      ]
     },
     "execution_count": 53,
     "metadata": {},
     "output_type": "execute_result"
    }
   ],
   "source": [
    "dan = np.random.rand(2, 3, 4, 2)\n",
    "dan"
   ]
  },
  {
   "cell_type": "code",
   "execution_count": null,
   "id": "1fdeb6a0-e5a5-4ed0-bcc1-02a39d6f60d1",
   "metadata": {},
   "outputs": [],
   "source": [
    "\"\"\"\n",
    "Exercise 4: Using Universal Functions (ufuncs)\n",
    "Create an array of 10 values evenly spaced between 0 and π.\n",
    "Apply the sin and cos functions to this array.\n",
    "Round the results to two decimal places.\n",
    "\"\"\""
   ]
  },
  {
   "cell_type": "code",
   "execution_count": 95,
   "id": "91bc74ef-53e6-4730-b16f-712fb97ed903",
   "metadata": {},
   "outputs": [
    {
     "name": "stdout",
     "output_type": "stream",
     "text": [
      "[0.00000000e+00 3.42020143e-01 6.42787610e-01 8.66025404e-01\n",
      " 9.84807753e-01 9.84807753e-01 8.66025404e-01 6.42787610e-01\n",
      " 3.42020143e-01 1.22464680e-16]\n",
      "[ 1.          0.93969262  0.76604444  0.5         0.17364818 -0.17364818\n",
      " -0.5        -0.76604444 -0.93969262 -1.        ]\n"
     ]
    }
   ],
   "source": [
    "numberss = np.linspace(0, np.pi, 10) # generate array od values evenly spaced between 0 and pi\n",
    "sine_numbers = np.sin(numberss) #cosine \n",
    "print(sine_numbers)\n",
    "cos_numbers = np.cos(numberss) #sine \n",
    "print(cos_numbers)\n"
   ]
  },
  {
   "cell_type": "code",
   "execution_count": 101,
   "id": "c5bfea5b-7d4c-4fa2-a7d7-33426405ba69",
   "metadata": {},
   "outputs": [
    {
     "data": {
      "text/plain": [
       "array([0.  , 0.34, 0.64, 0.87, 0.98, 0.98, 0.87, 0.64, 0.34, 0.  ])"
      ]
     },
     "execution_count": 101,
     "metadata": {},
     "output_type": "execute_result"
    }
   ],
   "source": [
    "np.round(cos_numbers, 2)\n",
    "np.round(sine_numbers, 2)"
   ]
  },
  {
   "cell_type": "code",
   "execution_count": null,
   "id": "1dcd00e2-dc4c-4784-9b1c-4e8bf68548ce",
   "metadata": {},
   "outputs": [],
   "source": []
  }
 ],
 "metadata": {
  "kernelspec": {
   "display_name": "Python 3 (ipykernel)",
   "language": "python",
   "name": "python3"
  },
  "language_info": {
   "codemirror_mode": {
    "name": "ipython",
    "version": 3
   },
   "file_extension": ".py",
   "mimetype": "text/x-python",
   "name": "python",
   "nbconvert_exporter": "python",
   "pygments_lexer": "ipython3",
   "version": "3.12.4"
  }
 },
 "nbformat": 4,
 "nbformat_minor": 5
}
