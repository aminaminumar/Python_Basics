{
 "cells": [
  {
   "cell_type": "markdown",
   "id": "a09daa3c-6ffc-4a9a-b306-df60cf40126e",
   "metadata": {},
   "source": [
    "CLASSES and INHERITANCE"
   ]
  },
  {
   "cell_type": "code",
   "execution_count": 64,
   "id": "464e7695-1a71-4c07-bc49-5134682d9591",
   "metadata": {},
   "outputs": [],
   "source": [
    "#creating a class\n",
    "class Person:\n",
    "    def __init__(self, name, age, tribe):\n",
    "        #creating attributes for Person class\n",
    "        self.name = name\n",
    "        self.age = age\n",
    "        self.tribe = tribe\n",
    "\n",
    "    #date of birth method\n",
    "    def date_of_birth(self):\n",
    "        return 2024 - self.age\n",
    "\n",
    "    #project age\n",
    "    def project_age(self, years = 4):\n",
    "        return self.age + years\n",
    "        "
   ]
  },
  {
   "cell_type": "code",
   "execution_count": 65,
   "id": "b7798c81-a75d-492b-8af2-d486f14dc386",
   "metadata": {},
   "outputs": [
    {
     "name": "stdout",
     "output_type": "stream",
     "text": [
      "Mufeeda\n",
      "24\n"
     ]
    }
   ],
   "source": [
    "#creating an instance of Person Class\n",
    "new_person =  Person('Mufeeda', 24, 'Hausa')\n",
    "\n",
    "#accessing a class atrribute\n",
    "print(new_person.name)\n",
    "print(new_person.age)\n",
    "# new_person.tribe"
   ]
  },
  {
   "cell_type": "code",
   "execution_count": 66,
   "id": "3ec4e4e6-3f23-4d8a-8390-608a1b4b5901",
   "metadata": {},
   "outputs": [
    {
     "data": {
      "text/plain": [
       "2000"
      ]
     },
     "execution_count": 66,
     "metadata": {},
     "output_type": "execute_result"
    }
   ],
   "source": [
    "#run a method\n",
    "new_person.date_of_birth()"
   ]
  },
  {
   "cell_type": "code",
   "execution_count": 67,
   "id": "9694a69a-1fde-4144-a925-901963c6de79",
   "metadata": {},
   "outputs": [
    {
     "data": {
      "text/plain": [
       "28"
      ]
     },
     "execution_count": 67,
     "metadata": {},
     "output_type": "execute_result"
    }
   ],
   "source": [
    "new_person.project_age()"
   ]
  },
  {
   "cell_type": "markdown",
   "id": "4c22e571-9b2c-4215-8c66-991ac9c1f5ed",
   "metadata": {},
   "source": [
    "#inheritance : \n",
    "# PARENt is a class passing down attribtes and methods - Person\n",
    "# CHILD is the class inheriting the methods and attributes - astronaut"
   ]
  },
  {
   "cell_type": "code",
   "execution_count": null,
   "id": "16d3b069-6110-4c2f-a879-0499a5d53eae",
   "metadata": {},
   "outputs": [],
   "source": []
  },
  {
   "cell_type": "markdown",
   "id": "78175d23-8598-45b8-9a0d-92b3dcad14c6",
   "metadata": {},
   "source": [
    "Modules"
   ]
  },
  {
   "cell_type": "code",
   "execution_count": 69,
   "id": "7894a91d-9065-4869-b45a-7fdc50dd4a2b",
   "metadata": {},
   "outputs": [],
   "source": [
    "#import launc_codes function\n",
    "from helpers import lunch_codes"
   ]
  },
  {
   "cell_type": "code",
   "execution_count": 71,
   "id": "b6a7b494-e3ca-4de9-b3e3-b658511aff25",
   "metadata": {},
   "outputs": [
    {
     "data": {
      "text/plain": [
       "123456789"
      ]
     },
     "execution_count": 71,
     "metadata": {},
     "output_type": "execute_result"
    }
   ],
   "source": [
    "lunch_codes()"
   ]
  },
  {
   "cell_type": "code",
   "execution_count": null,
   "id": "34a0a3ff-5fdb-4ddd-9a6f-cb5f961534c5",
   "metadata": {},
   "outputs": [],
   "source": []
  }
 ],
 "metadata": {
  "kernelspec": {
   "display_name": "Python 3 (ipykernel)",
   "language": "python",
   "name": "python3"
  },
  "language_info": {
   "codemirror_mode": {
    "name": "ipython",
    "version": 3
   },
   "file_extension": ".py",
   "mimetype": "text/x-python",
   "name": "python",
   "nbconvert_exporter": "python",
   "pygments_lexer": "ipython3",
   "version": "3.12.4"
  }
 },
 "nbformat": 4,
 "nbformat_minor": 5
}
