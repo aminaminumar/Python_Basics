{
 "cells": [
  {
   "cell_type": "code",
   "execution_count": 1,
   "id": "77a144fa-de28-4f55-a978-4cd3ec2dc0f3",
   "metadata": {},
   "outputs": [
    {
     "name": "stdin",
     "output_type": "stream",
     "text": [
      "max iteration 2\n"
     ]
    },
    {
     "name": "stdout",
     "output_type": "stream",
     "text": [
      "1\n",
      "this is the iteration: 1\n"
     ]
    }
   ],
   "source": [
    "x = int(input(\"max iteration\"))\n",
    "i = 1\n",
    "while i < x:\n",
    "    print(i**2)\n",
    "    print(\"this is the iteration:\", i)\n",
    "    i +=1 "
   ]
  },
  {
   "cell_type": "code",
   "execution_count": 2,
   "id": "e2634172-8f51-4167-9fee-27df49efc8c9",
   "metadata": {},
   "outputs": [
    {
     "name": "stdin",
     "output_type": "stream",
     "text": [
      " 4\n"
     ]
    },
    {
     "name": "stdout",
     "output_type": "stream",
     "text": [
      "2\n",
      "done\n"
     ]
    }
   ],
   "source": [
    "n = int(input())\n",
    "i = 1\n",
    "while i < n:\n",
    "    if i%2 == 0:\n",
    "        print(i)\n",
    "    else:\n",
    "        pass\n",
    "    i += 1\n",
    "print(\"done\")"
   ]
  },
  {
   "cell_type": "code",
   "execution_count": null,
   "id": "86759bc4-b4d2-4706-8b93-c4be939f3dcb",
   "metadata": {},
   "outputs": [
    {
     "name": "stdout",
     "output_type": "stream",
     "text": [
      "if\n",
      "if\n",
      "if\n",
      "if\n",
      "if\n",
      "if\n",
      "if\n",
      "if\n"
     ]
    }
   ],
   "source": [
    "n = 10\n",
    "i = 1\n",
    "while i < n:\n",
    "    if i%9 != 0:\n",
    "        print(\"if\")\n",
    "        i+=1\n",
    "        continue\n",
    "        print(\"inside if\")\n",
    "        break\n",
    "print(\"done\")"
   ]
  },
  {
   "cell_type": "code",
   "execution_count": null,
   "id": "8c4ce0e4-60ba-4421-8096-074c19ea258e",
   "metadata": {},
   "outputs": [],
   "source": [
    "L = []\n",
    "for i in range(10)\"\n",
    "    print(i+1)\n",
    "    L.append(i**2)\n",
    "print(L)"
   ]
  },
  {
   "cell_type": "code",
   "execution_count": null,
   "id": "13086bd3-897f-4020-b599-b1ee640489cd",
   "metadata": {},
   "outputs": [],
   "source": []
  },
  {
   "cell_type": "code",
   "execution_count": null,
   "id": "739ab2d6-b7e5-4214-9d2f-e74320fa8f2c",
   "metadata": {},
   "outputs": [],
   "source": []
  }
 ],
 "metadata": {
  "kernelspec": {
   "display_name": "Python 3 (ipykernel)",
   "language": "python",
   "name": "python3"
  },
  "language_info": {
   "codemirror_mode": {
    "name": "ipython",
    "version": 3
   },
   "file_extension": ".py",
   "mimetype": "text/x-python",
   "name": "python",
   "nbconvert_exporter": "python",
   "pygments_lexer": "ipython3",
   "version": "3.12.4"
  }
 },
 "nbformat": 4,
 "nbformat_minor": 5
}
