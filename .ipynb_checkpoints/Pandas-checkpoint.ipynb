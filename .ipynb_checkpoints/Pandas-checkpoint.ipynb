{
 "cells": [
  {
   "cell_type": "code",
   "execution_count": 3,
   "id": "605dba33-0ce5-4ba8-8245-c44b1dcd736e",
   "metadata": {},
   "outputs": [],
   "source": [
    "import pandas as pd"
   ]
  },
  {
   "cell_type": "code",
   "execution_count": 10,
   "id": "fe93076c-8279-4416-9b4e-f5ab2f2c2ad9",
   "metadata": {},
   "outputs": [
    {
     "name": "stdout",
     "output_type": "stream",
     "text": [
      "2.2.2\n"
     ]
    }
   ],
   "source": [
    "print(pd.__version__)"
   ]
  },
  {
   "cell_type": "code",
   "execution_count": 12,
   "id": "d53edcbc-8aa5-4de3-8be4-2d9c29e0e7ea",
   "metadata": {},
   "outputs": [
    {
     "data": {
      "text/plain": [
       "a    Amina\n",
       "b    Aminu\n",
       "c     Umar\n",
       "dtype: object"
      ]
     },
     "execution_count": 12,
     "metadata": {},
     "output_type": "execute_result"
    }
   ],
   "source": [
    "A = pd.Series(['Amina', 'Aminu', 'Umar'],index = ['a', 'b', 'c']) \n",
    "A"
   ]
  },
  {
   "cell_type": "code",
   "execution_count": 13,
   "id": "93ae255b-ec5d-45c2-ad5b-bef5868c5c67",
   "metadata": {},
   "outputs": [
    {
     "data": {
      "text/plain": [
       "'Aminu'"
      ]
     },
     "execution_count": 13,
     "metadata": {},
     "output_type": "execute_result"
    }
   ],
   "source": [
    "A['b']"
   ]
  },
  {
   "cell_type": "code",
   "execution_count": 14,
   "id": "43225fea-f087-4b12-abde-63a5a4bc55f2",
   "metadata": {},
   "outputs": [
    {
     "data": {
      "text/plain": [
       "b    Aminu\n",
       "c     Umar\n",
       "dtype: object"
      ]
     },
     "execution_count": 14,
     "metadata": {},
     "output_type": "execute_result"
    }
   ],
   "source": [
    "A['b':'c']"
   ]
  },
  {
   "cell_type": "code",
   "execution_count": 16,
   "id": "9291b711-d465-49b2-9a57-2d39036c690e",
   "metadata": {},
   "outputs": [],
   "source": [
    "grades = {'A': 80, 'B': 75, 'C': 50, 'D': 40}\n",
    "grades_pd = pd.Series(grades)"
   ]
  }
 ],
 "metadata": {
  "kernelspec": {
   "display_name": "Python 3 (ipykernel)",
   "language": "python",
   "name": "python3"
  },
  "language_info": {
   "codemirror_mode": {
    "name": "ipython",
    "version": 3
   },
   "file_extension": ".py",
   "mimetype": "text/x-python",
   "name": "python",
   "nbconvert_exporter": "python",
   "pygments_lexer": "ipython3",
   "version": "3.12.4"
  }
 },
 "nbformat": 4,
 "nbformat_minor": 5
}
