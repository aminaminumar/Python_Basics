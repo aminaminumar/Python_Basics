{
 "cells": [
  {
   "cell_type": "markdown",
   "id": "cda30b72-76cc-4ac2-b973-a08601891867",
   "metadata": {},
   "source": [
    "DATA STRUCTURES"
   ]
  },
  {
   "cell_type": "code",
   "execution_count": 1,
   "id": "a9a3c46d-a7c8-490a-a28b-8276e4d7162e",
   "metadata": {},
   "outputs": [],
   "source": [
    "L = [1,2,3,4,\"name\",3.4]"
   ]
  },
  {
   "cell_type": "markdown",
   "id": "4396e97d-148c-4d01-b7d8-760337e70301",
   "metadata": {},
   "source": [
    "Tuple"
   ]
  },
  {
   "cell_type": "code",
   "execution_count": 2,
   "id": "79135f07-e7bd-408e-8b5f-96e9dc841eec",
   "metadata": {},
   "outputs": [],
   "source": [
    "T = (1,3,5,\"name\",3)"
   ]
  },
  {
   "cell_type": "markdown",
   "id": "8ab30610-dfe8-446f-8a97-7d4e354f9f67",
   "metadata": {},
   "source": [
    "Set"
   ]
  },
  {
   "cell_type": "code",
   "execution_count": 3,
   "id": "c8dd9f38-5e38-452b-b5ce-a9f4ac5e59d7",
   "metadata": {},
   "outputs": [],
   "source": [
    "S = {1,2,3,\"name\"}"
   ]
  },
  {
   "cell_type": "markdown",
   "id": "c63da0a2-ea38-4e1d-b151-1849284ea11a",
   "metadata": {},
   "source": [
    "Dictionary"
   ]
  },
  {
   "cell_type": "code",
   "execution_count": 5,
   "id": "af0baf04-d6da-4f1d-b3a4-ff62eafb0dae",
   "metadata": {},
   "outputs": [],
   "source": [
    "D = {\"A\":1, 23:\"twentythree\", 'b':\"bobo\"}"
   ]
  },
  {
   "cell_type": "markdown",
   "id": "41a81af5-fadf-4ee5-916c-35090e81dd85",
   "metadata": {},
   "source": [
    "Accessing Elements"
   ]
  },
  {
   "cell_type": "code",
   "execution_count": 6,
   "id": "b40b1291-45a0-4fe8-83bd-8910b252de69",
   "metadata": {},
   "outputs": [
    {
     "name": "stdout",
     "output_type": "stream",
     "text": [
      "3\n",
      "3\n",
      "True\n",
      "twentythree\n"
     ]
    }
   ],
   "source": [
    "print(L[2])\n",
    "print(T[1])\n",
    "print(3 in S)\n",
    "print(D[23])"
   ]
  },
  {
   "cell_type": "code",
   "execution_count": 7,
   "id": "54aab8fe-cc43-4e81-9e4a-ad2fb903b2ad",
   "metadata": {},
   "outputs": [
    {
     "name": "stdout",
     "output_type": "stream",
     "text": [
      "bobo\n"
     ]
    }
   ],
   "source": [
    "print(D['b'])"
   ]
  },
  {
   "cell_type": "code",
   "execution_count": 8,
   "id": "23cd6ba9-382e-432d-95c4-1438035d25ec",
   "metadata": {},
   "outputs": [
    {
     "data": {
      "text/plain": [
       "[2, 3]"
      ]
     },
     "execution_count": 8,
     "metadata": {},
     "output_type": "execute_result"
    }
   ],
   "source": [
    "L[1:3]"
   ]
  },
  {
   "cell_type": "code",
   "execution_count": 9,
   "id": "0e20dc36-5ad0-4c77-be49-f9640819351b",
   "metadata": {},
   "outputs": [
    {
     "data": {
      "text/plain": [
       "[3.4, 'name', 4, 3, 2, 1]"
      ]
     },
     "execution_count": 9,
     "metadata": {},
     "output_type": "execute_result"
    }
   ],
   "source": [
    "L[::-1]"
   ]
  },
  {
   "cell_type": "code",
   "execution_count": 10,
   "id": "705e8c6c-a9d7-4319-857c-55779e8fb53f",
   "metadata": {},
   "outputs": [
    {
     "data": {
      "text/plain": [
       "(1, 3, 5, 'name')"
      ]
     },
     "execution_count": 10,
     "metadata": {},
     "output_type": "execute_result"
    }
   ],
   "source": [
    "T[:4]"
   ]
  },
  {
   "cell_type": "code",
   "execution_count": 11,
   "id": "af5e444f-4576-4f7d-b8aa-b479fb554572",
   "metadata": {},
   "outputs": [
    {
     "name": "stdout",
     "output_type": "stream",
     "text": [
      "[1, 2, 3, 4, 'name', 3.4, 'game']\n"
     ]
    }
   ],
   "source": [
    "L = L+[\"game\"]\n",
    "print(L)"
   ]
  },
  {
   "cell_type": "code",
   "execution_count": 12,
   "id": "8e7e79c8-4fbf-4511-b468-c7f7e307f5b7",
   "metadata": {},
   "outputs": [],
   "source": [
    "L[2]=5"
   ]
  },
  {
   "cell_type": "code",
   "execution_count": 13,
   "id": "e63a24c8-94f3-405b-a1fb-3f56030e7841",
   "metadata": {},
   "outputs": [
    {
     "name": "stdout",
     "output_type": "stream",
     "text": [
      "[1, 2, 5, 4, 'name', 3.4, 'game']\n"
     ]
    }
   ],
   "source": [
    "print(L)"
   ]
  },
  {
   "cell_type": "code",
   "execution_count": 15,
   "id": "743db257-2c19-481c-8b77-e7f293d086f9",
   "metadata": {},
   "outputs": [
    {
     "name": "stdout",
     "output_type": "stream",
     "text": [
      "[1, 2, 5, 4, 'name', 3.4, 'game', 3.4]\n"
     ]
    }
   ],
   "source": [
    "L.append(3.4)\n",
    "print(L)"
   ]
  },
  {
   "cell_type": "code",
   "execution_count": 17,
   "id": "4b118ead-5918-4b0b-8222-c4dd9b116776",
   "metadata": {},
   "outputs": [
    {
     "name": "stdout",
     "output_type": "stream",
     "text": [
      "{1, 2, 3, 'name'}\n"
     ]
    }
   ],
   "source": [
    "print(S)"
   ]
  },
  {
   "cell_type": "code",
   "execution_count": 20,
   "id": "0a61301c-6721-4a07-8844-63555074d333",
   "metadata": {},
   "outputs": [
    {
     "name": "stdout",
     "output_type": "stream",
     "text": [
      "{1, 2, 3, 4, 'hello', 'name'}\n"
     ]
    }
   ],
   "source": [
    "S.update({4, \"hello\", 1})\n",
    "print(S)"
   ]
  },
  {
   "cell_type": "code",
   "execution_count": 21,
   "id": "760e3051-322c-4577-94d3-689a9fe7d4f4",
   "metadata": {},
   "outputs": [
    {
     "data": {
      "text/plain": [
       "{'A': 1, 23: 'twentythree', 'b': 'bobo'}"
      ]
     },
     "execution_count": 21,
     "metadata": {},
     "output_type": "execute_result"
    }
   ],
   "source": [
    "D"
   ]
  },
  {
   "cell_type": "code",
   "execution_count": 22,
   "id": "72145245-5570-469a-bafa-3eb523da9971",
   "metadata": {},
   "outputs": [],
   "source": [
    "D['newkey'] = 'newval'"
   ]
  },
  {
   "cell_type": "code",
   "execution_count": 23,
   "id": "8bfdb36a-ebd2-4160-b543-3710b20fdf69",
   "metadata": {},
   "outputs": [
    {
     "data": {
      "text/plain": [
       "{'A': 1, 23: 'twentythree', 'b': 'bobo', 'newkey': 'newval'}"
      ]
     },
     "execution_count": 23,
     "metadata": {},
     "output_type": "execute_result"
    }
   ],
   "source": [
    "D"
   ]
  },
  {
   "cell_type": "code",
   "execution_count": 24,
   "id": "c9598428-9ebd-46a4-9c16-9c9e877ede93",
   "metadata": {},
   "outputs": [],
   "source": [
    "D2 = {\"name\": \"Amina\", \"age\": 25, \"status\": \"married\"}"
   ]
  },
  {
   "cell_type": "code",
   "execution_count": 29,
   "id": "92e957a7-90c9-4be4-bb88-5e14e635df50",
   "metadata": {},
   "outputs": [
    {
     "name": "stdout",
     "output_type": "stream",
     "text": [
      "{'A': 1, 23: 'twentythree', 'b': 'bobo', 'newkey': 'newval', 'name': 'Amina', 'age': 25, 'status': 'married'}\n"
     ]
    }
   ],
   "source": [
    "D.update(D2)\n",
    "print(D)"
   ]
  },
  {
   "cell_type": "code",
   "execution_count": 26,
   "id": "53ca74ad-ceed-47dd-a041-622b0990adaa",
   "metadata": {},
   "outputs": [],
   "source": [
    "del L[3]"
   ]
  },
  {
   "cell_type": "code",
   "execution_count": 27,
   "id": "49b8121e-b593-40b2-889d-720ea45e2851",
   "metadata": {},
   "outputs": [],
   "source": [
    "S.remove(\"hello\")"
   ]
  },
  {
   "cell_type": "code",
   "execution_count": 30,
   "id": "c16833b7-d3b9-4372-9258-825fe696343e",
   "metadata": {},
   "outputs": [
    {
     "data": {
      "text/plain": [
       "[1, 2, 5, 'name', 3.4, 'game', 3.4]"
      ]
     },
     "execution_count": 30,
     "metadata": {},
     "output_type": "execute_result"
    }
   ],
   "source": [
    "L"
   ]
  },
  {
   "cell_type": "code",
   "execution_count": 32,
   "id": "0659d2b2-ad6f-4603-bf6c-463233afa9b3",
   "metadata": {},
   "outputs": [],
   "source": [
    "Dic ={'A': L, 'B': D2, \"Set\": S, 'd':D} "
   ]
  },
  {
   "cell_type": "code",
   "execution_count": 33,
   "id": "2a470805-ebe2-4632-b732-287e71c03948",
   "metadata": {},
   "outputs": [
    {
     "data": {
      "text/plain": [
       "{'A': [1, 2, 5, 'name', 3.4, 'game', 3.4],\n",
       " 'B': {'name': 'Amina', 'age': 25, 'status': 'married'},\n",
       " 'Set': {1, 2, 3, 4, 'name'},\n",
       " 'd': {'A': 1,\n",
       "  23: 'twentythree',\n",
       "  'b': 'bobo',\n",
       "  'newkey': 'newval',\n",
       "  'name': 'Amina',\n",
       "  'age': 25,\n",
       "  'status': 'married'}}"
      ]
     },
     "execution_count": 33,
     "metadata": {},
     "output_type": "execute_result"
    }
   ],
   "source": [
    "Dic"
   ]
  },
  {
   "cell_type": "code",
   "execution_count": 34,
   "id": "1437d15e-90e0-4cde-ae9d-d694e1807d00",
   "metadata": {},
   "outputs": [],
   "source": [
    "L2 = [x**2 for x in range(10)]"
   ]
  },
  {
   "cell_type": "code",
   "execution_count": 35,
   "id": "2f34e4f8-19df-4b14-9071-9cd871c2901b",
   "metadata": {},
   "outputs": [
    {
     "data": {
      "text/plain": [
       "[0, 1, 4, 9, 16, 25, 36, 49, 64, 81]"
      ]
     },
     "execution_count": 35,
     "metadata": {},
     "output_type": "execute_result"
    }
   ],
   "source": [
    "L2"
   ]
  },
  {
   "cell_type": "code",
   "execution_count": 42,
   "id": "f402a95e-c9f2-4b67-97d2-135e99665961",
   "metadata": {},
   "outputs": [],
   "source": [
    "S2 = {x+2 for x in range(3,20,2)}"
   ]
  },
  {
   "cell_type": "code",
   "execution_count": 43,
   "id": "9e7ff901-1f00-4e42-8693-08e79372de94",
   "metadata": {},
   "outputs": [
    {
     "data": {
      "text/plain": [
       "{5, 7, 9, 11, 13, 15, 17, 19, 21}"
      ]
     },
     "execution_count": 43,
     "metadata": {},
     "output_type": "execute_result"
    }
   ],
   "source": [
    "S2"
   ]
  },
  {
   "cell_type": "code",
   "execution_count": 44,
   "id": "479ef53b-e874-4ab3-9f01-21788b3b497d",
   "metadata": {},
   "outputs": [
    {
     "data": {
      "text/plain": [
       "False"
      ]
     },
     "execution_count": 44,
     "metadata": {},
     "output_type": "execute_result"
    }
   ],
   "source": [
    "20 in D"
   ]
  },
  {
   "cell_type": "code",
   "execution_count": 45,
   "id": "967d07a9-1782-4a7f-b31c-ce29010c7b13",
   "metadata": {},
   "outputs": [
    {
     "data": {
      "text/plain": [
       "True"
      ]
     },
     "execution_count": 45,
     "metadata": {},
     "output_type": "execute_result"
    }
   ],
   "source": [
    "23 in D"
   ]
  },
  {
   "cell_type": "code",
   "execution_count": 46,
   "id": "21ef45ca-31c5-4cb2-bb6b-93391f3079c4",
   "metadata": {},
   "outputs": [
    {
     "data": {
      "text/plain": [
       "True"
      ]
     },
     "execution_count": 46,
     "metadata": {},
     "output_type": "execute_result"
    }
   ],
   "source": [
    "11 in S2"
   ]
  },
  {
   "cell_type": "code",
   "execution_count": 1,
   "id": "326d73e5-de37-4604-8fde-bef14a5c0f78",
   "metadata": {},
   "outputs": [],
   "source": [
    "\"\"\"lets say youre a teacher, with diff student record containing ID of student\n",
    "    and the marks list in each subject where diff students have taken diff no of \n",
    "    subject and all this record are in hard copy, you want to enter all data in \n",
    "    computer and want to compute the average marks of each student and display\n",
    "\"\"\"\n",
    "def getDataFromTeacher():\n",
    "    D = {}\n",
    "    while True:\n",
    "        studentId = input(\"enter student ID: \")\n",
    "        marksList = input(\"enter marks and seperate with comma: \")\n",
    "        moreStudents = input('enter \"no\" to quit insertion: ')\n",
    "        if studentId in D:\n",
    "            print(studentId, \"is already inserted\")\n",
    "        else:\n",
    "            D[studentId] = marksList.split(\",\")\n",
    "        if moreStudents.lower() == \"no\":\n",
    "            return D"
   ]
  },
  {
   "cell_type": "code",
   "execution_count": 3,
   "id": "2640e366-189e-4b14-983c-5becc86a1f4a",
   "metadata": {},
   "outputs": [
    {
     "name": "stdin",
     "output_type": "stream",
     "text": [
      "enter student ID:  12\n",
      "enter marks and seperate with comma:  24,56,87,90\n",
      "enter \"no\" to quit insertion:  hjk\n",
      "enter student ID:  13\n",
      "enter marks and seperate with comma:  45,90,89,56\n",
      "enter \"no\" to quit insertion:  rrr\n",
      "enter student ID:  14\n",
      "enter marks and seperate with comma:  45,34,12,51\n",
      "enter \"no\" to quit insertion:  aaa\n",
      "enter student ID:  12\n",
      "enter marks and seperate with comma:  23,45,45\n",
      "enter \"no\" to quit insertion:  no\n"
     ]
    },
    {
     "name": "stdout",
     "output_type": "stream",
     "text": [
      "12 is already inserted\n"
     ]
    }
   ],
   "source": [
    "studentdata = getDataFromTeacher()"
   ]
  },
  {
   "cell_type": "code",
   "execution_count": 4,
   "id": "a5da7d5f-2bad-4916-ab84-780cda2cfd82",
   "metadata": {},
   "outputs": [
    {
     "data": {
      "text/plain": [
       "{'12': ['24', '56', '87', '90'],\n",
       " '13': ['45', '90', '89', '56'],\n",
       " '14': ['45', '34', '12', '51']}"
      ]
     },
     "execution_count": 4,
     "metadata": {},
     "output_type": "execute_result"
    }
   ],
   "source": [
    "studentdata"
   ]
  },
  {
   "cell_type": "code",
   "execution_count": 17,
   "id": "a466569e-92d4-4d5b-b83b-1a295ebe2e5d",
   "metadata": {},
   "outputs": [],
   "source": [
    "def getAverage(D):\n",
    "    avgMarks = {}\n",
    "    for x in D:\n",
    "        L = D[x]\n",
    "        s = 0\n",
    "        for marks in L:\n",
    "            s += int(marks)\n",
    "        avgMarks[x] = s/len(L)\n",
    "    return avgMarks"
   ]
  },
  {
   "cell_type": "code",
   "execution_count": 18,
   "id": "503502ed-a420-4308-9f44-1b9bd660924e",
   "metadata": {},
   "outputs": [],
   "source": [
    "averageMarks = getAverage(studentdata)"
   ]
  },
  {
   "cell_type": "code",
   "execution_count": 19,
   "id": "b2c47861-95e7-4057-846f-524bf2e609b7",
   "metadata": {},
   "outputs": [
    {
     "name": "stdout",
     "output_type": "stream",
     "text": [
      "Student: 12 got average marks as: 64.25\n",
      "Student: 13 got average marks as: 70.0\n",
      "Student: 14 got average marks as: 35.5\n"
     ]
    }
   ],
   "source": [
    "for  x in averageMarks:\n",
    "    print(\"Student:\", x, 'got average marks as:', averageMarks[x])"
   ]
  },
  {
   "cell_type": "markdown",
   "id": "35d6ac01-23a2-401c-ba6c-8bc099b8e8ec",
   "metadata": {},
   "source": [
    "NUMPY PACKAGE"
   ]
  },
  {
   "cell_type": "code",
   "execution_count": 20,
   "id": "3168a9ea-c811-4fe7-acc4-4e5fe6442fa1",
   "metadata": {},
   "outputs": [],
   "source": [
    "import numpy as np"
   ]
  },
  {
   "cell_type": "code",
   "execution_count": 21,
   "id": "393130b6-caa6-44af-a2db-18c2c9f12775",
   "metadata": {},
   "outputs": [
    {
     "name": "stdout",
     "output_type": "stream",
     "text": [
      "[ 1  2  3 45  6]\n"
     ]
    },
    {
     "data": {
      "text/plain": [
       "numpy.ndarray"
      ]
     },
     "execution_count": 21,
     "metadata": {},
     "output_type": "execute_result"
    }
   ],
   "source": [
    "a = np.array([1,2,3,45,6], dtype = '1')\n",
    "b = np.array((2,4,6,8))\n",
    "print(a)\n",
    "type(a)\n",
    "type(b)"
   ]
  },
  {
   "cell_type": "code",
   "execution_count": 22,
   "id": "8d2adac2-8e0b-4b98-aed9-bea3118735e6",
   "metadata": {},
   "outputs": [
    {
     "data": {
      "text/plain": [
       "dtype('int32')"
      ]
     },
     "execution_count": 22,
     "metadata": {},
     "output_type": "execute_result"
    }
   ],
   "source": [
    "a.dtype"
   ]
  },
  {
   "cell_type": "code",
   "execution_count": 23,
   "id": "bb6b816b-1c92-4891-8482-5388b50ff4ca",
   "metadata": {},
   "outputs": [
    {
     "data": {
      "text/plain": [
       "dtype('int32')"
      ]
     },
     "execution_count": 23,
     "metadata": {},
     "output_type": "execute_result"
    }
   ],
   "source": [
    "b.dtype"
   ]
  },
  {
   "cell_type": "markdown",
   "id": "572be57c-a1f3-406a-b1dc-30acc93e4442",
   "metadata": {},
   "source": [
    "Numpy Dimensions"
   ]
  },
  {
   "cell_type": "code",
   "execution_count": 25,
   "id": "d0fa2e7b-d986-4c81-bdca-bd66ec76cb6d",
   "metadata": {},
   "outputs": [],
   "source": [
    "\n",
    "a = np.array([[1,2,3],[5,6,7]])"
   ]
  },
  {
   "cell_type": "code",
   "execution_count": 26,
   "id": "ce08084e-d2f9-4c7c-b113-9583a0cd6d63",
   "metadata": {},
   "outputs": [
    {
     "data": {
      "text/plain": [
       "2"
      ]
     },
     "execution_count": 26,
     "metadata": {},
     "output_type": "execute_result"
    }
   ],
   "source": [
    "a.ndim"
   ]
  },
  {
   "cell_type": "code",
   "execution_count": 27,
   "id": "c06e4c8f-af84-4334-adfc-8a02449b696a",
   "metadata": {},
   "outputs": [
    {
     "data": {
      "text/plain": [
       "3"
      ]
     },
     "execution_count": 27,
     "metadata": {},
     "output_type": "execute_result"
    }
   ],
   "source": [
    "a[0,2]"
   ]
  },
  {
   "cell_type": "code",
   "execution_count": 35,
   "id": "3ca60239-a63b-4ba4-81bc-ba0c377ba250",
   "metadata": {},
   "outputs": [
    {
     "data": {
      "text/plain": [
       "2"
      ]
     },
     "execution_count": 35,
     "metadata": {},
     "output_type": "execute_result"
    }
   ],
   "source": [
    "b = np.array([[0,1,2,4],[4,6,7,5],[5.4,24,2,7]])\n",
    "b.ndim"
   ]
  },
  {
   "cell_type": "code",
   "execution_count": 36,
   "id": "7550bb7d-d2a6-445d-b853-5f3932f21f7c",
   "metadata": {},
   "outputs": [
    {
     "data": {
      "text/plain": [
       "7.0"
      ]
     },
     "execution_count": 36,
     "metadata": {},
     "output_type": "execute_result"
    }
   ],
   "source": [
    "b[2,3]"
   ]
  },
  {
   "cell_type": "code",
   "execution_count": 45,
   "id": "1a7ef33f-6181-4ce5-9b2d-025b2eed6bc2",
   "metadata": {},
   "outputs": [
    {
     "data": {
      "text/plain": [
       "0.0"
      ]
     },
     "execution_count": 45,
     "metadata": {},
     "output_type": "execute_result"
    }
   ],
   "source": [
    "c = np.array([[[0,1,2,4],[4,6,7,5],[5.4,24,2,7]],[[1,2,3,0],[5,6,7,3],[8.5,4,3,0.9]]])\n",
    "c.ndim\n",
    "c[1,0,3]"
   ]
  },
  {
   "cell_type": "markdown",
   "id": "7b768ffb-7ead-4125-b910-9aafd4c1cc97",
   "metadata": {},
   "source": [
    "Numpy shape"
   ]
  },
  {
   "cell_type": "code",
   "execution_count": 46,
   "id": "dc6b3541-d276-4c3a-a039-9585527884a4",
   "metadata": {},
   "outputs": [
    {
     "data": {
      "text/plain": [
       "(2, 3, 4)"
      ]
     },
     "execution_count": 46,
     "metadata": {},
     "output_type": "execute_result"
    }
   ],
   "source": [
    "c.shape"
   ]
  },
  {
   "cell_type": "code",
   "execution_count": 47,
   "id": "124dfe68-898e-4fb0-b402-9a7840596bbf",
   "metadata": {},
   "outputs": [
    {
     "data": {
      "text/plain": [
       "24"
      ]
     },
     "execution_count": 47,
     "metadata": {},
     "output_type": "execute_result"
    }
   ],
   "source": [
    "c.size"
   ]
  },
  {
   "cell_type": "markdown",
   "id": "f56adfc6-1f82-49c8-8f1b-86638c731cf5",
   "metadata": {},
   "source": [
    "Numpy (np.arange , reshape, random)"
   ]
  },
  {
   "cell_type": "code",
   "execution_count": 50,
   "id": "0efd1d78-42f1-4e14-9fd3-266494244dbe",
   "metadata": {},
   "outputs": [
    {
     "name": "stdout",
     "output_type": "stream",
     "text": [
      "[ 0  1  2  3  4  5  6  7  8  9 10 11 12 13 14 15 16 17 18 19 20 21 22 23\n",
      " 24 25 26 27 28 29 30 31 32 33 34 35 36 37 38 39 40 41 42 43 44 45 46 47\n",
      " 48 49 50 51 52 53 54 55 56 57 58 59 60 61 62 63 64 65 66 67 68 69 70 71\n",
      " 72 73 74 75 76 77 78 79 80 81 82 83 84 85 86 87 88 89 90 91 92 93 94 95\n",
      " 96 97 98 99]\n"
     ]
    }
   ],
   "source": [
    "A = np.arange(100)\n",
    "print(A)"
   ]
  },
  {
   "cell_type": "code",
   "execution_count": 53,
   "id": "262d41ee-7bc3-40a1-ad12-2065b6411709",
   "metadata": {},
   "outputs": [
    {
     "name": "stdout",
     "output_type": "stream",
     "text": [
      "[50 51 52 53 54 55 56 57 58 59 60 61 62 63 64 65 66 67 68 69 70 71 72 73\n",
      " 74 75 76 77 78 79 80 81 82 83 84 85 86 87 88 89 90 91 92 93 94 95 96 97\n",
      " 98 99]\n"
     ]
    }
   ],
   "source": [
    "B = np.arange(50,100)\n",
    "print(B)"
   ]
  },
  {
   "cell_type": "code",
   "execution_count": 54,
   "id": "a4f303f2-83a2-4b77-b32c-56dd2da2b581",
   "metadata": {},
   "outputs": [
    {
     "name": "stdout",
     "output_type": "stream",
     "text": [
      "[10 15 20 25 30 35 40 45 50 55 60 65 70 75 80 85 90 95]\n"
     ]
    }
   ],
   "source": [
    "z = np.arange(10,100,5) #for i in range()\n",
    "print(z)"
   ]
  },
  {
   "cell_type": "code",
   "execution_count": 56,
   "id": "b142d199-7bfa-41d4-a163-f5884ee6d929",
   "metadata": {},
   "outputs": [
    {
     "name": "stdout",
     "output_type": "stream",
     "text": [
      "[4 8 5 0 7 1 9 2 6 3]\n"
     ]
    }
   ],
   "source": [
    "A = np.random.permutation(np.arange(10))\n",
    "print(A)\n"
   ]
  },
  {
   "cell_type": "code",
   "execution_count": 58,
   "id": "9700a32b-86ac-4de4-b78f-7dfce025a89c",
   "metadata": {},
   "outputs": [
    {
     "data": {
      "text/plain": [
       "26"
      ]
     },
     "execution_count": 58,
     "metadata": {},
     "output_type": "execute_result"
    }
   ],
   "source": [
    "np.random.randint(20,30)"
   ]
  },
  {
   "cell_type": "code",
   "execution_count": 88,
   "id": "0a24b7b2-e1a0-4c01-8f7a-65ebe25f0abf",
   "metadata": {},
   "outputs": [
    {
     "name": "stdout",
     "output_type": "stream",
     "text": [
      "[ 4.55024379e-01  4.66449544e-01  2.16523699e+00  9.95817551e-01\n",
      " -1.13045939e+00 -1.36328824e+00 -2.07226551e+00  9.14509801e-01\n",
      "  8.32061958e-01  6.13357316e-01  1.73977314e+00  3.03234720e-01\n",
      "  2.88148556e-01 -1.54895606e-01  5.63267536e-01 -1.46337668e-01\n",
      "  1.08595114e+00  2.28982363e-01 -1.10612593e+00 -1.97233999e-01\n",
      "  1.12862879e+00 -1.61762576e-01  9.36396526e-01 -1.27651344e+00\n",
      " -7.80420939e-01  2.56376591e+00  1.81168132e-01 -2.74002398e+00\n",
      "  5.90984974e-01  2.80617837e+00  5.58659566e-01 -1.56473780e-01\n",
      "  6.69360547e-01  6.18428319e-01  2.77106895e+00 -1.89091021e+00\n",
      "  1.47824848e+00  2.33567093e+00  3.78812708e-01  7.95333951e-01\n",
      "  8.30168574e-01 -1.95098233e+00  1.69774590e+00 -7.99871785e-02\n",
      "  1.49616824e+00  1.21176972e-02  3.65631926e-01 -3.23405426e-01\n",
      "  1.82239170e+00  1.10516561e+00  1.04495427e+00  8.56182304e-01\n",
      " -2.13400058e+00 -3.72356053e-01 -9.43808535e-01 -1.67571640e+00\n",
      "  1.33452567e-01  8.54580918e-04 -3.50441031e-01 -1.54233717e+00\n",
      " -6.52887562e-01 -9.68202772e-01  8.74833235e-01 -8.75401030e-01\n",
      " -1.38495387e+00 -2.09740120e-01  1.02573255e+00  7.49521431e-01\n",
      "  7.18776196e-01 -6.90890704e-01 -9.09826863e-01 -7.43454476e-02\n",
      " -1.60189524e+00  8.66539280e-01 -1.32176947e+00  5.43179525e-01\n",
      "  1.43234957e+00 -5.92984709e-01 -3.84233015e-02  4.14741526e-02\n",
      "  1.21678513e-01  1.18123546e+00 -7.80493696e-01 -1.20588399e+00\n",
      "  1.62036561e+00 -8.94021688e-02 -3.03918442e-01 -3.75525364e-01\n",
      " -1.13065939e+00 -2.37265540e-02 -1.98823062e-01 -3.99423217e-01\n",
      "  1.56288957e+00 -2.65375889e+00 -1.80773743e-01  7.22559026e-01\n",
      " -3.26414424e-01  4.39530042e-01  1.52361050e-01 -8.74729772e-01]\n"
     ]
    }
   ],
   "source": [
    "R = np.random.randn(100)\n",
    "print(R)"
   ]
  },
  {
   "cell_type": "code",
   "execution_count": 69,
   "id": "e341be19-e271-4d25-8337-aa4d21b5e57b",
   "metadata": {},
   "outputs": [],
   "source": [
    "import matplotlib.pyplot as plt"
   ]
  },
  {
   "cell_type": "code",
   "execution_count": 76,
   "id": "4de7efac-7180-4bd7-9519-4aae8914ff5b",
   "metadata": {},
   "outputs": [
    {
     "data": {
      "text/plain": [
       "(array([12., 16.,  5.,  7.,  9., 12., 14.,  8.,  6., 11.]),\n",
       " array([0.0020939 , 0.10164326, 0.20119263, 0.30074199, 0.40029136,\n",
       "        0.49984072, 0.59939008, 0.69893945, 0.79848881, 0.89803818,\n",
       "        0.99758754]),\n",
       " <BarContainer object of 10 artists>)"
      ]
     },
     "execution_count": 76,
     "metadata": {},
     "output_type": "execute_result"
    },
    {
     "data": {
      "image/png": "[encoded data removed]",
      "text/plain": [
       "<Figure size 640x480 with 1 Axes>"
      ]
     },
     "metadata": {},
     "output_type": "display_data"
    }
   ],
   "source": [
    "plt.hist(R, bins =10)"
   ]
  },
  {
   "cell_type": "code",
   "execution_count": 84,
   "id": "83f8f66d-4c3d-4135-8cdd-069db994308b",
   "metadata": {
    "scrolled": true
   },
   "outputs": [
    {
     "data": {
      "text/plain": [
       "(array([2.0000e+00, 0.0000e+00, 0.0000e+00, 0.0000e+00, 0.0000e+00,\n",
       "        0.0000e+00, 0.0000e+00, 1.0000e+00, 1.0000e+00, 0.0000e+00,\n",
       "        1.0000e+00, 2.0000e+00, 1.0000e+00, 3.0000e+00, 3.0000e+00,\n",
       "        3.0000e+00, 9.0000e+00, 4.0000e+00, 9.0000e+00, 1.1000e+01,\n",
       "        1.3000e+01, 9.0000e+00, 1.1000e+01, 2.0000e+01, 1.6000e+01,\n",
       "        2.5000e+01, 3.3000e+01, 4.1000e+01, 3.6000e+01, 4.2000e+01,\n",
       "        7.4000e+01, 7.7000e+01, 9.0000e+01, 1.0500e+02, 1.1700e+02,\n",
       "        1.5000e+02, 1.6700e+02, 1.8500e+02, 2.1200e+02, 2.7100e+02,\n",
       "        3.0300e+02, 3.6100e+02, 4.1800e+02, 4.5700e+02, 5.6500e+02,\n",
       "        6.0100e+02, 7.3100e+02, 8.1400e+02, 9.1900e+02, 1.0130e+03,\n",
       "        1.1260e+03, 1.3190e+03, 1.4520e+03, 1.7000e+03, 1.9370e+03,\n",
       "        2.0760e+03, 2.3270e+03, 2.5850e+03, 2.7580e+03, 3.2690e+03,\n",
       "        3.4880e+03, 3.8880e+03, 4.2470e+03, 4.6430e+03, 5.0140e+03,\n",
       "        5.5080e+03, 5.9430e+03, 6.3680e+03, 6.9650e+03, 7.6820e+03,\n",
       "        8.0930e+03, 8.6210e+03, 9.2410e+03, 9.8530e+03, 1.0464e+04,\n",
       "        1.0841e+04, 1.1783e+04, 1.2425e+04, 1.2786e+04, 1.3703e+04,\n",
       "        1.4176e+04, 1.4995e+04, 1.5589e+04, 1.6060e+04, 1.6671e+04,\n",
       "        1.7089e+04, 1.7564e+04, 1.7945e+04, 1.8719e+04, 1.8828e+04,\n",
       "        1.9247e+04, 1.9592e+04, 1.9792e+04, 1.9901e+04, 2.0194e+04,\n",
       "        2.0196e+04, 2.0406e+04, 2.0380e+04, 2.0363e+04, 2.0152e+04,\n",
       "        2.0097e+04, 2.0070e+04, 1.9641e+04, 1.9378e+04, 1.8937e+04,\n",
       "        1.8511e+04, 1.8328e+04, 1.8111e+04, 1.7239e+04, 1.6775e+04,\n",
       "        1.6136e+04, 1.5469e+04, 1.4941e+04, 1.4542e+04, 1.3779e+04,\n",
       "        1.3170e+04, 1.2386e+04, 1.1819e+04, 1.1243e+04, 1.0557e+04,\n",
       "        1.0043e+04, 9.4370e+03, 8.7780e+03, 8.4050e+03, 7.6030e+03,\n",
       "        7.0870e+03, 6.6430e+03, 6.2340e+03, 5.6730e+03, 5.0910e+03,\n",
       "        4.7430e+03, 4.3410e+03, 3.7760e+03, 3.5720e+03, 3.2360e+03,\n",
       "        2.9570e+03, 2.6760e+03, 2.4050e+03, 2.1900e+03, 1.8900e+03,\n",
       "        1.6820e+03, 1.5810e+03, 1.4290e+03, 1.2410e+03, 1.0880e+03,\n",
       "        9.3400e+02, 8.9800e+02, 6.9800e+02, 6.2600e+02, 5.4500e+02,\n",
       "        4.9300e+02, 4.4200e+02, 3.5600e+02, 3.2900e+02, 2.7600e+02,\n",
       "        2.5600e+02, 1.9900e+02, 1.5700e+02, 1.5400e+02, 1.3500e+02,\n",
       "        1.2800e+02, 9.0000e+01, 7.8000e+01, 6.1000e+01, 4.9000e+01,\n",
       "        4.4000e+01, 4.6000e+01, 3.3000e+01, 2.7000e+01, 2.1000e+01,\n",
       "        2.1000e+01, 1.9000e+01, 1.1000e+01, 1.2000e+01, 7.0000e+00,\n",
       "        5.0000e+00, 7.0000e+00, 7.0000e+00, 1.0000e+00, 3.0000e+00,\n",
       "        8.0000e+00, 0.0000e+00, 0.0000e+00, 2.0000e+00, 0.0000e+00,\n",
       "        1.0000e+00, 0.0000e+00, 0.0000e+00, 0.0000e+00, 0.0000e+00,\n",
       "        0.0000e+00, 0.0000e+00, 0.0000e+00, 0.0000e+00, 0.0000e+00,\n",
       "        0.0000e+00, 0.0000e+00, 0.0000e+00, 0.0000e+00, 1.0000e+00]),\n",
       " array([-4.97847407, -4.92721508, -4.87595609, -4.8246971 , -4.77343811,\n",
       "        -4.72217912, -4.67092013, -4.61966114, -4.56840215, -4.51714316,\n",
       "        -4.46588417, -4.41462518, -4.36336619, -4.3121072 , -4.26084821,\n",
       "        -4.20958922, -4.15833023, -4.10707124, -4.05581225, -4.00455326,\n",
       "        -3.95329427, -3.90203528, -3.85077629, -3.7995173 , -3.74825831,\n",
       "        -3.69699932, -3.64574033, -3.59448134, -3.54322235, -3.49196336,\n",
       "        -3.44070437, -3.38944538, -3.33818639, -3.2869274 , -3.23566841,\n",
       "        -3.18440942, -3.13315043, -3.08189144, -3.03063245, -2.97937346,\n",
       "        -2.92811447, -2.87685548, -2.82559649, -2.7743375 , -2.72307851,\n",
       "        -2.67181952, -2.62056053, -2.56930154, -2.51804255, -2.46678356,\n",
       "        -2.41552457, -2.36426558, -2.31300659, -2.2617476 , -2.21048861,\n",
       "        -2.15922963, -2.10797064, -2.05671165, -2.00545266, -1.95419367,\n",
       "        -1.90293468, -1.85167569, -1.8004167 , -1.74915771, -1.69789872,\n",
       "        -1.64663973, -1.59538074, -1.54412175, -1.49286276, -1.44160377,\n",
       "        -1.39034478, -1.33908579, -1.2878268 , -1.23656781, -1.18530882,\n",
       "        -1.13404983, -1.08279084, -1.03153185, -0.98027286, -0.92901387,\n",
       "        -0.87775488, -0.82649589, -0.7752369 , -0.72397791, -0.67271892,\n",
       "        -0.62145993, -0.57020094, -0.51894195, -0.46768296, -0.41642397,\n",
       "        -0.36516498, -0.31390599, -0.262647  , -0.21138801, -0.16012902,\n",
       "        -0.10887003, -0.05761104, -0.00635205,  0.04490694,  0.09616593,\n",
       "         0.14742492,  0.19868391,  0.2499429 ,  0.30120189,  0.35246088,\n",
       "         0.40371987,  0.45497886,  0.50623785,  0.55749684,  0.60875583,\n",
       "         0.66001481,  0.7112738 ,  0.76253279,  0.81379178,  0.86505077,\n",
       "         0.91630976,  0.96756875,  1.01882774,  1.07008673,  1.12134572,\n",
       "         1.17260471,  1.2238637 ,  1.27512269,  1.32638168,  1.37764067,\n",
       "         1.42889966,  1.48015865,  1.53141764,  1.58267663,  1.63393562,\n",
       "         1.68519461,  1.7364536 ,  1.78771259,  1.83897158,  1.89023057,\n",
       "         1.94148956,  1.99274855,  2.04400754,  2.09526653,  2.14652552,\n",
       "         2.19778451,  2.2490435 ,  2.30030249,  2.35156148,  2.40282047,\n",
       "         2.45407946,  2.50533845,  2.55659744,  2.60785643,  2.65911542,\n",
       "         2.71037441,  2.7616334 ,  2.81289239,  2.86415138,  2.91541037,\n",
       "         2.96666936,  3.01792835,  3.06918734,  3.12044633,  3.17170532,\n",
       "         3.22296431,  3.2742233 ,  3.32548229,  3.37674128,  3.42800027,\n",
       "         3.47925925,  3.53051824,  3.58177723,  3.63303622,  3.68429521,\n",
       "         3.7355542 ,  3.78681319,  3.83807218,  3.88933117,  3.94059016,\n",
       "         3.99184915,  4.04310814,  4.09436713,  4.14562612,  4.19688511,\n",
       "         4.2481441 ,  4.29940309,  4.35066208,  4.40192107,  4.45318006,\n",
       "         4.50443905,  4.55569804,  4.60695703,  4.65821602,  4.70947501,\n",
       "         4.760734  ,  4.81199299,  4.86325198,  4.91451097,  4.96576996,\n",
       "         5.01702895,  5.06828794,  5.11954693,  5.17080592,  5.22206491,\n",
       "         5.2733239 ]),\n",
       " <BarContainer object of 200 artists>)"
      ]
     },
     "execution_count": 84,
     "metadata": {},
     "output_type": "execute_result"
    },
    {
     "data": {
      "image/png": "[encoded data removed]",
      "text/plain": [
       "<Figure size 640x480 with 1 Axes>"
      ]
     },
     "metadata": {},
     "output_type": "display_data"
    }
   ],
   "source": [
    "M = np.random.randn(1000000)\n",
    "plt.hist(M, bins=200)\n"
   ]
  },
  {
   "cell_type": "code",
   "execution_count": 111,
   "id": "1929be82-ccf8-44e5-b33d-aa60c5649616",
   "metadata": {},
   "outputs": [],
   "source": [
    "F = np.array([[0.15428023, 0.8047941 , 0.43375185, 0.18807759, 0.66250775],\n",
    "                 [0.63843769, 0.00336078, 0.66629079, 0.18242532, 0.97557835],\n",
    "                 [0.23289582, 0.23730813, 0.85798259, 0.42692492, 0.22032905],\n",
    "                 [0.76365671, 0.24402193, 0.80326811, 0.43619445, 0.29198295],\n",
    "                 [0.18340777, 0.74441328, 0.98288483, 0.91415588, 0.3409782]])"
   ]
  },
  {
   "cell_type": "code",
   "execution_count": 109,
   "id": "62fb1bd7-b89d-4b1b-a886-109a10b7b902",
   "metadata": {},
   "outputs": [
    {
     "data": {
      "text/plain": [
       "2"
      ]
     },
     "execution_count": 109,
     "metadata": {},
     "output_type": "execute_result"
    }
   ],
   "source": [
    "F.ndim"
   ]
  },
  {
   "cell_type": "code",
   "execution_count": 110,
   "id": "a684f4fe-ebf4-42a2-9b62-da94975d75b2",
   "metadata": {},
   "outputs": [
    {
     "data": {
      "text/plain": [
       "0.34097682"
      ]
     },
     "execution_count": 110,
     "metadata": {},
     "output_type": "execute_result"
    }
   ],
   "source": [
    "F[4, 4]"
   ]
  },
  {
   "cell_type": "code",
   "execution_count": 114,
   "id": "72cc115f-e24b-4240-9b99-088a2f034136",
   "metadata": {},
   "outputs": [
    {
     "data": {
      "text/plain": [
       "'\\n 4 arrays that has 4 dimension with 5 list each and 5 elements each\\n'"
      ]
     },
     "execution_count": 114,
     "metadata": {},
     "output_type": "execute_result"
    }
   ],
   "source": [
    "H = np.random.rand(4,4,5,5)\n",
    "\"\"\"\n",
    " 4 arrays that has 4 dimension with 5 list each and 5 elements each\n",
    "\"\"\""
   ]
  },
  {
   "cell_type": "code",
   "execution_count": 119,
   "id": "0080c5fc-6a40-4e3d-b6c2-2427207e0e6c",
   "metadata": {},
   "outputs": [
    {
     "data": {
      "text/plain": [
       "array([[ 0,  1,  2,  3,  4,  5,  6,  7,  8,  9],\n",
       "       [10, 11, 12, 13, 14, 15, 16, 17, 18, 19],\n",
       "       [20, 21, 22, 23, 24, 25, 26, 27, 28, 29],\n",
       "       [30, 31, 32, 33, 34, 35, 36, 37, 38, 39],\n",
       "       [40, 41, 42, 43, 44, 45, 46, 47, 48, 49],\n",
       "       [50, 51, 52, 53, 54, 55, 56, 57, 58, 59],\n",
       "       [60, 61, 62, 63, 64, 65, 66, 67, 68, 69],\n",
       "       [70, 71, 72, 73, 74, 75, 76, 77, 78, 79],\n",
       "       [80, 81, 82, 83, 84, 85, 86, 87, 88, 89],\n",
       "       [90, 91, 92, 93, 94, 95, 96, 97, 98, 99]])"
      ]
     },
     "execution_count": 119,
     "metadata": {},
     "output_type": "execute_result"
    }
   ],
   "source": [
    "Y = np.arange(100).reshape(10,10)\n",
    "Y\n"
   ]
  },
  {
   "cell_type": "code",
   "execution_count": 120,
   "id": "b9acc583-e3b7-454d-865c-7907680cfcdb",
   "metadata": {},
   "outputs": [
    {
     "data": {
      "text/plain": [
       "(10, 10)"
      ]
     },
     "execution_count": 120,
     "metadata": {},
     "output_type": "execute_result"
    }
   ],
   "source": [
    "Y.shape"
   ]
  },
  {
   "cell_type": "code",
   "execution_count": 123,
   "id": "2173da98-01ff-42ec-8848-452017a0c1ec",
   "metadata": {
    "scrolled": true
   },
   "outputs": [
    {
     "data": {
      "text/plain": [
       "\u001b[1;31mDocstring:\u001b[0m\n",
       "zeros(shape, dtype=float, order='C', *, like=None)\n",
       "\n",
       "Return a new array of given shape and type, filled with zeros.\n",
       "\n",
       "Parameters\n",
       "----------\n",
       "shape : int or tuple of ints\n",
       "    Shape of the new array, e.g., ``(2, 3)`` or ``2``.\n",
       "dtype : data-type, optional\n",
       "    The desired data-type for the array, e.g., `numpy.int8`.  Default is\n",
       "    `numpy.float64`.\n",
       "order : {'C', 'F'}, optional, default: 'C'\n",
       "    Whether to store multi-dimensional data in row-major\n",
       "    (C-style) or column-major (Fortran-style) order in\n",
       "    memory.\n",
       "like : array_like, optional\n",
       "    Reference object to allow the creation of arrays which are not\n",
       "    NumPy arrays. If an array-like passed in as ``like`` supports\n",
       "    the ``__array_function__`` protocol, the result will be defined\n",
       "    by it. In this case, it ensures the creation of an array object\n",
       "    compatible with that passed in via this argument.\n",
       "\n",
       "    .. versionadded:: 1.20.0\n",
       "\n",
       "Returns\n",
       "-------\n",
       "out : ndarray\n",
       "    Array of zeros with the given shape, dtype, and order.\n",
       "\n",
       "See Also\n",
       "--------\n",
       "zeros_like : Return an array of zeros with shape and type of input.\n",
       "empty : Return a new uninitialized array.\n",
       "ones : Return a new array setting values to one.\n",
       "full : Return a new array of given shape filled with value.\n",
       "\n",
       "Examples\n",
       "--------\n",
       ">>> np.zeros(5)\n",
       "array([ 0.,  0.,  0.,  0.,  0.])\n",
       "\n",
       ">>> np.zeros((5,), dtype=int)\n",
       "array([0, 0, 0, 0, 0])\n",
       "\n",
       ">>> np.zeros((2, 1))\n",
       "array([[ 0.],\n",
       "       [ 0.]])\n",
       "\n",
       ">>> s = (2,2)\n",
       ">>> np.zeros(s)\n",
       "array([[ 0.,  0.],\n",
       "       [ 0.,  0.]])\n",
       "\n",
       ">>> np.zeros((2,), dtype=[('x', 'i4'), ('y', 'i4')]) # custom dtype\n",
       "array([(0, 0), (0, 0)],\n",
       "      dtype=[('x', '<i4'), ('y', '<i4')])\n",
       "\u001b[1;31mType:\u001b[0m      builtin_function_or_method"
      ]
     },
     "metadata": {},
     "output_type": "display_data"
    }
   ],
   "source": [
    "np.zeros?"
   ]
  },
  {
   "cell_type": "markdown",
   "id": "6bdce32d-58c3-45e2-967e-4e9f5dd4881e",
   "metadata": {},
   "source": [
    "Numpy Slicing\n",
    "A[start:end:step]"
   ]
  },
  {
   "cell_type": "code",
   "execution_count": 124,
   "id": "bacfa6a8-fa50-4094-86df-8b77e2a9e7a2",
   "metadata": {},
   "outputs": [
    {
     "name": "stdout",
     "output_type": "stream",
     "text": [
      "[3 4 5 6 7 8 9]\n"
     ]
    }
   ],
   "source": [
    "W = np.arange(100)\n",
    "V = W[3:10]\n",
    "print(V)"
   ]
  },
  {
   "cell_type": "code",
   "execution_count": 127,
   "id": "0b5bf8d2-f8cf-4656-b478-5535d2d8143c",
   "metadata": {},
   "outputs": [],
   "source": [
    "V[0] = -200"
   ]
  },
  {
   "cell_type": "code",
   "execution_count": 128,
   "id": "09e2e121-e99a-4a12-a0e8-ae6858d2facc",
   "metadata": {
    "scrolled": true
   },
   "outputs": [
    {
     "data": {
      "text/plain": [
       "array([   0,    1,    2, -200,    4,    5,    6,    7,    8,    9,   10,\n",
       "         11,   12,   13,   14,   15,   16,   17,   18,   19,   20,   21,\n",
       "         22,   23,   24,   25,   26,   27,   28,   29,   30,   31,   32,\n",
       "         33,   34,   35,   36,   37,   38,   39,   40,   41,   42,   43,\n",
       "         44,   45,   46,   47,   48,   49,   50,   51,   52,   53,   54,\n",
       "         55,   56,   57,   58,   59,   60,   61,   62,   63,   64,   65,\n",
       "         66,   67,   68,   69,   70,   71,   72,   73,   74,   75,   76,\n",
       "         77,   78,   79,   80,   81,   82,   83,   84,   85,   86,   87,\n",
       "         88,   89,   90,   91,   92,   93,   94,   95,   96,   97,   98,\n",
       "         99])"
      ]
     },
     "execution_count": 128,
     "metadata": {},
     "output_type": "execute_result"
    }
   ],
   "source": [
    "W"
   ]
  },
  {
   "cell_type": "code",
   "execution_count": 129,
   "id": "bc8e91a4-1dd6-463a-a7fb-1635a152c06f",
   "metadata": {},
   "outputs": [
    {
     "data": {
      "text/plain": [
       "array([ 0,  5, 10, 15, 20, 25, 30, 35, 40, 45, 50, 55, 60, 65, 70, 75, 80,\n",
       "       85, 90, 95])"
      ]
     },
     "execution_count": 129,
     "metadata": {},
     "output_type": "execute_result"
    }
   ],
   "source": [
    "W[::5]"
   ]
  },
  {
   "cell_type": "code",
   "execution_count": 130,
   "id": "72edf21f-ec10-4283-8f00-b2eeef643362",
   "metadata": {},
   "outputs": [
    {
     "data": {
      "text/plain": [
       "array([99, 94, 89, 84, 79, 74, 69, 64, 59, 54, 49, 44, 39, 34, 29, 24, 19,\n",
       "       14,  9,  4])"
      ]
     },
     "execution_count": 130,
     "metadata": {},
     "output_type": "execute_result"
    }
   ],
   "source": [
    "W[::-5]"
   ]
  },
  {
   "cell_type": "code",
   "execution_count": 131,
   "id": "abf69af3-61bd-41f7-9a4a-a0f3bdec1a08",
   "metadata": {},
   "outputs": [
    {
     "data": {
      "text/plain": [
       "array([  99,   98,   97,   96,   95,   94,   93,   92,   91,   90,   89,\n",
       "         88,   87,   86,   85,   84,   83,   82,   81,   80,   79,   78,\n",
       "         77,   76,   75,   74,   73,   72,   71,   70,   69,   68,   67,\n",
       "         66,   65,   64,   63,   62,   61,   60,   59,   58,   57,   56,\n",
       "         55,   54,   53,   52,   51,   50,   49,   48,   47,   46,   45,\n",
       "         44,   43,   42,   41,   40,   39,   38,   37,   36,   35,   34,\n",
       "         33,   32,   31,   30,   29,   28,   27,   26,   25,   24,   23,\n",
       "         22,   21,   20,   19,   18,   17,   16,   15,   14,   13,   12,\n",
       "         11,   10,    9,    8,    7,    6,    5,    4, -200,    2,    1,\n",
       "          0])"
      ]
     },
     "execution_count": 131,
     "metadata": {},
     "output_type": "execute_result"
    }
   ],
   "source": [
    "W[::-1]"
   ]
  },
  {
   "cell_type": "code",
   "execution_count": 132,
   "id": "53c0f11e-a308-47bd-9ec2-c24361aabb4f",
   "metadata": {},
   "outputs": [
    {
     "data": {
      "text/plain": [
       "array([   0,    1,    2, -200,    4,    5,    6,    7,    8,    9,   10,\n",
       "         11,   12,   13,   14,   15,   16,   17,   18,   19,   20,   21,\n",
       "         22,   23,   24,   25,   26,   27,   28,   29,   30,   31,   32,\n",
       "         33,   34,   35,   36,   37,   38,   39,   40,   41,   42,   43,\n",
       "         44,   45,   46,   47,   48,   49,   50,   51,   52,   53,   54,\n",
       "         55,   56,   57,   58,   59,   60,   61,   62,   63,   64,   65,\n",
       "         66,   67,   68,   69,   70,   71,   72,   73,   74,   75,   76,\n",
       "         77,   78,   79,   80,   81,   82,   83,   84,   85,   86,   87,\n",
       "         88,   89,   90,   91,   92,   93,   94,   95,   96,   97,   98,\n",
       "         99])"
      ]
     },
     "execution_count": 132,
     "metadata": {},
     "output_type": "execute_result"
    }
   ],
   "source": [
    "W"
   ]
  },
  {
   "cell_type": "code",
   "execution_count": 135,
   "id": "9fb41aa2-c2bc-49d8-a73e-6a73f4f4e2a5",
   "metadata": {},
   "outputs": [
    {
     "data": {
      "text/plain": [
       "3"
      ]
     },
     "execution_count": 135,
     "metadata": {},
     "output_type": "execute_result"
    }
   ],
   "source": [
    "idx = np.argwhere(W == -200)[0][0]\n",
    "idx"
   ]
  },
  {
   "cell_type": "code",
   "execution_count": 137,
   "id": "7798b497-7a1a-4eeb-9683-af87f04300c2",
   "metadata": {},
   "outputs": [
    {
     "data": {
      "text/plain": [
       "array([ 0,  1,  2,  3,  4,  5,  6,  7,  8,  9, 10, 11, 12, 13, 14, 15, 16,\n",
       "       17, 18, 19, 20, 21, 22, 23, 24, 25, 26, 27, 28, 29, 30, 31, 32, 33,\n",
       "       34, 35, 36, 37, 38, 39, 40, 41, 42, 43, 44, 45, 46, 47, 48, 49, 50,\n",
       "       51, 52, 53, 54, 55, 56, 57, 58, 59, 60, 61, 62, 63, 64, 65, 66, 67,\n",
       "       68, 69, 70, 71, 72, 73, 74, 75, 76, 77, 78, 79, 80, 81, 82, 83, 84,\n",
       "       85, 86, 87, 88, 89, 90, 91, 92, 93, 94, 95, 96, 97, 98, 99])"
      ]
     },
     "execution_count": 137,
     "metadata": {},
     "output_type": "execute_result"
    }
   ],
   "source": [
    "W[idx]=3\n",
    "W"
   ]
  },
  {
   "cell_type": "code",
   "execution_count": 138,
   "id": "a33e6213-d995-4a5e-8001-6aba893cf2ae",
   "metadata": {},
   "outputs": [],
   "source": [
    "A = np.round(10*np.random.rand(5,4))"
   ]
  },
  {
   "cell_type": "code",
   "execution_count": 140,
   "id": "3a626d4e-9306-40f6-8d7a-d55d03c7a28e",
   "metadata": {},
   "outputs": [
    {
     "data": {
      "text/plain": [
       "array([[8., 0., 1., 8.],\n",
       "       [1., 6., 3., 0.],\n",
       "       [1., 1., 0., 9.],\n",
       "       [0., 5., 8., 4.],\n",
       "       [3., 2., 6., 4.]])"
      ]
     },
     "execution_count": 140,
     "metadata": {},
     "output_type": "execute_result"
    }
   ],
   "source": [
    "A"
   ]
  },
  {
   "cell_type": "code",
   "execution_count": 141,
   "id": "e8485146-f471-4939-964c-c88492452bf7",
   "metadata": {},
   "outputs": [
    {
     "data": {
      "text/plain": [
       "array([0., 5., 8., 4.])"
      ]
     },
     "execution_count": 141,
     "metadata": {},
     "output_type": "execute_result"
    }
   ],
   "source": [
    "A[3, :]"
   ]
  },
  {
   "cell_type": "code",
   "execution_count": 143,
   "id": "3e63cabf-20d6-4fe2-8978-ec11b562ac2d",
   "metadata": {},
   "outputs": [
    {
     "data": {
      "text/plain": [
       "array([[8., 1., 1., 0., 3.],\n",
       "       [0., 6., 1., 5., 2.],\n",
       "       [1., 3., 0., 8., 6.],\n",
       "       [8., 0., 9., 4., 4.]])"
      ]
     },
     "execution_count": 143,
     "metadata": {},
     "output_type": "execute_result"
    }
   ],
   "source": [
    "A.T #transpose"
   ]
  },
  {
   "cell_type": "code",
   "execution_count": 145,
   "id": "f7418d77-d6ae-4f63-ba52-991da5cf22bc",
   "metadata": {},
   "outputs": [],
   "source": [
    "import numpy.linalg as la"
   ]
  },
  {
   "cell_type": "code",
   "execution_count": 153,
   "id": "025bf1f9-118d-44f8-8f3b-87793d059f50",
   "metadata": {},
   "outputs": [
    {
     "data": {
      "text/plain": [
       "array([[-1.50233846,  0.13565569, -0.4788319 ,  1.844632  ],\n",
       "       [-1.84102975,  1.27683409,  0.07476188,  0.69914136],\n",
       "       [ 3.00773711, -2.61201595,  2.12569758, -1.66532256],\n",
       "       [ 1.10238013,  0.38109618, -0.2413404 , -0.39943608]])"
      ]
     },
     "execution_count": 153,
     "metadata": {},
     "output_type": "execute_result"
    }
   ],
   "source": [
    "la.inv(np.random.rand(4,4))"
   ]
  },
  {
   "cell_type": "code",
   "execution_count": 154,
   "id": "295d94f1-79b6-4501-8e40-832669b201b9",
   "metadata": {},
   "outputs": [],
   "source": [
    "A = np.arange(100)"
   ]
  },
  {
   "cell_type": "code",
   "execution_count": 157,
   "id": "97e0ee6b-c7fd-4e3f-aa3f-df99390179d2",
   "metadata": {},
   "outputs": [],
   "source": [
    "B =A[[3,4,5]]"
   ]
  },
  {
   "cell_type": "code",
   "execution_count": 158,
   "id": "09587913-2296-4b6a-9f3b-2628172a2726",
   "metadata": {},
   "outputs": [
    {
     "data": {
      "text/plain": [
       "array([3, 4, 5])"
      ]
     },
     "execution_count": 158,
     "metadata": {},
     "output_type": "execute_result"
    }
   ],
   "source": [
    "B"
   ]
  },
  {
   "cell_type": "code",
   "execution_count": 159,
   "id": "a157b63d-0789-4c8b-8609-ed19d25d2cb7",
   "metadata": {},
   "outputs": [],
   "source": [
    "B[0]=-4\n"
   ]
  },
  {
   "cell_type": "code",
   "execution_count": 160,
   "id": "dde01d86-7756-4d4b-b035-99f3d38b0894",
   "metadata": {},
   "outputs": [],
   "source": [
    "B = A[A<40]"
   ]
  },
  {
   "cell_type": "code",
   "execution_count": 161,
   "id": "a3b9a71d-7de1-41f2-9cd9-18445b6cc657",
   "metadata": {},
   "outputs": [
    {
     "data": {
      "text/plain": [
       "array([ 0,  1,  2,  3,  4,  5,  6,  7,  8,  9, 10, 11, 12, 13, 14, 15, 16,\n",
       "       17, 18, 19, 20, 21, 22, 23, 24, 25, 26, 27, 28, 29, 30, 31, 32, 33,\n",
       "       34, 35, 36, 37, 38, 39])"
      ]
     },
     "execution_count": 161,
     "metadata": {},
     "output_type": "execute_result"
    }
   ],
   "source": [
    "B"
   ]
  },
  {
   "cell_type": "code",
   "execution_count": 167,
   "id": "6bea4412-77d3-4045-b4cd-000891d3c644",
   "metadata": {},
   "outputs": [],
   "source": [
    "B = A[(A<40) & (A>30)]"
   ]
  },
  {
   "cell_type": "code",
   "execution_count": 168,
   "id": "1119e9ca-83d0-4f03-b38f-e8a7bab9bb66",
   "metadata": {},
   "outputs": [
    {
     "data": {
      "text/plain": [
       "array([31, 32, 33, 34, 35, 36, 37, 38, 39])"
      ]
     },
     "execution_count": 168,
     "metadata": {},
     "output_type": "execute_result"
    }
   ],
   "source": [
    "B"
   ]
  },
  {
   "cell_type": "raw",
   "id": "0010cf3f-c43d-46bb-b026-595235d2760f",
   "metadata": {},
   "source": [
    "& for arrays, and single object Difference"
   ]
  },
  {
   "cell_type": "code",
   "execution_count": 171,
   "id": "899ad6d7-4a23-4eb3-b300-1adb72c1fdf0",
   "metadata": {},
   "outputs": [],
   "source": [
    "F = np.round(10*np.random.rand(2,3))"
   ]
  },
  {
   "cell_type": "code",
   "execution_count": 172,
   "id": "0de551e6-af37-40ef-9039-1785eb4ee0f9",
   "metadata": {},
   "outputs": [
    {
     "data": {
      "text/plain": [
       "array([[9., 3., 4.],\n",
       "       [6., 4., 5.]])"
      ]
     },
     "execution_count": 172,
     "metadata": {},
     "output_type": "execute_result"
    }
   ],
   "source": [
    "F"
   ]
  },
  {
   "cell_type": "code",
   "execution_count": 173,
   "id": "4ee4c228-9189-445c-945c-812e31f1aca4",
   "metadata": {},
   "outputs": [
    {
     "data": {
      "text/plain": [
       "array([[12.,  6.,  7.],\n",
       "       [ 9.,  7.,  8.]])"
      ]
     },
     "execution_count": 173,
     "metadata": {},
     "output_type": "execute_result"
    }
   ],
   "source": [
    "F + 3"
   ]
  },
  {
   "cell_type": "code",
   "execution_count": 174,
   "id": "17a6cab8-6110-4e94-b0f2-7f2beef3ae64",
   "metadata": {},
   "outputs": [
    {
     "data": {
      "text/plain": [
       "array([[9., 3., 4.],\n",
       "       [7., 5., 6.]])"
      ]
     },
     "execution_count": 174,
     "metadata": {},
     "output_type": "execute_result"
    }
   ],
   "source": [
    "F + (np.arange(2).reshape(2,1))"
   ]
  },
  {
   "cell_type": "code",
   "execution_count": 178,
   "id": "237e1527-7669-413a-9b53-07b7d01f286e",
   "metadata": {},
   "outputs": [
    {
     "name": "stdout",
     "output_type": "stream",
     "text": [
      "20 ms ± 2.53 ms per loop (mean ± std. dev. of 7 runs, 100 loops each)\n",
      "82.7 μs ± 6.07 μs per loop (mean ± std. dev. of 7 runs, 10,000 loops each)\n"
     ]
    }
   ],
   "source": [
    "H = np.random.rand(100000)\n",
    "%timeit sum(H)\n",
    "%timeit np.sum(H)"
   ]
  },
  {
   "cell_type": "markdown",
   "id": "ea2f2786-38c8-4a39-aaf6-822de394682e",
   "metadata": {},
   "source": [
    "PANDAS LIBRARY "
   ]
  },
  {
   "cell_type": "code",
   "execution_count": 206,
   "id": "1c84ac5a-0bbd-422c-a81e-6642c2fad825",
   "metadata": {},
   "outputs": [],
   "source": [
    "import pandas as pd"
   ]
  },
  {
   "cell_type": "code",
   "execution_count": 208,
   "id": "9e8b964e-815c-4bc3-ad34-bfd7db650a12",
   "metadata": {},
   "outputs": [
    {
     "name": "stdout",
     "output_type": "stream",
     "text": [
      "2.2.2\n"
     ]
    }
   ],
   "source": [
    "print(pd.__version__)"
   ]
  },
  {
   "cell_type": "code",
   "execution_count": 210,
   "id": "bcb103ed-351b-4108-b5b1-09bb5d8c52d2",
   "metadata": {},
   "outputs": [],
   "source": [
    "A = pd.Series([2,4,5,4], index=['a', 'b', 'c', 'd'])"
   ]
  },
  {
   "cell_type": "code",
   "execution_count": 211,
   "id": "91a2ed80-93f6-44f2-955c-a3d246e273d7",
   "metadata": {},
   "outputs": [
    {
     "data": {
      "text/plain": [
       "array([2, 4, 5, 4], dtype=int64)"
      ]
     },
     "execution_count": 211,
     "metadata": {},
     "output_type": "execute_result"
    }
   ],
   "source": [
    "A.values"
   ]
  },
  {
   "cell_type": "code",
   "execution_count": 212,
   "id": "74e14e73-1bd1-445b-b858-b613cded6e65",
   "metadata": {},
   "outputs": [
    {
     "data": {
      "text/plain": [
       "Index(['a', 'b', 'c', 'd'], dtype='object')"
      ]
     },
     "execution_count": 212,
     "metadata": {},
     "output_type": "execute_result"
    }
   ],
   "source": [
    "A.index"
   ]
  },
  {
   "cell_type": "code",
   "execution_count": 213,
   "id": "72455969-a49d-4e17-8f16-2fd3e393c06d",
   "metadata": {},
   "outputs": [
    {
     "data": {
      "text/plain": [
       "numpy.ndarray"
      ]
     },
     "execution_count": 213,
     "metadata": {},
     "output_type": "execute_result"
    }
   ],
   "source": [
    "type(A.values)"
   ]
  },
  {
   "cell_type": "code",
   "execution_count": 214,
   "id": "866e5a5e-063e-4c16-a76a-7cc07bea9141",
   "metadata": {},
   "outputs": [
    {
     "data": {
      "text/plain": [
       "pandas.core.series.Series"
      ]
     },
     "execution_count": 214,
     "metadata": {},
     "output_type": "execute_result"
    }
   ],
   "source": [
    "type(A)"
   ]
  },
  {
   "cell_type": "code",
   "execution_count": 215,
   "id": "52fcd8a7-3c16-4396-a6f0-a724629a2321",
   "metadata": {},
   "outputs": [
    {
     "data": {
      "text/plain": [
       "4"
      ]
     },
     "execution_count": 215,
     "metadata": {},
     "output_type": "execute_result"
    }
   ],
   "source": [
    "A['b']"
   ]
  },
  {
   "cell_type": "code",
   "execution_count": 216,
   "id": "2afc3ae6-3cc4-4eb4-ace0-76a048441258",
   "metadata": {},
   "outputs": [
    {
     "data": {
      "text/plain": [
       "a    2\n",
       "b    4\n",
       "c    5\n",
       "dtype: int64"
      ]
     },
     "execution_count": 216,
     "metadata": {},
     "output_type": "execute_result"
    }
   ],
   "source": [
    "A['a':'c']"
   ]
  },
  {
   "cell_type": "code",
   "execution_count": 217,
   "id": "cdec4532-1a1d-44f5-b916-51a5e161bcc3",
   "metadata": {},
   "outputs": [],
   "source": [
    "gradic = {'A':5.0, 'B':4.4, 'C':3.3, 'D': 2.5}\n",
    "grads = pd.Series(gradic)"
   ]
  },
  {
   "cell_type": "code",
   "execution_count": 219,
   "id": "a8c3bcff-0d8d-480b-9c4c-7e9b1682988e",
   "metadata": {},
   "outputs": [
    {
     "data": {
      "text/plain": [
       "array([5. , 4.4, 3.3, 2.5])"
      ]
     },
     "execution_count": 219,
     "metadata": {},
     "output_type": "execute_result"
    }
   ],
   "source": [
    "grads.values"
   ]
  },
  {
   "cell_type": "code",
   "execution_count": 220,
   "id": "30e2ad5b-94e9-48b9-988c-665b8a64f0fa",
   "metadata": {},
   "outputs": [
    {
     "data": {
      "text/plain": [
       "A    5.0\n",
       "B    4.4\n",
       "C    3.3\n",
       "D    2.5\n",
       "dtype: float64"
      ]
     },
     "execution_count": 220,
     "metadata": {},
     "output_type": "execute_result"
    }
   ],
   "source": [
    "grads"
   ]
  },
  {
   "cell_type": "code",
   "execution_count": 236,
   "id": "7de78cee-9e9e-4584-8648-12c6f05f0b2f",
   "metadata": {},
   "outputs": [],
   "source": [
    "marksdic={'A':85, 'B':75, 'C': 50, 'D':40}\n",
    "marks = pd.Series(marksdic)"
   ]
  },
  {
   "cell_type": "code",
   "execution_count": 237,
   "id": "b2c5754e-7aa1-4539-8b4c-49589da5b469",
   "metadata": {},
   "outputs": [
    {
     "data": {
      "text/html": [
       "<div>\n",
       "<style scoped>\n",
       "    .dataframe tbody tr th:only-of-type {\n",
       "        vertical-align: middle;\n",
       "    }\n",
       "\n",
       "    .dataframe tbody tr th {\n",
       "        vertical-align: top;\n",
       "    }\n",
       "\n",
       "    .dataframe thead th {\n",
       "        text-align: right;\n",
       "    }\n",
       "</style>\n",
       "<table border=\"1\" class=\"dataframe\">\n",
       "  <thead>\n",
       "    <tr style=\"text-align: right;\">\n",
       "      <th></th>\n",
       "      <th>marks</th>\n",
       "      <th>grades</th>\n",
       "    </tr>\n",
       "  </thead>\n",
       "  <tbody>\n",
       "    <tr>\n",
       "      <th>A</th>\n",
       "      <td>85</td>\n",
       "      <td>5.0</td>\n",
       "    </tr>\n",
       "    <tr>\n",
       "      <th>B</th>\n",
       "      <td>75</td>\n",
       "      <td>4.4</td>\n",
       "    </tr>\n",
       "    <tr>\n",
       "      <th>C</th>\n",
       "      <td>50</td>\n",
       "      <td>3.3</td>\n",
       "    </tr>\n",
       "    <tr>\n",
       "      <th>D</th>\n",
       "      <td>40</td>\n",
       "      <td>2.5</td>\n",
       "    </tr>\n",
       "  </tbody>\n",
       "</table>\n",
       "</div>"
      ],
      "text/plain": [
       "   marks  grades\n",
       "A     85     5.0\n",
       "B     75     4.4\n",
       "C     50     3.3\n",
       "D     40     2.5"
      ]
     },
     "execution_count": 237,
     "metadata": {},
     "output_type": "execute_result"
    }
   ],
   "source": [
    "d = pd.DataFrame({'marks':marks, 'grades': grads})\n",
    "d"
   ]
  },
  {
   "cell_type": "code",
   "execution_count": 239,
   "id": "b52ce6ee-1ddd-4b6a-a6c4-74995e1667e4",
   "metadata": {},
   "outputs": [
    {
     "data": {
      "text/html": [
       "<div>\n",
       "<style scoped>\n",
       "    .dataframe tbody tr th:only-of-type {\n",
       "        vertical-align: middle;\n",
       "    }\n",
       "\n",
       "    .dataframe tbody tr th {\n",
       "        vertical-align: top;\n",
       "    }\n",
       "\n",
       "    .dataframe thead th {\n",
       "        text-align: right;\n",
       "    }\n",
       "</style>\n",
       "<table border=\"1\" class=\"dataframe\">\n",
       "  <thead>\n",
       "    <tr style=\"text-align: right;\">\n",
       "      <th></th>\n",
       "      <th>A</th>\n",
       "      <th>B</th>\n",
       "      <th>C</th>\n",
       "      <th>D</th>\n",
       "    </tr>\n",
       "  </thead>\n",
       "  <tbody>\n",
       "    <tr>\n",
       "      <th>marks</th>\n",
       "      <td>85.0</td>\n",
       "      <td>75.0</td>\n",
       "      <td>50.0</td>\n",
       "      <td>40.0</td>\n",
       "    </tr>\n",
       "    <tr>\n",
       "      <th>grades</th>\n",
       "      <td>5.0</td>\n",
       "      <td>4.4</td>\n",
       "      <td>3.3</td>\n",
       "      <td>2.5</td>\n",
       "    </tr>\n",
       "  </tbody>\n",
       "</table>\n",
       "</div>"
      ],
      "text/plain": [
       "           A     B     C     D\n",
       "marks   85.0  75.0  50.0  40.0\n",
       "grades   5.0   4.4   3.3   2.5"
      ]
     },
     "execution_count": 239,
     "metadata": {},
     "output_type": "execute_result"
    }
   ],
   "source": [
    "d.T"
   ]
  },
  {
   "cell_type": "code",
   "execution_count": 240,
   "id": "f280cd81-03e2-4add-b32b-f84b27e7f5bb",
   "metadata": {},
   "outputs": [
    {
     "data": {
      "text/html": [
       "<div>\n",
       "<style scoped>\n",
       "    .dataframe tbody tr th:only-of-type {\n",
       "        vertical-align: middle;\n",
       "    }\n",
       "\n",
       "    .dataframe tbody tr th {\n",
       "        vertical-align: top;\n",
       "    }\n",
       "\n",
       "    .dataframe thead th {\n",
       "        text-align: right;\n",
       "    }\n",
       "</style>\n",
       "<table border=\"1\" class=\"dataframe\">\n",
       "  <thead>\n",
       "    <tr style=\"text-align: right;\">\n",
       "      <th></th>\n",
       "      <th>marks</th>\n",
       "      <th>grades</th>\n",
       "    </tr>\n",
       "  </thead>\n",
       "  <tbody>\n",
       "    <tr>\n",
       "      <th>A</th>\n",
       "      <td>85</td>\n",
       "      <td>5.0</td>\n",
       "    </tr>\n",
       "    <tr>\n",
       "      <th>B</th>\n",
       "      <td>75</td>\n",
       "      <td>4.4</td>\n",
       "    </tr>\n",
       "    <tr>\n",
       "      <th>C</th>\n",
       "      <td>50</td>\n",
       "      <td>3.3</td>\n",
       "    </tr>\n",
       "    <tr>\n",
       "      <th>D</th>\n",
       "      <td>40</td>\n",
       "      <td>2.5</td>\n",
       "    </tr>\n",
       "  </tbody>\n",
       "</table>\n",
       "</div>"
      ],
      "text/plain": [
       "   marks  grades\n",
       "A     85     5.0\n",
       "B     75     4.4\n",
       "C     50     3.3\n",
       "D     40     2.5"
      ]
     },
     "execution_count": 240,
     "metadata": {},
     "output_type": "execute_result"
    }
   ],
   "source": [
    "d"
   ]
  },
  {
   "cell_type": "code",
   "execution_count": 241,
   "id": "dacdd940-658e-4a43-ab85-89d1bc6c600f",
   "metadata": {},
   "outputs": [
    {
     "data": {
      "text/plain": [
       "array([[85. ,  5. ],\n",
       "       [75. ,  4.4],\n",
       "       [50. ,  3.3],\n",
       "       [40. ,  2.5]])"
      ]
     },
     "execution_count": 241,
     "metadata": {},
     "output_type": "execute_result"
    }
   ],
   "source": [
    "d.values"
   ]
  },
  {
   "cell_type": "code",
   "execution_count": 242,
   "id": "24bc1697-aec9-42da-87ba-2b3508e9ca78",
   "metadata": {},
   "outputs": [
    {
     "data": {
      "text/plain": [
       "40.0"
      ]
     },
     "execution_count": 242,
     "metadata": {},
     "output_type": "execute_result"
    }
   ],
   "source": [
    "d.values[3,0]"
   ]
  },
  {
   "cell_type": "code",
   "execution_count": 243,
   "id": "984609b0-f0d9-48f5-9ee0-c6877c602a7f",
   "metadata": {},
   "outputs": [
    {
     "data": {
      "text/plain": [
       "Index(['marks', 'grades'], dtype='object')"
      ]
     },
     "execution_count": 243,
     "metadata": {},
     "output_type": "execute_result"
    }
   ],
   "source": [
    "d.columns"
   ]
  },
  {
   "cell_type": "code",
   "execution_count": 245,
   "id": "77a8082b-263a-4b94-921e-bfc99c5eb408",
   "metadata": {},
   "outputs": [
    {
     "data": {
      "text/html": [
       "<div>\n",
       "<style scoped>\n",
       "    .dataframe tbody tr th:only-of-type {\n",
       "        vertical-align: middle;\n",
       "    }\n",
       "\n",
       "    .dataframe tbody tr th {\n",
       "        vertical-align: top;\n",
       "    }\n",
       "\n",
       "    .dataframe thead th {\n",
       "        text-align: right;\n",
       "    }\n",
       "</style>\n",
       "<table border=\"1\" class=\"dataframe\">\n",
       "  <thead>\n",
       "    <tr style=\"text-align: right;\">\n",
       "      <th></th>\n",
       "      <th>marks</th>\n",
       "      <th>grades</th>\n",
       "      <th>ScaleMarks</th>\n",
       "    </tr>\n",
       "  </thead>\n",
       "  <tbody>\n",
       "    <tr>\n",
       "      <th>A</th>\n",
       "      <td>85</td>\n",
       "      <td>5.0</td>\n",
       "      <td>9.444444</td>\n",
       "    </tr>\n",
       "    <tr>\n",
       "      <th>B</th>\n",
       "      <td>75</td>\n",
       "      <td>4.4</td>\n",
       "      <td>8.333333</td>\n",
       "    </tr>\n",
       "    <tr>\n",
       "      <th>C</th>\n",
       "      <td>50</td>\n",
       "      <td>3.3</td>\n",
       "      <td>5.555556</td>\n",
       "    </tr>\n",
       "    <tr>\n",
       "      <th>D</th>\n",
       "      <td>40</td>\n",
       "      <td>2.5</td>\n",
       "      <td>4.444444</td>\n",
       "    </tr>\n",
       "  </tbody>\n",
       "</table>\n",
       "</div>"
      ],
      "text/plain": [
       "   marks  grades  ScaleMarks\n",
       "A     85     5.0    9.444444\n",
       "B     75     4.4    8.333333\n",
       "C     50     3.3    5.555556\n",
       "D     40     2.5    4.444444"
      ]
     },
     "execution_count": 245,
     "metadata": {},
     "output_type": "execute_result"
    }
   ],
   "source": [
    "d['ScaleMarks'] = 10*(d['marks']/90)\n",
    "d"
   ]
  },
  {
   "cell_type": "code",
   "execution_count": 250,
   "id": "5fc9b511-f832-47bb-ab0a-69115e367327",
   "metadata": {},
   "outputs": [
    {
     "data": {
      "text/html": [
       "<div>\n",
       "<style scoped>\n",
       "    .dataframe tbody tr th:only-of-type {\n",
       "        vertical-align: middle;\n",
       "    }\n",
       "\n",
       "    .dataframe tbody tr th {\n",
       "        vertical-align: top;\n",
       "    }\n",
       "\n",
       "    .dataframe thead th {\n",
       "        text-align: right;\n",
       "    }\n",
       "</style>\n",
       "<table border=\"1\" class=\"dataframe\">\n",
       "  <thead>\n",
       "    <tr style=\"text-align: right;\">\n",
       "      <th></th>\n",
       "      <th>marks</th>\n",
       "      <th>grades</th>\n",
       "    </tr>\n",
       "  </thead>\n",
       "  <tbody>\n",
       "    <tr>\n",
       "      <th>A</th>\n",
       "      <td>85</td>\n",
       "      <td>5.0</td>\n",
       "    </tr>\n",
       "    <tr>\n",
       "      <th>B</th>\n",
       "      <td>75</td>\n",
       "      <td>4.4</td>\n",
       "    </tr>\n",
       "    <tr>\n",
       "      <th>C</th>\n",
       "      <td>50</td>\n",
       "      <td>3.3</td>\n",
       "    </tr>\n",
       "    <tr>\n",
       "      <th>D</th>\n",
       "      <td>40</td>\n",
       "      <td>2.5</td>\n",
       "    </tr>\n",
       "  </tbody>\n",
       "</table>\n",
       "</div>"
      ],
      "text/plain": [
       "   marks  grades\n",
       "A     85     5.0\n",
       "B     75     4.4\n",
       "C     50     3.3\n",
       "D     40     2.5"
      ]
     },
     "execution_count": 250,
     "metadata": {},
     "output_type": "execute_result"
    }
   ],
   "source": [
    "d"
   ]
  },
  {
   "cell_type": "code",
   "execution_count": 252,
   "id": "af5dc125-aaba-4df9-a935-e46e1fa4e577",
   "metadata": {},
   "outputs": [
    {
     "data": {
      "text/html": [
       "<div>\n",
       "<style scoped>\n",
       "    .dataframe tbody tr th:only-of-type {\n",
       "        vertical-align: middle;\n",
       "    }\n",
       "\n",
       "    .dataframe tbody tr th {\n",
       "        vertical-align: top;\n",
       "    }\n",
       "\n",
       "    .dataframe thead th {\n",
       "        text-align: right;\n",
       "    }\n",
       "</style>\n",
       "<table border=\"1\" class=\"dataframe\">\n",
       "  <thead>\n",
       "    <tr style=\"text-align: right;\">\n",
       "      <th></th>\n",
       "      <th>marks</th>\n",
       "      <th>grades</th>\n",
       "    </tr>\n",
       "  </thead>\n",
       "  <tbody>\n",
       "    <tr>\n",
       "      <th>A</th>\n",
       "      <td>85</td>\n",
       "      <td>5.0</td>\n",
       "    </tr>\n",
       "    <tr>\n",
       "      <th>B</th>\n",
       "      <td>75</td>\n",
       "      <td>4.4</td>\n",
       "    </tr>\n",
       "  </tbody>\n",
       "</table>\n",
       "</div>"
      ],
      "text/plain": [
       "   marks  grades\n",
       "A     85     5.0\n",
       "B     75     4.4"
      ]
     },
     "execution_count": 252,
     "metadata": {},
     "output_type": "execute_result"
    }
   ],
   "source": [
    "g = d[d['marks']>70]\n",
    "g"
   ]
  },
  {
   "cell_type": "code",
   "execution_count": 254,
   "id": "108f57e4-48c0-4fa8-a639-f4740ca44688",
   "metadata": {},
   "outputs": [
    {
     "data": {
      "text/html": [
       "<div>\n",
       "<style scoped>\n",
       "    .dataframe tbody tr th:only-of-type {\n",
       "        vertical-align: middle;\n",
       "    }\n",
       "\n",
       "    .dataframe tbody tr th {\n",
       "        vertical-align: top;\n",
       "    }\n",
       "\n",
       "    .dataframe thead th {\n",
       "        text-align: right;\n",
       "    }\n",
       "</style>\n",
       "<table border=\"1\" class=\"dataframe\">\n",
       "  <thead>\n",
       "    <tr style=\"text-align: right;\">\n",
       "      <th></th>\n",
       "      <th>a</th>\n",
       "      <th>b</th>\n",
       "      <th>c</th>\n",
       "    </tr>\n",
       "  </thead>\n",
       "  <tbody>\n",
       "    <tr>\n",
       "      <th>0</th>\n",
       "      <td>1.0</td>\n",
       "      <td>4</td>\n",
       "      <td>NaN</td>\n",
       "    </tr>\n",
       "    <tr>\n",
       "      <th>1</th>\n",
       "      <td>NaN</td>\n",
       "      <td>-3</td>\n",
       "      <td>9.0</td>\n",
       "    </tr>\n",
       "  </tbody>\n",
       "</table>\n",
       "</div>"
      ],
      "text/plain": [
       "     a  b    c\n",
       "0  1.0  4  NaN\n",
       "1  NaN -3  9.0"
      ]
     },
     "execution_count": 254,
     "metadata": {},
     "output_type": "execute_result"
    }
   ],
   "source": [
    "B = pd.DataFrame([{'a':1, 'b':4},{'b':-3, 'c':9}])\n",
    "B"
   ]
  },
  {
   "cell_type": "code",
   "execution_count": 255,
   "id": "e7d1c4ec-241c-4daa-9380-9a19df6422e4",
   "metadata": {},
   "outputs": [
    {
     "data": {
      "text/html": [
       "<div>\n",
       "<style scoped>\n",
       "    .dataframe tbody tr th:only-of-type {\n",
       "        vertical-align: middle;\n",
       "    }\n",
       "\n",
       "    .dataframe tbody tr th {\n",
       "        vertical-align: top;\n",
       "    }\n",
       "\n",
       "    .dataframe thead th {\n",
       "        text-align: right;\n",
       "    }\n",
       "</style>\n",
       "<table border=\"1\" class=\"dataframe\">\n",
       "  <thead>\n",
       "    <tr style=\"text-align: right;\">\n",
       "      <th></th>\n",
       "      <th>a</th>\n",
       "      <th>b</th>\n",
       "      <th>c</th>\n",
       "    </tr>\n",
       "  </thead>\n",
       "  <tbody>\n",
       "    <tr>\n",
       "      <th>0</th>\n",
       "      <td>1.0</td>\n",
       "      <td>4</td>\n",
       "      <td>0.0</td>\n",
       "    </tr>\n",
       "    <tr>\n",
       "      <th>1</th>\n",
       "      <td>0.0</td>\n",
       "      <td>-3</td>\n",
       "      <td>9.0</td>\n",
       "    </tr>\n",
       "  </tbody>\n",
       "</table>\n",
       "</div>"
      ],
      "text/plain": [
       "     a  b    c\n",
       "0  1.0  4  0.0\n",
       "1  0.0 -3  9.0"
      ]
     },
     "execution_count": 255,
     "metadata": {},
     "output_type": "execute_result"
    }
   ],
   "source": [
    "B.fillna(0)"
   ]
  },
  {
   "cell_type": "code",
   "execution_count": 256,
   "id": "af0668fb-52dc-4378-905a-77e07a25a235",
   "metadata": {},
   "outputs": [
    {
     "data": {
      "text/html": [
       "<div>\n",
       "<style scoped>\n",
       "    .dataframe tbody tr th:only-of-type {\n",
       "        vertical-align: middle;\n",
       "    }\n",
       "\n",
       "    .dataframe tbody tr th {\n",
       "        vertical-align: top;\n",
       "    }\n",
       "\n",
       "    .dataframe thead th {\n",
       "        text-align: right;\n",
       "    }\n",
       "</style>\n",
       "<table border=\"1\" class=\"dataframe\">\n",
       "  <thead>\n",
       "    <tr style=\"text-align: right;\">\n",
       "      <th></th>\n",
       "      <th>a</th>\n",
       "      <th>b</th>\n",
       "      <th>c</th>\n",
       "    </tr>\n",
       "  </thead>\n",
       "  <tbody>\n",
       "  </tbody>\n",
       "</table>\n",
       "</div>"
      ],
      "text/plain": [
       "Empty DataFrame\n",
       "Columns: [a, b, c]\n",
       "Index: []"
      ]
     },
     "execution_count": 256,
     "metadata": {},
     "output_type": "execute_result"
    }
   ],
   "source": [
    "B.dropna()"
   ]
  },
  {
   "cell_type": "code",
   "execution_count": 258,
   "id": "9ba21dd4-da15-4df4-9bd2-6d37f26dbc51",
   "metadata": {},
   "outputs": [],
   "source": [
    "F = pd.Series(['a', 'b', 'c'], index = [1,3,4])"
   ]
  },
  {
   "cell_type": "code",
   "execution_count": 259,
   "id": "487d8e52-d047-47d3-a3e7-4b0359448418",
   "metadata": {},
   "outputs": [
    {
     "data": {
      "text/plain": [
       "'a'"
      ]
     },
     "execution_count": 259,
     "metadata": {},
     "output_type": "execute_result"
    }
   ],
   "source": [
    "F[1]"
   ]
  },
  {
   "cell_type": "code",
   "execution_count": 260,
   "id": "972fbb1d-b001-4063-8a38-71356210554a",
   "metadata": {},
   "outputs": [
    {
     "data": {
      "text/plain": [
       "3    b\n",
       "4    c\n",
       "dtype: object"
      ]
     },
     "execution_count": 260,
     "metadata": {},
     "output_type": "execute_result"
    }
   ],
   "source": [
    "F[1:3]"
   ]
  },
  {
   "cell_type": "code",
   "execution_count": 261,
   "id": "c2d395f6-b071-4bc5-bee7-aac20d0b4e1b",
   "metadata": {},
   "outputs": [
    {
     "data": {
      "text/plain": [
       "4    c\n",
       "dtype: object"
      ]
     },
     "execution_count": 261,
     "metadata": {},
     "output_type": "execute_result"
    }
   ],
   "source": [
    "F[2:3]"
   ]
  },
  {
   "cell_type": "code",
   "execution_count": 262,
   "id": "2d74502c-37b4-44e5-a865-168a280d1887",
   "metadata": {},
   "outputs": [
    {
     "data": {
      "text/plain": [
       "1    a\n",
       "3    b\n",
       "dtype: object"
      ]
     },
     "execution_count": 262,
     "metadata": {},
     "output_type": "execute_result"
    }
   ],
   "source": [
    "F.loc[1:3]"
   ]
  },
  {
   "cell_type": "code",
   "execution_count": 263,
   "id": "a0481423-dd3c-48c0-a561-74ffb0a7ba6c",
   "metadata": {},
   "outputs": [
    {
     "data": {
      "text/plain": [
       "3    b\n",
       "4    c\n",
       "dtype: object"
      ]
     },
     "execution_count": 263,
     "metadata": {},
     "output_type": "execute_result"
    }
   ],
   "source": [
    "F.iloc[1:3]"
   ]
  },
  {
   "cell_type": "code",
   "execution_count": 264,
   "id": "b6b8854b-cce9-44be-822d-f7315ad5bd41",
   "metadata": {},
   "outputs": [
    {
     "data": {
      "text/html": [
       "<div>\n",
       "<style scoped>\n",
       "    .dataframe tbody tr th:only-of-type {\n",
       "        vertical-align: middle;\n",
       "    }\n",
       "\n",
       "    .dataframe tbody tr th {\n",
       "        vertical-align: top;\n",
       "    }\n",
       "\n",
       "    .dataframe thead th {\n",
       "        text-align: right;\n",
       "    }\n",
       "</style>\n",
       "<table border=\"1\" class=\"dataframe\">\n",
       "  <thead>\n",
       "    <tr style=\"text-align: right;\">\n",
       "      <th></th>\n",
       "      <th>marks</th>\n",
       "      <th>grades</th>\n",
       "    </tr>\n",
       "  </thead>\n",
       "  <tbody>\n",
       "    <tr>\n",
       "      <th>A</th>\n",
       "      <td>85</td>\n",
       "      <td>5.0</td>\n",
       "    </tr>\n",
       "    <tr>\n",
       "      <th>B</th>\n",
       "      <td>75</td>\n",
       "      <td>4.4</td>\n",
       "    </tr>\n",
       "    <tr>\n",
       "      <th>C</th>\n",
       "      <td>50</td>\n",
       "      <td>3.3</td>\n",
       "    </tr>\n",
       "    <tr>\n",
       "      <th>D</th>\n",
       "      <td>40</td>\n",
       "      <td>2.5</td>\n",
       "    </tr>\n",
       "  </tbody>\n",
       "</table>\n",
       "</div>"
      ],
      "text/plain": [
       "   marks  grades\n",
       "A     85     5.0\n",
       "B     75     4.4\n",
       "C     50     3.3\n",
       "D     40     2.5"
      ]
     },
     "execution_count": 264,
     "metadata": {},
     "output_type": "execute_result"
    }
   ],
   "source": [
    "d"
   ]
  },
  {
   "cell_type": "code",
   "execution_count": 265,
   "id": "ae3177b4-41e1-4291-80a6-8725b35ec960",
   "metadata": {},
   "outputs": [
    {
     "data": {
      "text/plain": [
       "marks     50.0\n",
       "grades     3.3\n",
       "Name: C, dtype: float64"
      ]
     },
     "execution_count": 265,
     "metadata": {},
     "output_type": "execute_result"
    }
   ],
   "source": [
    "d.iloc[2]"
   ]
  },
  {
   "cell_type": "code",
   "execution_count": 268,
   "id": "44b70a9b-a07d-488f-ab81-11e3cfe76cca",
   "metadata": {},
   "outputs": [
    {
     "data": {
      "text/plain": [
       "marks     40.0\n",
       "grades     2.5\n",
       "Name: D, dtype: float64"
      ]
     },
     "execution_count": 268,
     "metadata": {},
     "output_type": "execute_result"
    }
   ],
   "source": [
    "d.iloc[3]"
   ]
  },
  {
   "cell_type": "code",
   "execution_count": 271,
   "id": "29588ac3-dc43-4eae-8d86-7d5c411b55ad",
   "metadata": {},
   "outputs": [
    {
     "ename": "ImportError",
     "evalue": "cannot import name 'Simplelmputer' from 'sklearn.impute' (C:\\Users\\Amina\\anaconda3\\Lib\\site-packages\\sklearn\\impute\\__init__.py)",
     "output_type": "error",
     "traceback": [
      "\u001b[1;31m---------------------------------------------------------------------------\u001b[0m",
      "\u001b[1;31mImportError\u001b[0m                               Traceback (most recent call last)",
      "Cell \u001b[1;32mIn[271], line 3\u001b[0m\n\u001b[0;32m      1\u001b[0m \u001b[38;5;28;01mimport\u001b[39;00m \u001b[38;5;21;01mpandas\u001b[39;00m \u001b[38;5;28;01mas\u001b[39;00m \u001b[38;5;21;01mpd\u001b[39;00m\n\u001b[0;32m      2\u001b[0m \u001b[38;5;28;01mimport\u001b[39;00m \u001b[38;5;21;01mnumpy\u001b[39;00m \u001b[38;5;28;01mas\u001b[39;00m \u001b[38;5;21;01mnp\u001b[39;00m\n\u001b[1;32m----> 3\u001b[0m \u001b[38;5;28;01mfrom\u001b[39;00m \u001b[38;5;21;01msklearn\u001b[39;00m\u001b[38;5;21;01m.\u001b[39;00m\u001b[38;5;21;01mimpute\u001b[39;00m \u001b[38;5;28;01mimport\u001b[39;00m Simplelmputer\n",
      "\u001b[1;31mImportError\u001b[0m: cannot import name 'Simplelmputer' from 'sklearn.impute' (C:\\Users\\Amina\\anaconda3\\Lib\\site-packages\\sklearn\\impute\\__init__.py)"
     ]
    }
   ],
   "source": [
    "import pandas as pd\n",
    "import numpy as np\n",
    "from sklearn.impute import Simplelmputer\n"
   ]
  },
  {
   "cell_type": "code",
   "execution_count": 272,
   "id": "8d5b4fd8-419b-495b-9753-e28b68ac8b70",
   "metadata": {},
   "outputs": [
    {
     "name": "stdout",
     "output_type": "stream",
     "text": [
      "Name: scikit-learn\n",
      "Version: 1.4.2\n",
      "Summary: A set of python modules for machine learning and data mining\n",
      "Home-page: https://scikit-learn.org\n",
      "Author: \n",
      "Author-email: \n",
      "License: new BSD\n",
      "Location: C:\\Users\\Amina\\anaconda3\\Lib\\site-packages\n",
      "Requires: joblib, numpy, scipy, threadpoolctl\n",
      "Required-by: imbalanced-learn\n"
     ]
    }
   ],
   "source": [
    "!pip show scikit-learn"
   ]
  },
  {
   "cell_type": "code",
   "execution_count": 273,
   "id": "cc4ac5f3-45cf-457d-bcb4-2c5f3624ca7f",
   "metadata": {},
   "outputs": [
    {
     "name": "stdout",
     "output_type": "stream",
     "text": [
      "1.4.2\n"
     ]
    }
   ],
   "source": [
    "import sklearn\n",
    "print(sklearn.__version__)"
   ]
  },
  {
   "cell_type": "code",
   "execution_count": 1,
   "id": "4e4da178-1e4e-4337-b947-89611471f9e4",
   "metadata": {},
   "outputs": [],
   "source": [
    "import pandas as pd\n",
    "import numpy as np\n",
    "from sklearn.impute import SimpleImputer"
   ]
  },
  {
   "cell_type": "code",
   "execution_count": null,
   "id": "321defe3-de12-4774-bb0c-2092fed586a8",
   "metadata": {},
   "outputs": [],
   "source": [
    "df = pd.read_cs"
   ]
  },
  {
   "cell_type": "code",
   "execution_count": 2,
   "id": "0d44c7bb-bc43-44d7-adf3-fca25ce9403a",
   "metadata": {},
   "outputs": [],
   "source": [
    "import pandas as pd"
   ]
  }
 ],
 "metadata": {
  "kernelspec": {
   "display_name": "Python 3 (ipykernel)",
   "language": "python",
   "name": "python3"
  },
  "language_info": {
   "codemirror_mode": {
    "name": "ipython",
    "version": 3
   },
   "file_extension": ".py",
   "mimetype": "text/x-python",
   "name": "python",
   "nbconvert_exporter": "python",
   "pygments_lexer": "ipython3",
   "version": "3.12.4"
  }
 },
 "nbformat": 4,
 "nbformat_minor": 5
}
