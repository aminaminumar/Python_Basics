{
 "cells": [
  {
   "cell_type": "markdown",
   "id": "53de0e4c-5eff-4780-ada8-b95363b468c1",
   "metadata": {},
   "source": [
    "Exercise Set: Python Basics\n",
    "Exercise 1: Data Types and Variables\n",
    "Create Variables:\n",
    "\n",
    "Create variables of different data types: an integer, a float, a string, and a boolean. Print each variable and its type.\n",
    "Type Conversion:\n",
    "\n",
    "Write a program that takes user input for an integer and a float, converts them to the appropriate types, and prints their sum.\n",
    "Exercise 2: Control Structures\n",
    "Even or Odd:\n",
    "\n",
    "Write a program that prompts the user for a number and checks if it is even or odd. Print a message indicating the result.\n",
    "Grade Calculator:\n",
    "\n",
    "Create a program that takes a score (0-100) as input and prints the corresponding letter grade (A, B, C, D, F).\n",
    "Exercise 3: Loops\n",
    "Sum of Natural Numbers:\n",
    "\n",
    "Write a program that calculates the sum of all natural numbers from 1 to a user-defined limit using a loop.\n",
    "Multiplication Table:\n",
    "\n",
    "Create a program that generates a multiplication table for a number input by the user.\n",
    "Exercise 4: Functions\n",
    "Simple Calculator Function:\n",
    "\n",
    "Define a function that takes two numbers and an operator as arguments (like +, -, *, /) and returns the result of the operation.\n",
    "Fibonacci Sequence:\n",
    "\n",
    "Write a function that generates the Fibonacci sequence up to n terms, where n is a user-defined input.\n",
    "Exercise 5: Lists and Dictionaries\n",
    "List Operations:\n",
    "\n",
    "Create a list of 5 fruits. Write a program to:\n",
    "Add a fruit to the list.\n",
    "Remove a fruit from the list.\n",
    "Print the sorted list.\n",
    "Dictionary of Contacts:\n",
    "\n",
    "Create a dictionary to store names and phone numbers. Implement functionality to:\n",
    "Add a contact.\n",
    "Remove a contact.\n",
    "Print all contacts.\n",
    "Exercise 6: String Manipulation\n",
    "Palindrome Checker:\n",
    "\n",
    "Write a function that checks if a given string is a palindrome (reads the same forwards and backwards).\n",
    "Count Vowels:\n",
    "\n",
    "Create a program that counts the number of vowels in a user-provided string.\n",
    "Exercise 7: File I/O\n",
    "Read and Write Files:\n",
    "Write a program that:\n",
    "Creates a text file and writes a few lines of text to it.\n",
    "Reads the contents of the file and prints them to the console.\n",
    "Exercise 8: Bonus Challenge\n",
    "Rock-Paper-Scissors Game:\n",
    "Create a simple rock-paper-scissors game where the user plays against the computer. The computer should randomly choose rock, paper, or scissors, and the program should determine the winner.\n",
    "Tips for Completing Exercises\n",
    "Start with simple implementations and gradually add complexity.\n",
    "Make sure to test your code with different inputs to ensure it works as expected.\n",
    "Comment your code to explain what each part does, which will help reinforce your understanding.\n",
    "Feel free to tackle these exercises at your own pace, and let me know if you have any questions or need help with specific parts!"
   ]
  },
  {
   "cell_type": "code",
   "execution_count": 4,
   "id": "85fd5ddb-fa0f-4ae6-8559-a69d870d9e00",
   "metadata": {},
   "outputs": [
    {
     "name": "stdout",
     "output_type": "stream",
     "text": [
      "Amina\n",
      "<class 'str'>\n",
      "25\n",
      "<class 'int'>\n",
      "True\n",
      "<class 'bool'>\n",
      "20.5\n",
      "<class 'float'>\n"
     ]
    }
   ],
   "source": [
    "#1. variables\n",
    "name = 'Amina'\n",
    "age = 25\n",
    "married = True\n",
    "price = 20.5\n",
    "print(name)\n",
    "print(type(name))\n",
    "\n",
    "print(age)\n",
    "print(type(age))\n",
    "\n",
    "print(married)\n",
    "print(type(married))\n",
    "\n",
    "print(price)\n",
    "print(type(price))"
   ]
  },
  {
   "cell_type": "code",
   "execution_count": 5,
   "id": "47f66dc2-aad9-4c9a-bb35-ab7064cf054e",
   "metadata": {},
   "outputs": [
    {
     "name": "stdin",
     "output_type": "stream",
     "text": [
      "enter numebrt 2\n",
      "enter another number 2\n"
     ]
    },
    {
     "name": "stdout",
     "output_type": "stream",
     "text": [
      "4.0\n"
     ]
    }
   ],
   "source": [
    "#2.variables datatypes\n",
    "integer = int(input('enter numeber'))\n",
    "float = float(input('enter another number'))\n",
    "sum = integer + float\n",
    "print(sum)"
   ]
  },
  {
   "cell_type": "code",
   "execution_count": 10,
   "id": "fa8ccf9b-4253-4a45-9296-9799b9d00f9a",
   "metadata": {},
   "outputs": [
    {
     "name": "stdin",
     "output_type": "stream",
     "text": [
      "enter a number 5\n"
     ]
    },
    {
     "name": "stdout",
     "output_type": "stream",
     "text": [
      "Odd number\n"
     ]
    }
   ],
   "source": [
    "#3. control structure-- even or odd\n",
    "#Write a program that prompts the user for a number and checks if it is even or odd. Print a message indicating the result.\n",
    "number = int(input(\"enter a number\"))\n",
    "if number % 2 == 0:\n",
    "    print(\"Even number\")\n",
    "else:\n",
    "    print(\"Odd number\")\n"
   ]
  },
  {
   "cell_type": "code",
   "execution_count": 15,
   "id": "c792ad6b-42c6-4b23-9543-929a35619d0a",
   "metadata": {},
   "outputs": [
    {
     "name": "stdin",
     "output_type": "stream",
     "text": [
      "What is the score 87\n"
     ]
    },
    {
     "name": "stdout",
     "output_type": "stream",
     "text": [
      "B\n"
     ]
    }
   ],
   "source": [
    "#Grade Calculator:\n",
    "#Create a program that takes a score (0-100) as input and prints the corresponding letter grade (A, B, C, D, F).\n",
    "score = int(input('What is the score'))\n",
    "if score > 100:\n",
    "    print('invalid score. enter score less than 100')\n",
    "else:\n",
    "    if score >= 90:\n",
    "        print('A')\n",
    "    elif score >= 80:\n",
    "        print('B')\n",
    "    elif score >= 70:\n",
    "        print('C')\n",
    "    elif score >= 50:\n",
    "        print('D')\n",
    "    else:\n",
    "        print('F')\n"
   ]
  },
  {
   "cell_type": "code",
   "execution_count": 19,
   "id": "20de408b-89d9-4bc0-8ef0-549eb7256a5e",
   "metadata": {},
   "outputs": [
    {
     "name": "stdin",
     "output_type": "stream",
     "text": [
      "Enter a limit 4\n"
     ]
    },
    {
     "name": "stdout",
     "output_type": "stream",
     "text": [
      "Sum of number from 1 to 4 is: 10\n"
     ]
    }
   ],
   "source": [
    "# Exercise 3: Loops\n",
    "# Sum of Natural Numbers:\n",
    "# Write a program that calculates the sum of all natural numbers from 1 to a user-defined limit using a loop.\n",
    "\n",
    "\n",
    "limit  = int(input(\"Enter a limit\"))\n",
    "\n",
    "#initialize sum\n",
    "sum = 0\n",
    "\n",
    "#loop through numbers and add it\n",
    "for number in range(1, limit+1):\n",
    "    sum += number\n",
    "print(f'Sum of number from 1 to {limit} is: {sum}')\n",
    "    "
   ]
  },
  {
   "cell_type": "code",
   "execution_count": 23,
   "id": "eafbf9f2-11c9-4d2b-84a5-2666e366a7ec",
   "metadata": {},
   "outputs": [
    {
     "name": "stdin",
     "output_type": "stream",
     "text": [
      "enter a positive number 2\n"
     ]
    },
    {
     "name": "stdout",
     "output_type": "stream",
     "text": [
      "2 * 0 = 0\n",
      "2 * 1 = 2\n",
      "2 * 2 = 4\n",
      "2 * 3 = 6\n",
      "2 * 4 = 8\n",
      "2 * 5 = 10\n",
      "2 * 6 = 12\n",
      "2 * 7 = 14\n",
      "2 * 8 = 16\n",
      "2 * 9 = 18\n",
      "2 * 10 = 20\n",
      "2 * 11 = 22\n",
      "2 * 12 = 24\n"
     ]
    }
   ],
   "source": [
    "#Create a program that generates a multiplication table for a number input by the user.\n",
    "number = int(input('enter a positive number'))\n",
    "\n",
    "for numb in range(13):\n",
    "    product = number * numb\n",
    "    print(f\"{number} * {numb} = {product}\")\n"
   ]
  },
  {
   "cell_type": "code",
   "execution_count": 29,
   "id": "25ccacba-2163-41dc-9e09-3a820d40ddc4",
   "metadata": {},
   "outputs": [
    {
     "data": {
      "text/plain": [
       "6"
      ]
     },
     "execution_count": 29,
     "metadata": {},
     "output_type": "execute_result"
    }
   ],
   "source": [
    "# Exercise 4: Functions\n",
    "# Simple Calculator Function:\n",
    "\n",
    "# Define a function that takes two numbers and an operator as arguments (like +, -, *, /) and returns the result of\n",
    "# the operation.\n",
    "\n",
    "def calculator(num1, num2, operator):\n",
    "    if operator == '+':\n",
    "        return num1 + num2\n",
    "    elif operator == '-':\n",
    "        return num1 - num2\n",
    "    elif operator == '*':\n",
    "        return num1 * num2\n",
    "    elif operator == '/':\n",
    "        if num2 == 0:\n",
    "            print('Error: Division by zero')\n",
    "        else:\n",
    "            return num1 / num2\n",
    "\n",
    "#calling the function\n",
    "calculator(2, 4, '+')"
   ]
  },
  {
   "cell_type": "code",
   "execution_count": 43,
   "id": "d93a5405-b595-432f-bb86-3046a0258897",
   "metadata": {},
   "outputs": [
    {
     "name": "stdin",
     "output_type": "stream",
     "text": [
      "enter number 5\n"
     ]
    },
    {
     "name": "stdout",
     "output_type": "stream",
     "text": [
      "[0, 1, 1, 2, 3]\n"
     ]
    }
   ],
   "source": [
    "#Fibonacci Sequence:\n",
    "#Write a function that generates the Fibonacci sequence up to n terms, where n is a user-defined input.\n",
    "\n",
    "def fibonacci(n):\n",
    "    list = [0, 1]\n",
    "\n",
    "    for i in range(2, n):\n",
    "        next = list[-1] + list[-2]\n",
    "        list.append(next)\n",
    "    print(list)\n",
    "\n",
    "number = int(input('enter number'))\n",
    "result = fibonacci(number)\n",
    "#print(result)"
   ]
  },
  {
   "cell_type": "code",
   "execution_count": 74,
   "id": "c2570f95-ed46-498e-a502-c77f8508a276",
   "metadata": {},
   "outputs": [
    {
     "name": "stdin",
     "output_type": "stream",
     "text": [
      "enter number 10\n"
     ]
    },
    {
     "name": "stdout",
     "output_type": "stream",
     "text": [
      "sum of numbers from 1 to 10 is 30\n"
     ]
    }
   ],
   "source": [
    "# Exercise 1: Sum of Even Numbers\n",
    "# Write a program that calculates the sum of all even numbers from 1 to a user-defined li\n",
    "limit = int(input('enter number'))\n",
    "\n",
    "summ = 0\n",
    "for i in range(limit+1):\n",
    "    if i %2 == 0:\n",
    "        summ += i\n",
    "print(f\"sum of numbers from 1 to {limit} is {summ}\")"
   ]
  },
  {
   "cell_type": "code",
   "execution_count": 85,
   "id": "90182127-1d55-4cdf-bad1-8b2226f53544",
   "metadata": {},
   "outputs": [
    {
     "name": "stdin",
     "output_type": "stream",
     "text": [
      "Enter a number to find factorial 5\n"
     ]
    },
    {
     "name": "stdout",
     "output_type": "stream",
     "text": [
      "the factorial of 5 is: 120\n"
     ]
    }
   ],
   "source": [
    "# Exercise 2: Factorial Calculation\n",
    "# Create a program that calculates the factorial of a user-defined positive integer.\n",
    "# The factorial of a number n is the product of all positive integers up to n.\n",
    "factorial = int(input('Enter a number to find factorial'))\n",
    "fact_product = 1\n",
    "for number in range(1, factorial+1):\n",
    "    fact_product = fact_product * number\n",
    "print(f\"the factorial of {factorial} is: {fact_product}\")"
   ]
  },
  {
   "cell_type": "code",
   "execution_count": 91,
   "id": "53c44b9c-d0cd-4978-835f-c0f26e734d5a",
   "metadata": {},
   "outputs": [
    {
     "name": "stdin",
     "output_type": "stream",
     "text": [
      "enter a number 10\n"
     ]
    },
    {
     "name": "stdout",
     "output_type": "stream",
     "text": [
      "10\n",
      "9\n",
      "8\n",
      "7\n",
      "6\n",
      "5\n",
      "4\n",
      "3\n",
      "2\n",
      "1\n",
      "0\n",
      "blast off\n"
     ]
    }
   ],
   "source": [
    "# Exercise 3: Countdown\n",
    "# Write a program that counts down from a user-defined number to 1, printing each number.\n",
    "# At the end, print \"Blast off!\".\n",
    "\n",
    "number = int(input('enter a number'))\n",
    "\n",
    "for num in range(number, -1, -1):\n",
    "    print(num)\n",
    "print('blast off')"
   ]
  },
  {
   "cell_type": "code",
   "execution_count": 97,
   "id": "d0d2e990-eebf-4044-9b5b-e38a609cc953",
   "metadata": {},
   "outputs": [
    {
     "name": "stdin",
     "output_type": "stream",
     "text": [
      "enter the limit to creaate list of squears 4\n"
     ]
    },
    {
     "name": "stdout",
     "output_type": "stream",
     "text": [
      "[1, 4, 9, 16]\n"
     ]
    }
   ],
   "source": [
    "# Exercise 4: Square of Numbers\n",
    "# Create a program that generates a list of squares of the first n natural numbers (1 to n). The output should be a list.\n",
    "\n",
    "squares = []\n",
    "limit = int(input('enter the limit to creaate list of squears'))\n",
    "\n",
    "for x in range(1, limit +1):\n",
    "    y = x*x\n",
    "    squares.append(y)\n",
    "print(squares)"
   ]
  },
  {
   "cell_type": "code",
   "execution_count": 108,
   "id": "a7eb99af-4c3a-4596-81ba-6049f92f67ce",
   "metadata": {},
   "outputs": [
    {
     "name": "stdin",
     "output_type": "stream",
     "text": [
      "enter a statement/ sentence my name is amina aminu umar\n",
      "enter the character you want to count a\n"
     ]
    },
    {
     "name": "stdout",
     "output_type": "stream",
     "text": [
      "5\n"
     ]
    }
   ],
   "source": [
    "# Exercise 5: Character Counter\n",
    "# Write a program that counts how many times a specific character appears in a given string.\n",
    "# Prompt the user for both the string and the character.\n",
    "statement = input(\"enter a statement/ sentence\")\n",
    "character = input(\"enter the character you want to count\")\n",
    "\n",
    "counter = 0\n",
    "for char in statement:\n",
    "    if char == character:\n",
    "        counter += 1\n",
    "print(counter)"
   ]
  },
  {
   "cell_type": "code",
   "execution_count": 109,
   "id": "026f6f83-5fee-46cb-83db-ad127eb9c8a8",
   "metadata": {},
   "outputs": [
    {
     "name": "stdin",
     "output_type": "stream",
     "text": [
      "enter a number 2\n"
     ]
    },
    {
     "name": "stdout",
     "output_type": "stream",
     "text": [
      "2 * 1 = 2\n",
      "2 * 2 = 4\n",
      "2 * 3 = 6\n",
      "2 * 4 = 8\n",
      "2 * 5 = 10\n",
      "2 * 6 = 12\n",
      "2 * 7 = 14\n",
      "2 * 8 = 16\n",
      "2 * 9 = 18\n",
      "2 * 10 = 20\n",
      "2 * 11 = 22\n",
      "2 * 12 = 24\n"
     ]
    }
   ],
   "source": [
    "# Exercise 6: Multiplication Table\n",
    "# Generate and print the multiplication table for a user-defined number up to 10.\n",
    "# Format the output for readability.\n",
    "\n",
    "times = int(input(\"enter a number\"))\n",
    "\n",
    "for x in range(1, 13):\n",
    "    product = x * times\n",
    "    print(f\"{times} * {x} = {product}\")"
   ]
  },
  {
   "cell_type": "code",
   "execution_count": 126,
   "id": "2731daa9-5078-4c14-8d55-4e4ac85e3913",
   "metadata": {},
   "outputs": [
    {
     "name": "stdin",
     "output_type": "stream",
     "text": [
      "enter a number 30\n"
     ]
    },
    {
     "name": "stdout",
     "output_type": "stream",
     "text": [
      "prime numbers from 30 is:\n",
      "2\n",
      "3\n",
      "5\n",
      "7\n",
      "11\n",
      "13\n",
      "17\n",
      "19\n",
      "23\n",
      "29\n"
     ]
    }
   ],
   "source": [
    "# Exercise 7: Prime Numbers\n",
    "# Write a program that prints all prime numbers up to a user-defined limit.\n",
    "# A prime number is a number greater than 1 that has no divisors other than 1 and itself.\n",
    "\n",
    "\n",
    "def prime(num):\n",
    "    if num <= 0:\n",
    "        return False \n",
    "        \n",
    "    for x in range(2, num):\n",
    "        if num % x == 0:\n",
    "            return False\n",
    "        \n",
    "    return True\n",
    "\n",
    "number = int(input(\"enter a number\"))\n",
    "print(f\"prime numbers from {number} is:\")\n",
    "for i in range(2, number):\n",
    "    if prime(i):\n",
    "        print(i)"
   ]
  },
  {
   "cell_type": "code",
   "execution_count": 132,
   "id": "58bbbc56-1934-414f-8761-84019c49a605",
   "metadata": {},
   "outputs": [
    {
     "name": "stdin",
     "output_type": "stream",
     "text": [
      "enter a number 20\n"
     ]
    },
    {
     "name": "stdout",
     "output_type": "stream",
     "text": [
      "Prime numbers from 20 is:\n",
      "2\n",
      "3\n",
      "5\n",
      "7\n",
      "11\n",
      "13\n",
      "17\n",
      "19\n"
     ]
    }
   ],
   "source": [
    "def is_prime(num):\n",
    "    if num <= 0:\n",
    "        return False\n",
    "\n",
    "    for x in range(2, num):\n",
    "        if num % x == 0:\n",
    "            return False\n",
    "\n",
    "    return True\n",
    "\n",
    "limit = int(input(\"enter a number\"))\n",
    "print(f\"Prime numbers from {limit} is:\")\n",
    "\n",
    "for number in range(2, limit):\n",
    "    if is_prime(number):\n",
    "        print(number)\n",
    "        "
   ]
  },
  {
   "cell_type": "code",
   "execution_count": 153,
   "id": "f39b55b7-d486-4f82-a206-a0333afeea72",
   "metadata": {},
   "outputs": [
    {
     "name": "stdin",
     "output_type": "stream",
     "text": [
      "enter a limit 12\n"
     ]
    },
    {
     "name": "stdout",
     "output_type": "stream",
     "text": [
      "the divisors of 12 is [1, 2, 3, 4, 6, 12]\n"
     ]
    }
   ],
   "source": [
    "# Exercise 8: List of Divisors\n",
    "# Create a program that takes a number from the user and prints all its divisors.\n",
    "\n",
    "numb = int(input(\"enter a limit\"))\n",
    "\n",
    "divisor = []\n",
    "for i in range(1, numb+1):\n",
    "    if numb % i == 0:\n",
    "        divisor.append(i)\n",
    "print(f\"the divisors of {numb} is {divisor}\")\n",
    "        "
   ]
  },
  {
   "cell_type": "code",
   "execution_count": 174,
   "id": "8f3f00a1-7a5d-4a65-ba13-c099cc3f0789",
   "metadata": {},
   "outputs": [
    {
     "name": "stdin",
     "output_type": "stream",
     "text": [
      "enter a string amina\n"
     ]
    },
    {
     "name": "stdout",
     "output_type": "stream",
     "text": [
      "anima\n"
     ]
    }
   ],
   "source": [
    "# Exercise 9: Reversed String\n",
    "# Write a program that takes a string input from the user and prints the string in reverse order using a loop.\n",
    "\n",
    "stringss = input(\"enter a string\")\n",
    "reversed_string = \"\"\n",
    "for s in stringss[::-1]:\n",
    "    reversed_string += s\n",
    "print(reversed_string)"
   ]
  },
  {
   "cell_type": "code",
   "execution_count": 182,
   "id": "a759e543-b6b8-484c-8929-fcc47b041d76",
   "metadata": {},
   "outputs": [
    {
     "name": "stdin",
     "output_type": "stream",
     "text": [
      "enter number 5\n"
     ]
    },
    {
     "name": "stdout",
     "output_type": "stream",
     "text": [
      "[0, 1, 1]\n",
      "[0, 1, 1, 2]\n",
      "[0, 1, 1, 2, 3]\n"
     ]
    }
   ],
   "source": [
    "# Exercise 10: Fibonacci Sequence\n",
    "# Modify the earlier Fibonacci exercise to print each term of the Fibonacci sequence as it's generated,\n",
    "# instead of returning a list.\n",
    "\n",
    "def fibonacci(n):\n",
    "    fibonacci_list = [0, 1]\n",
    "\n",
    "    for i in range(2, n):\n",
    "        next = fibonacci_list[-1] + fibonacci_list[-2]\n",
    "        fibonacci_list.append(next)\n",
    "        print(fibonacci_list)\n",
    "\n",
    "number = int(input('enter number'))\n",
    "fibonacci(number)"
   ]
  },
  {
   "cell_type": "markdown",
   "id": "20fc274d-0954-4812-817d-acdc9d89f5e8",
   "metadata": {},
   "source": [
    "Lists and Dictionaries\n",
    "List Operations:\n",
    "\n",
    "Create a list of 5 fruits. Write a program to:\n",
    "Add a fruit to the list.\n",
    "Remove a fruit from the list.\n",
    "Print the sorted list.\n",
    "Dictionary of Contacts:\n",
    "\n",
    "Create a dictionary to store names and phone numbers. Implement functionality to:\n",
    "Add a contact.\n",
    "Remove a contact.\n",
    "Print all contacts.\n",
    "Exercise 6: String Manipulation\n",
    "Palindrome Checker:\n",
    "\n",
    "Write a function that checks if a given string is a palindrome (reads the same forwards and backwards).\n",
    "Count Vowels:\n",
    "\n",
    "Create a program that counts the number of vowels in a user-provided string.\n",
    "Exercise 7: File I/O\n",
    "Read and Write Files:\n",
    "Write a program that:\n",
    "Creates a text file and writes a few lines of text to it.\n",
    "Reads the contents of the file and prints them to the console.\n",
    "Exercise 8: Bonus Challenge\n",
    "Rock-Paper-Scissors Game:\n",
    "Create a simple rock-paper-scissors game where the user plays against the computer. The computer should randomly choose rock, paper, or scissors, and the program should determine the winner.\n",
    "Tips for Completing Exercises\n",
    "Start with simple implementations and gradually add complexity.\n",
    "Make sure to test your code with different inputs to ensure it works as expected.\n",
    "Comment your code to explain what each part does, which will help reinforce your understanding.\n",
    "Feel free to tackle these exercises at your own pace, and let me know if you have any questions or need help with specific parts!"
   ]
  },
  {
   "cell_type": "code",
   "execution_count": 5,
   "id": "3505ae46-bddd-4800-8b00-e8265062ee22",
   "metadata": {},
   "outputs": [
    {
     "data": {
      "text/plain": [
       "['Apple', 'Mango', 'orange', 'Grape', 'Banana']"
      ]
     },
     "execution_count": 5,
     "metadata": {},
     "output_type": "execute_result"
    }
   ],
   "source": [
    "# List Operations:\n",
    "# Create a list of 5 fruits. Write a program to:\n",
    "# Add a fruit to the list.\n",
    "# Remove a fruit from the list.\n",
    "# Print the sorted list.\n",
    "\n",
    "fruits = ['Apple', 'Mango', 'orange', 'Grape', 'Banana'] #created List\n",
    "fruits"
   ]
  },
  {
   "cell_type": "code",
   "execution_count": 6,
   "id": "7345dc68-ae73-4ef3-b2ab-e8171bf965fc",
   "metadata": {},
   "outputs": [
    {
     "data": {
      "text/plain": [
       "['Apple', 'Mango', 'orange', 'Grape', 'Banana', 'Lemon']"
      ]
     },
     "execution_count": 6,
     "metadata": {},
     "output_type": "execute_result"
    }
   ],
   "source": [
    "fruits.append('Lemon')  #added lemont to list\n",
    "fruits"
   ]
  },
  {
   "cell_type": "code",
   "execution_count": 7,
   "id": "633d6dd6-c2c6-468e-b9f5-dfaf385f995d",
   "metadata": {},
   "outputs": [
    {
     "data": {
      "text/plain": [
       "['Apple', 'Mango', 'Grape', 'Banana', 'Lemon']"
      ]
     },
     "execution_count": 7,
     "metadata": {},
     "output_type": "execute_result"
    }
   ],
   "source": [
    "fruits.remove('orange') #removed orange\n",
    "fruits"
   ]
  },
  {
   "cell_type": "code",
   "execution_count": 21,
   "id": "ffb47ff8-28a2-42f4-9868-57d702a66769",
   "metadata": {},
   "outputs": [
    {
     "data": {
      "text/plain": [
       "['Apple', 'Banana', 'Grape', 'Lemon', 'Mango']"
      ]
     },
     "execution_count": 21,
     "metadata": {},
     "output_type": "execute_result"
    }
   ],
   "source": [
    "fruits.sort()\n",
    "fruits"
   ]
  },
  {
   "cell_type": "code",
   "execution_count": 26,
   "id": "23ed9929-3fff-4b16-b69d-698da784f301",
   "metadata": {},
   "outputs": [
    {
     "data": {
      "text/plain": [
       "{'Amina': 8087872665,\n",
       " 'Baba': 8033113479,\n",
       " 'Umma': 8033173935,\n",
       " 'Boss': 8033667315}"
      ]
     },
     "execution_count": 26,
     "metadata": {},
     "output_type": "execute_result"
    }
   ],
   "source": [
    "# Create a dictionary to store names and phone numbers. Implement functionality to:\n",
    "# Add a contact.\n",
    "# Remove a contact.\n",
    "# Print all contacts.\n",
    "\n",
    "contact = {\n",
    "    'Amina':8087872665,\n",
    "    'Baba': 8033113479,\n",
    "    'Umma': 8033173935,\n",
    "    'Boss': 8033667315\n",
    "}\n",
    "contact"
   ]
  },
  {
   "cell_type": "code",
   "execution_count": 27,
   "id": "0cf66b83-3d80-4d90-b849-054bcb9e557a",
   "metadata": {},
   "outputs": [
    {
     "data": {
      "text/plain": [
       "{'Amina': 8087872665,\n",
       " 'Baba': 8033113479,\n",
       " 'Umma': 8033173935,\n",
       " 'Boss': 8033667315,\n",
       " 'mubarak': 9090909090}"
      ]
     },
     "execution_count": 27,
     "metadata": {},
     "output_type": "execute_result"
    }
   ],
   "source": [
    "contact['mubarak'] = 9090909090\n",
    "contact"
   ]
  },
  {
   "cell_type": "code",
   "execution_count": 30,
   "id": "aa4d5ab6-f446-43f6-8dd7-0dd1f4888dd6",
   "metadata": {},
   "outputs": [
    {
     "data": {
      "text/plain": [
       "{'Amina': 8087872665,\n",
       " 'Umma': 8033173935,\n",
       " 'Boss': 8033667315,\n",
       " 'mubarak': 9090909090}"
      ]
     },
     "execution_count": 30,
     "metadata": {},
     "output_type": "execute_result"
    }
   ],
   "source": [
    "del contact[\"Baba\"]\n",
    "contact"
   ]
  },
  {
   "cell_type": "code",
   "execution_count": 43,
   "id": "2aeeb599-c79a-49cd-bacc-19b9f954cbf1",
   "metadata": {},
   "outputs": [
    {
     "name": "stdin",
     "output_type": "stream",
     "text": [
      "enter string: A man a plan a canal panama\n"
     ]
    },
    {
     "name": "stdout",
     "output_type": "stream",
     "text": [
      " \"A man a plan a canal panama\" is a palindrome\n"
     ]
    }
   ],
   "source": [
    "# Palindrome Checker:\n",
    "# Write a function that checks if a given string is a palindrome (reads the same forwards and backwards).\n",
    "def is_palindrome(s):\n",
    "    normal = s.lower().replace(\" \", \"\")\n",
    "    reversed = normal[::-1]\n",
    "    return normal == reversed\n",
    "\n",
    "input_string = input(\"enter string:\")\n",
    "if is_palindrome(input_string):\n",
    "    print(f' \"{input_string}\" is a palindrome')\n",
    "else:\n",
    "    print(\"not palindrome\")\n",
    "\n",
    "# def is_palindrome(s):\n",
    "#     normalized_string = s.lower().replace(\" \", \"\")  # Remove spaces and make lowercase\n",
    "#     reversed_string = normalized_string[::-1]\n",
    "#     return normalized_string == reversed_string  # Step 5: Return the result\n",
    "# input_string = input(\"Enter a string: \")\n",
    "# if is_palindrome(input_string):\n",
    "#     print(f'\"{input_string}\" is a palindrome.')\n",
    "# else:\n",
    "#     print(f'\"{input_string}\" is not a palindrome.')"
   ]
  },
  {
   "cell_type": "code",
   "execution_count": 39,
   "id": "8f9b9424-3a36-4609-8219-4b9aee8330dd",
   "metadata": {},
   "outputs": [
    {
     "name": "stdin",
     "output_type": "stream",
     "text": [
      "Enter a string:  A man a plan a canal panama\n"
     ]
    },
    {
     "name": "stdout",
     "output_type": "stream",
     "text": [
      "\"A man a plan a canal panama\" is a palindrome.\n"
     ]
    }
   ],
   "source": [
    "def is_palindrome(s):\n",
    "    normalized_string = s.lower().replace(\" \", \"\")  # Remove spaces and make lowercase\n",
    "    reversed_string = normalized_string[::-1]\n",
    "    return normalized_string == reversed_string  # Step 5: Return the result\n",
    "input_string = input(\"Enter a string: \")\n",
    "if is_palindrome(input_string):\n",
    "    print(f'\"{input_string}\" is a palindrome.')\n",
    "else:\n",
    "    print(f'\"{input_string}\" is not a palindrome.')\n"
   ]
  },
  {
   "cell_type": "code",
   "execution_count": 58,
   "id": "42ceb4ca-b2fc-47ff-8fac-675fb09a1a57",
   "metadata": {},
   "outputs": [
    {
     "name": "stdin",
     "output_type": "stream",
     "text": [
      "enter a word or sentence: my name is umaroii\n"
     ]
    },
    {
     "name": "stdout",
     "output_type": "stream",
     "text": [
      " no of vowels in \"my name is umaroii\" is: 8\n"
     ]
    }
   ],
   "source": [
    "# Create a program that counts the number of vowels in a user-provided string.\n",
    "\n",
    "def count_vowels(f):\n",
    "    count = 0\n",
    "    for character in f:\n",
    "        if character in ('a', 'e', 'i', 'o', 'u'):\n",
    "            count += 1\n",
    "    return count\n",
    "\n",
    "words = input(\"enter a word or sentence:\")\n",
    "vowel_count = count_vowels(words)\n",
    "print(f' no of vowels in \"{words}\" is: {vowel_count}')"
   ]
  },
  {
   "cell_type": "code",
   "execution_count": 66,
   "id": "15d1b777-6307-4162-811e-7a1a516f08d4",
   "metadata": {},
   "outputs": [
    {
     "name": "stdin",
     "output_type": "stream",
     "text": [
      "Enter your choice:: rock, paper, scissors:  scissors\n"
     ]
    },
    {
     "name": "stdout",
     "output_type": "stream",
     "text": [
      "computer choose: paper\n",
      "you win\n"
     ]
    }
   ],
   "source": [
    "# Rock-Paper-Scissors Game:\n",
    "# Create a simple rock-paper-scissors game where the user plays against the computer.\n",
    "# The computer should randomly choose rock, paper, or scissors, and the program should determine the winner.\n",
    "\n",
    "import random\n",
    "\n",
    "def rock_paper_scissors():\n",
    "    choices = ['rock', 'paper', 'scissors']\n",
    "    user_input = input(\"Enter your choice:: rock, paper, scissors: \")\n",
    "    computer_input = random.choice(choices)\n",
    "    print(f\"computer choose: {computer_input}\")\n",
    "    \n",
    "    if user_input not in choices:\n",
    "        print(\"please choose rock, paper, or scisors: \")\n",
    "    if user_input == computer_input :\n",
    "        print(\"its a tie\")\n",
    "    elif (user_input == 'rock' and computer_input == 'scissors') or \\\n",
    "         (user_input == 'scissors' and computer_input == 'paper') or \\\n",
    "         (user_input == 'paper' and computer_input == 'rock'):\n",
    "        print(\"you win\")\n",
    "    else:\n",
    "        print(\"you lose\")\n",
    "\n",
    "rock_paper_scissors()"
   ]
  },
  {
   "cell_type": "code",
   "execution_count": 69,
   "id": "9c7f19f7-e1df-4d51-b288-e7584ac169fe",
   "metadata": {},
   "outputs": [
    {
     "name": "stdout",
     "output_type": "stream",
     "text": [
      "0\n",
      "2\n",
      "4\n",
      "6\n",
      "8\n",
      "10\n",
      "12\n",
      "14\n",
      "16\n",
      "18\n",
      "20\n",
      "22\n",
      "24\n",
      "26\n",
      "28\n"
     ]
    }
   ],
   "source": [
    "#a program that finds even numbers in a range\n",
    "\n",
    "for num in range(30):\n",
    "    if num %2 == 0:\n",
    "        print(num)"
   ]
  },
  {
   "cell_type": "code",
   "execution_count": 72,
   "id": "de452bdd-49e6-4360-8f9c-29a5d89a24cc",
   "metadata": {},
   "outputs": [],
   "source": [
    "#looping through dictioneries\n",
    "\n",
    "car = {\n",
    "    'name': 'hond',\n",
    "    'color': 'red',\n",
    "    'year': 2021\n",
    "}"
   ]
  },
  {
   "cell_type": "code",
   "execution_count": 74,
   "id": "31abec5b-8ab1-4a04-80b6-1b6fa70f0e1c",
   "metadata": {},
   "outputs": [
    {
     "name": "stdout",
     "output_type": "stream",
     "text": [
      "name\n",
      "color\n",
      "year\n"
     ]
    }
   ],
   "source": [
    "for key in car.keys():\n",
    "    print(key)"
   ]
  },
  {
   "cell_type": "code",
   "execution_count": 75,
   "id": "4e676be5-79f0-46ec-848a-70d77fe075d9",
   "metadata": {},
   "outputs": [
    {
     "name": "stdout",
     "output_type": "stream",
     "text": [
      "hond\n",
      "red\n",
      "2021\n"
     ]
    }
   ],
   "source": [
    "for value in car.values():\n",
    "    print(value)"
   ]
  },
  {
   "cell_type": "code",
   "execution_count": 79,
   "id": "ebd075fa-09a4-4adf-ac7d-5d22c06fd90c",
   "metadata": {},
   "outputs": [
    {
     "name": "stdout",
     "output_type": "stream",
     "text": [
      "name hond\n",
      "color red\n",
      "year 2021\n"
     ]
    }
   ],
   "source": [
    "for key, value in car.items():\n",
    "    print(key, value)"
   ]
  },
  {
   "cell_type": "code",
   "execution_count": null,
   "id": "be8c874a-0d94-4d8d-8137-92932f4cc600",
   "metadata": {},
   "outputs": [],
   "source": [
    "#function exercise\n",
    "\"\"\"\n",
    "using Functions\n",
    "given a list of numbers i.e [1,2,4,-5,7,9,3,2], make another list that containes a sorted list in order \n",
    "from min to max i.e yor list should be [-5,1,2,2,3,4,7,9]\n",
    "\"\"\"\n",
    "def find_minimum(L):\n",
    "    min = L[0]\n",
    "    idx = 0\n",
    "    count = 0\n",
    "    for num in L:\n",
    "        if num < min:\n",
    "             min = num\n",
    "             count = idx\n",
    "        else:\n",
    "            pass\n",
    "        count += 1\n",
    "        new_list = L.append(num)\n",
    "    return new_list\n",
    "find_minimum([1,2,3,4,-5,-1])"
   ]
  }
 ],
 "metadata": {
  "kernelspec": {
   "display_name": "Python 3 (ipykernel)",
   "language": "python",
   "name": "python3"
  },
  "language_info": {
   "codemirror_mode": {
    "name": "ipython",
    "version": 3
   },
   "file_extension": ".py",
   "mimetype": "text/x-python",
   "name": "python",
   "nbconvert_exporter": "python",
   "pygments_lexer": "ipython3",
   "version": "3.12.4"
  }
 },
 "nbformat": 4,
 "nbformat_minor": 5
}
