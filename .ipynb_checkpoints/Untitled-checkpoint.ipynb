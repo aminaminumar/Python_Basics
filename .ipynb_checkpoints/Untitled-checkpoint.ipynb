{
 "cells": [
  {
   "cell_type": "markdown",
   "id": "a09daa3c-6ffc-4a9a-b306-df60cf40126e",
   "metadata": {},
   "source": [
    "CLASSES and INHERITANCE"
   ]
  },
  {
   "cell_type": "code",
   "execution_count": null,
   "id": "464e7695-1a71-4c07-bc49-5134682d9591",
   "metadata": {},
   "outputs": [],
   "source": [
    "#creating a class\n",
    "class Person():\n",
    "    def __init__(self, name, age, tribe):\n",
    "        'name': name,\n",
    "        'age': age,\n",
    "        'tribe': tribe\n",
    "        \n",
    "        "
   ]
  }
 ],
 "metadata": {
  "kernelspec": {
   "display_name": "Python 3 (ipykernel)",
   "language": "python",
   "name": "python3"
  },
  "language_info": {
   "codemirror_mode": {
    "name": "ipython",
    "version": 3
   },
   "file_extension": ".py",
   "mimetype": "text/x-python",
   "name": "python",
   "nbconvert_exporter": "python",
   "pygments_lexer": "ipython3",
   "version": "3.12.4"
  }
 },
 "nbformat": 4,
 "nbformat_minor": 5
}
