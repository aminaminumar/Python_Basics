{
 "cells": [
  {
   "cell_type": "code",
   "execution_count": 2,
   "id": "40c7e89a-9286-4a77-b1ae-08b6351a0e79",
   "metadata": {},
   "outputs": [
    {
     "name": "stdout",
     "output_type": "stream",
     "text": [
      "0\n",
      "2\n",
      "4\n",
      "6\n",
      "8\n",
      "[0, 4, 16, 36, 64]\n"
     ]
    }
   ],
   "source": [
    "L = []\n",
    "i = 1\n",
    "for i in range(0,10,2):\n",
    "    print(i)\n",
    "    L.append(i**2)\n",
    "print(L)"
   ]
  },
  {
   "cell_type": "code",
   "execution_count": 8,
   "id": "66ee444e-bd6b-4cc9-857f-af5e0eec5e9e",
   "metadata": {},
   "outputs": [
    {
     "name": "stdout",
     "output_type": "stream",
     "text": [
      "apple\n",
      "4.5\n",
      "its a fruit\n",
      "loop finishes\n",
      "done\n"
     ]
    }
   ],
   "source": [
    "s = {\"apple\", 4.5, \"its a fruit\"}\n",
    "x = 1\n",
    "for x in s:\n",
    "    print(x)\n",
    "    if x == 3:\n",
    "        break\n",
    "    else:\n",
    "        pass\n",
    "else:\n",
    "    print(\"loop finishes\")\n",
    "print(\"done\")"
   ]
  },
  {
   "cell_type": "code",
   "execution_count": 10,
   "id": "f7fe9973-84bd-4e16-830e-ff989d22cf33",
   "metadata": {},
   "outputs": [
    {
     "name": "stdout",
     "output_type": "stream",
     "text": [
      "apple 44\n",
      "cherry game\n"
     ]
    }
   ],
   "source": [
    "D = {\"apple\": 44, \"cherry\": \"game\"}\n",
    "for x in D:\n",
    "    print(x, D[x])"
   ]
  },
  {
   "cell_type": "code",
   "execution_count": 21,
   "id": "127a2576-7219-42d1-8052-c0adaab0b086",
   "metadata": {},
   "outputs": [
    {
     "name": "stdout",
     "output_type": "stream",
     "text": [
      "[-5, 1, 2, 2, 3, 4, 7, 9]\n"
     ]
    }
   ],
   "source": [
    "\"\"\"\n",
    "given a list of numbers i.e [1,2,4,-5,7,9,3,2], make another list that containes a sorted list in order \n",
    "from min to max i.e yor list should be [-5,1,2,2,3,4,7,9]\n",
    "\"\"\"\n",
    "L = [1,2,4,-5,7,9,3,2]\n",
    "for j in range(len(L)):\n",
    "    m = L[j]\n",
    "    idx = j\n",
    "    c = j\n",
    "    for i in range(j, len(L)):\n",
    "        if L[i]<m:\n",
    "            m = L[i]\n",
    "            idx = c\n",
    "        c+=1\n",
    "    temp = L[j]\n",
    "    L[j] = m\n",
    "    L[idx] = temp\n",
    "print(L)\n"
   ]
  },
  {
   "cell_type": "markdown",
   "id": "d5184c63-c32a-4c3b-aed5-f26ba807ec9c",
   "metadata": {},
   "source": [
    "Functions in python"
   ]
  },
  {
   "cell_type": "code",
   "execution_count": 35,
   "id": "b81556ed-5029-4a4d-88fb-1d892d6b66ce",
   "metadata": {},
   "outputs": [
    {
     "ename": "IndentationError",
     "evalue": "unindent does not match any outer indentation level (<string>, line 5)",
     "output_type": "error",
     "traceback": [
      "\u001b[1;36m  File \u001b[1;32m<string>:5\u001b[1;36m\u001b[0m\n\u001b[1;33m    if isinstance(msg,str):\u001b[0m\n\u001b[1;37m                           ^\u001b[0m\n\u001b[1;31mIndentationError\u001b[0m\u001b[1;31m:\u001b[0m unindent does not match any outer indentation level\n"
     ]
    }
   ],
   "source": [
    "def printMessage(msg):\n",
    "     \"\"\"The function prints the message\n",
    "     supplied by the user\n",
    "     \"\"\"\n",
    "    if isinstance(msg,str):\n",
    "        print(msg)\n",
    "        print(msg)\n",
    "    else:\n",
    "        print('your input is not a sting')\n",
    "        print('here is wwhat you have supplied', msg, type(msg))\n"
   ]
  },
  {
   "cell_type": "code",
   "execution_count": 36,
   "id": "9060a450-0e74-4fda-9014-193db543ee18",
   "metadata": {},
   "outputs": [],
   "source": [
    "def printmessage(msg):\n",
    "    \"\"\"The function prints the message\n",
    "     supplied by the user\n",
    "    \"\"\"\n",
    "    if isinstance(msg, str):\n",
    "        print(msg)\n",
    "    else:\n",
    "        print(\"your input is not a sting\")\n",
    "        print('here is wwhat you have supplied', msg, type(msg))"
   ]
  },
  {
   "cell_type": "code",
   "execution_count": 39,
   "id": "4439ef30-1aad-4c59-b0b1-5b22b0c74348",
   "metadata": {},
   "outputs": [
    {
     "name": "stdout",
     "output_type": "stream",
     "text": [
      "your input is not a sting\n",
      "here is wwhat you have supplied 34 <class 'int'>\n"
     ]
    }
   ],
   "source": [
    "printmessage(34)"
   ]
  },
  {
   "cell_type": "code",
   "execution_count": 40,
   "id": "9c35dcfb-545a-4d04-a5fa-bf4cb03f03d2",
   "metadata": {},
   "outputs": [
    {
     "name": "stdout",
     "output_type": "stream",
     "text": [
      "Amina Aminu Umar\n"
     ]
    }
   ],
   "source": [
    "y = \"Amina Aminu Umar\"\n",
    "printmessage(y)"
   ]
  },
  {
   "cell_type": "code",
   "execution_count": 43,
   "id": "24dfa668-9633-48be-a2ac-cb909b863277",
   "metadata": {},
   "outputs": [],
   "source": [
    "def mypow(a, b):\n",
    "    \"\"\"this funtion computes power just like built in \n",
    "        power function\n",
    "    \"\"\"\n",
    "    c = a**b\n",
    "    print(c)"
   ]
  },
  {
   "cell_type": "code",
   "execution_count": 45,
   "id": "c10ea41b-b899-4c88-b33a-c5385a447802",
   "metadata": {},
   "outputs": [
    {
     "data": {
      "text/plain": [
       "\u001b[1;31mSignature:\u001b[0m \u001b[0mmypow\u001b[0m\u001b[1;33m(\u001b[0m\u001b[0ma\u001b[0m\u001b[1;33m,\u001b[0m \u001b[0mb\u001b[0m\u001b[1;33m)\u001b[0m\u001b[1;33m\u001b[0m\u001b[1;33m\u001b[0m\u001b[0m\n",
       "\u001b[1;31mDocstring:\u001b[0m\n",
       "this funtion computes power just like built in \n",
       "power function\n",
       "\u001b[1;31mFile:\u001b[0m      c:\\users\\amina\\appdata\\local\\temp\\ipykernel_5656\\105407276.py\n",
       "\u001b[1;31mType:\u001b[0m      function"
      ]
     },
     "metadata": {},
     "output_type": "display_data"
    }
   ],
   "source": [
    "mypow?"
   ]
  },
  {
   "cell_type": "code",
   "execution_count": 46,
   "id": "c5a949c4-846e-452c-b272-69d4be60d0e0",
   "metadata": {},
   "outputs": [
    {
     "name": "stdout",
     "output_type": "stream",
     "text": [
      "1024\n"
     ]
    }
   ],
   "source": [
    "mypow(4,5)"
   ]
  },
  {
   "cell_type": "code",
   "execution_count": 49,
   "id": "4781a3b4-5003-490c-a3ec-66a09cdf9116",
   "metadata": {},
   "outputs": [],
   "source": [
    "def displayTypes(a,b,c):\n",
    "    if isinstance(a, (int, float)) and isinstance(b, (int,float)) and isinstance(c, (int,float)):\n",
    "        print((a+b+c)**2)\n",
    "    else:\n",
    "        print(\"Error: the inputs are not of the expected types\")"
   ]
  },
  {
   "cell_type": "code",
   "execution_count": 50,
   "id": "5eb062c6-5aa6-4cf9-8bfa-947d13ea9fcc",
   "metadata": {},
   "outputs": [
    {
     "name": "stdout",
     "output_type": "stream",
     "text": [
      "81\n"
     ]
    }
   ],
   "source": [
    "displayTypes(2,3,4)"
   ]
  },
  {
   "cell_type": "code",
   "execution_count": 51,
   "id": "84606025-e3b6-41d6-a97e-09923655e068",
   "metadata": {},
   "outputs": [
    {
     "ename": "NameError",
     "evalue": "name 'g' is not defined",
     "output_type": "error",
     "traceback": [
      "\u001b[1;31m---------------------------------------------------------------------------\u001b[0m",
      "\u001b[1;31mNameError\u001b[0m                                 Traceback (most recent call last)",
      "Cell \u001b[1;32mIn[51], line 1\u001b[0m\n\u001b[1;32m----> 1\u001b[0m displayTypes(\u001b[38;5;241m3\u001b[39m,\u001b[38;5;241m5\u001b[39m,g)\n",
      "\u001b[1;31mNameError\u001b[0m: name 'g' is not defined"
     ]
    }
   ],
   "source": [
    "displayTypes(3,5,g)"
   ]
  },
  {
   "cell_type": "code",
   "execution_count": 52,
   "id": "7226f43e-8e06-4cee-93ea-d51c408f495d",
   "metadata": {},
   "outputs": [],
   "source": [
    "def f(a,b,c):\n",
    "    print(\"A is:\", a)\n",
    "    print(\"B is:\", b)\n",
    "    print(\"C is:\", c)"
   ]
  },
  {
   "cell_type": "code",
   "execution_count": 54,
   "id": "6690cf08-53d2-4600-a159-d14f8fc10011",
   "metadata": {},
   "outputs": [
    {
     "name": "stdout",
     "output_type": "stream",
     "text": [
      "A is: 2\n",
      "B is: 3\n",
      "C is: game\n"
     ]
    }
   ],
   "source": [
    "f(2,3,\"game\")"
   ]
  },
  {
   "cell_type": "code",
   "execution_count": 55,
   "id": "9c06a92f-334f-417e-8925-28e0c12d1926",
   "metadata": {},
   "outputs": [
    {
     "name": "stdout",
     "output_type": "stream",
     "text": [
      "A is: game\n",
      "B is: 2\n",
      "C is: 4\n"
     ]
    }
   ],
   "source": [
    "f(\"game\", 2, 4)"
   ]
  },
  {
   "cell_type": "code",
   "execution_count": 56,
   "id": "5a6c49f1-d6b4-41ff-b02b-5912bb608214",
   "metadata": {},
   "outputs": [
    {
     "name": "stdout",
     "output_type": "stream",
     "text": [
      "A is: 2\n",
      "B is: 4\n",
      "C is: game\n"
     ]
    }
   ],
   "source": [
    "f(a = 2, b = 4, c =\"game\")"
   ]
  },
  {
   "cell_type": "markdown",
   "id": "36f7ac7f-2341-44d7-bc42-568d9ba81039",
   "metadata": {},
   "source": [
    "functions(variables inside)"
   ]
  },
  {
   "cell_type": "code",
   "execution_count": 57,
   "id": "8ced1ce5-8e45-4e3f-89e8-20fb5d86ef52",
   "metadata": {},
   "outputs": [],
   "source": [
    "def myadd(a,b):\n",
    "    sumVal = a+b\n",
    "    "
   ]
  },
  {
   "cell_type": "code",
   "execution_count": 58,
   "id": "65603f20-674b-4983-a5be-3722743d9e3f",
   "metadata": {},
   "outputs": [
    {
     "ename": "NameError",
     "evalue": "name 'sumVal' is not defined",
     "output_type": "error",
     "traceback": [
      "\u001b[1;31m---------------------------------------------------------------------------\u001b[0m",
      "\u001b[1;31mNameError\u001b[0m                                 Traceback (most recent call last)",
      "Cell \u001b[1;32mIn[58], line 2\u001b[0m\n\u001b[0;32m      1\u001b[0m myadd(\u001b[38;5;241m2\u001b[39m,\u001b[38;5;241m3\u001b[39m)\n\u001b[1;32m----> 2\u001b[0m \u001b[38;5;28mprint\u001b[39m(sumVal)\n",
      "\u001b[1;31mNameError\u001b[0m: name 'sumVal' is not defined"
     ]
    }
   ],
   "source": [
    "myadd(2,3)\n",
    "print(sumVal)"
   ]
  },
  {
   "cell_type": "code",
   "execution_count": 59,
   "id": "db5fec0b-0810-4ef2-aae7-c36a96e405f1",
   "metadata": {},
   "outputs": [],
   "source": [
    "def myadd(a,b):\n",
    "    sumVal = a+b\n",
    "    return sumVal"
   ]
  },
  {
   "cell_type": "code",
   "execution_count": 60,
   "id": "bd3de8e8-caa1-42fd-82b8-82e524e07ed7",
   "metadata": {},
   "outputs": [
    {
     "name": "stdout",
     "output_type": "stream",
     "text": [
      "5\n"
     ]
    }
   ],
   "source": [
    "d = myadd(2,3)\n",
    "print(d)"
   ]
  },
  {
   "cell_type": "code",
   "execution_count": 61,
   "id": "48a9065c-397b-48ba-ae2b-25406fb0b2b3",
   "metadata": {},
   "outputs": [],
   "source": [
    "variableOutsideFunction = 3"
   ]
  },
  {
   "cell_type": "code",
   "execution_count": 62,
   "id": "4ac677f2-d4f8-4ad4-ae7e-f82eca1d6e2c",
   "metadata": {},
   "outputs": [],
   "source": [
    "def g():5\n",
    "    print(variableOutsideFunction)"
   ]
  },
  {
   "cell_type": "code",
   "execution_count": 63,
   "id": "6f2ef0bf-d68a-4490-909e-ee3a706a4452",
   "metadata": {},
   "outputs": [
    {
     "name": "stdout",
     "output_type": "stream",
     "text": [
      "3\n"
     ]
    }
   ],
   "source": [
    "g()\n"
   ]
  },
  {
   "cell_type": "markdown",
   "id": "de0f1037-b7bf-4002-b9c0-c61d4d6c210b",
   "metadata": {},
   "source": [
    "Variable no of input"
   ]
  },
  {
   "cell_type": "code",
   "execution_count": 64,
   "id": "80aeefa4-403d-4f50-9a56-41ec1acc98f7",
   "metadata": {},
   "outputs": [],
   "source": [
    "def myAdd(*args):\n",
    "    s = 0\n",
    "    for i in range(len(args)):\n",
    "        s += args[i]\n",
    "    return s"
   ]
  },
  {
   "cell_type": "code",
   "execution_count": 65,
   "id": "1d2dc052-c729-4239-977d-b49e19553452",
   "metadata": {},
   "outputs": [
    {
     "data": {
      "text/plain": [
       "9"
      ]
     },
     "execution_count": 65,
     "metadata": {},
     "output_type": "execute_result"
    }
   ],
   "source": [
    "myAdd(2,3,4)"
   ]
  },
  {
   "cell_type": "code",
   "execution_count": 66,
   "id": "b2dda103-b706-4dc2-a46f-8bbe44342bda",
   "metadata": {},
   "outputs": [
    {
     "name": "stdout",
     "output_type": "stream",
     "text": [
      "9\n"
     ]
    }
   ],
   "source": [
    "print(myAdd(2,3,4))"
   ]
  },
  {
   "cell_type": "code",
   "execution_count": 67,
   "id": "786793d7-134f-4e47-b484-bf38fdc6b5ec",
   "metadata": {},
   "outputs": [
    {
     "data": {
      "text/plain": [
       "205"
      ]
     },
     "execution_count": 67,
     "metadata": {},
     "output_type": "execute_result"
    }
   ],
   "source": [
    "myAdd(1,2,3,4,5,6,7,89,33,55)"
   ]
  },
  {
   "cell_type": "code",
   "execution_count": 68,
   "id": "44ffce53-fe6f-4664-9257-8b2234b2113e",
   "metadata": {},
   "outputs": [],
   "source": [
    "def printAllVariablesNamesAndValues(**args):\n",
    "    for x in args:\n",
    "        print(\"variable name is:\", x, \"value is:\", args[x])"
   ]
  },
  {
   "cell_type": "code",
   "execution_count": 69,
   "id": "2bd261b7-1712-4343-aa0a-ce7b6726cf20",
   "metadata": {},
   "outputs": [
    {
     "name": "stdout",
     "output_type": "stream",
     "text": [
      "variable name is: a value is: 3\n",
      "variable name is: b value is: amina\n",
      "variable name is: y value is: 6.7\n",
      "variable name is: c value is: learning\n"
     ]
    }
   ],
   "source": [
    "printAllVariablesNamesAndValues(a = 3, b =\"amina\", y= 6.7, c=\"learning\")"
   ]
  },
  {
   "cell_type": "code",
   "execution_count": 70,
   "id": "96036551-6168-4fe1-93ca-e4e899d12937",
   "metadata": {},
   "outputs": [],
   "source": [
    "def gg(s=4):\n",
    "    print(s)"
   ]
  },
  {
   "cell_type": "code",
   "execution_count": 71,
   "id": "20544cfc-10f0-44ae-8c5f-62aadb0b4718",
   "metadata": {},
   "outputs": [
    {
     "name": "stdout",
     "output_type": "stream",
     "text": [
      "4\n"
     ]
    }
   ],
   "source": [
    "gg()"
   ]
  },
  {
   "cell_type": "code",
   "execution_count": 72,
   "id": "0ae9b40f-afb7-415e-b901-e9cfa4822c04",
   "metadata": {},
   "outputs": [
    {
     "name": "stdout",
     "output_type": "stream",
     "text": [
      "5\n"
     ]
    }
   ],
   "source": [
    "gg(5)"
   ]
  },
  {
   "cell_type": "code",
   "execution_count": 73,
   "id": "27ff6f0f-4fe2-4178-a55c-7266d7ee4fba",
   "metadata": {},
   "outputs": [
    {
     "name": "stdout",
     "output_type": "stream",
     "text": [
      "[-9, 2, 3]\n"
     ]
    }
   ],
   "source": [
    "l = [1,2,3]\n",
    "l2 =l\n",
    "l2[0] = -9\n",
    "print(l)"
   ]
  },
  {
   "cell_type": "code",
   "execution_count": 74,
   "id": "07639f4d-d4bf-459f-9e7e-a658f9987477",
   "metadata": {},
   "outputs": [],
   "source": [
    "def ff(L=[1,2]):\n",
    "    for i in L:\n",
    "        print(i)"
   ]
  },
  {
   "cell_type": "code",
   "execution_count": 75,
   "id": "783d16b3-b254-480a-b338-b8f885a67e7c",
   "metadata": {},
   "outputs": [
    {
     "name": "stdout",
     "output_type": "stream",
     "text": [
      "1\n",
      "2\n"
     ]
    }
   ],
   "source": [
    "ff()\n"
   ]
  },
  {
   "cell_type": "code",
   "execution_count": 77,
   "id": "b77d7da6-6f62-498c-adbe-440b0a012bd7",
   "metadata": {},
   "outputs": [
    {
     "name": "stdout",
     "output_type": "stream",
     "text": [
      "1\n",
      "2\n"
     ]
    }
   ],
   "source": [
    "L2 = [12,3,6]\n",
    "ff()"
   ]
  },
  {
   "cell_type": "code",
   "execution_count": 78,
   "id": "ef05be45-7a71-46b7-94bd-e26ae844a497",
   "metadata": {},
   "outputs": [
    {
     "name": "stdout",
     "output_type": "stream",
     "text": [
      "12\n",
      "3\n",
      "6\n"
     ]
    }
   ],
   "source": [
    "ff(L2)"
   ]
  },
  {
   "cell_type": "markdown",
   "id": "7d1de489-f674-4783-b362-8d610e20a89b",
   "metadata": {},
   "source": [
    "how to import Modules"
   ]
  },
  {
   "cell_type": "markdown",
   "id": "f18da685-805e-4288-8fcb-1ec91e956d8c",
   "metadata": {},
   "source": [
    "##import sys\n",
    "  sys.path.append(\"path of module\")\n",
    "  import nameofmodule"
   ]
  },
  {
   "cell_type": "markdown",
   "id": "7143ac9a-3d4b-4f76-bb76-507f8970043d",
   "metadata": {},
   "source": [
    "Practice Functions"
   ]
  },
  {
   "cell_type": "code",
   "execution_count": 83,
   "id": "62cb5b0e-b6c0-4edc-9236-6e822f2664eb",
   "metadata": {},
   "outputs": [],
   "source": [
    "\"\"\"\n",
    "using Functions\n",
    "given a list of numbers i.e [1,2,4,-5,7,9,3,2], make another list that containes a sorted list in order \n",
    "from min to max i.e yor list should be [-5,1,2,2,3,4,7,9]\n",
    "\"\"\"\n",
    "\n",
    "def findMin(L):\n",
    "    m = L[0]\n",
    "    idx = 0\n",
    "    c = 0\n",
    "    for x in L:\n",
    "        if m>x:\n",
    "            m = x\n",
    "            idx = c\n",
    "        else:\n",
    "            pass\n",
    "        c += 1\n",
    "    return(m, idx)"
   ]
  },
  {
   "cell_type": "code",
   "execution_count": 84,
   "id": "bb8abd46-d4f9-4289-9740-ec230c88f136",
   "metadata": {},
   "outputs": [
    {
     "data": {
      "text/plain": [
       "(-5, 5)"
      ]
     },
     "execution_count": 84,
     "metadata": {},
     "output_type": "execute_result"
    }
   ],
   "source": [
    "findMin([1,6,7,0,-1,-5])"
   ]
  },
  {
   "cell_type": "code",
   "execution_count": 85,
   "id": "1a6827ee-aa6b-49dc-a08c-fa67b6170fff",
   "metadata": {},
   "outputs": [],
   "source": [
    "def swapVal(L, idx1, idx2):\n",
    "    tmp = L[idx1]\n",
    "    L[idx1] = L[idx2]\n",
    "    L[idx2] = tmp\n",
    "    return(L)"
   ]
  },
  {
   "cell_type": "code",
   "execution_count": null,
   "id": "6b4fbe1f-e2e5-411a-a027-a24428a1db22",
   "metadata": {},
   "outputs": [],
   "source": []
  }
 ],
 "metadata": {
  "kernelspec": {
   "display_name": "Python 3 (ipykernel)",
   "language": "python",
   "name": "python3"
  },
  "language_info": {
   "codemirror_mode": {
    "name": "ipython",
    "version": 3
   },
   "file_extension": ".py",
   "mimetype": "text/x-python",
   "name": "python",
   "nbconvert_exporter": "python",
   "pygments_lexer": "ipython3",
   "version": "3.12.4"
  }
 },
 "nbformat": 4,
 "nbformat_minor": 5
}
