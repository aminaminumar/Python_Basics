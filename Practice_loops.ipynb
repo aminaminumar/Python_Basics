{
 "cells": [
  {
   "cell_type": "markdown",
   "id": "085e69c2-6012-4692-8438-535fa6d86e9f",
   "metadata": {},
   "source": [
    "Exercise 1: Number Classification\n",
    "Write a program that takes a list of integers and classifies each number as \"even\", \"odd\", or \"zero\".\n",
    "\n",
    "Instructions:\n",
    "\n",
    "Create a list of integers (you can choose any numbers).\n",
    "Loop through the list and for each number:\n",
    "Print \"even\" if the number is even.\n",
    "Print \"odd\" if the number is odd.\n",
    "Print \"zero\" if the number is zero."
   ]
  },
  {
   "cell_type": "code",
   "execution_count": 9,
   "id": "a250cdc0-fe7e-4d42-acbd-55eedb4ae281",
   "metadata": {},
   "outputs": [
    {
     "name": "stdout",
     "output_type": "stream",
     "text": [
      "odd\n",
      "even\n",
      "odd\n",
      "Zero\n",
      "odd\n",
      "odd\n",
      "odd\n",
      "even\n",
      "odd\n",
      "even\n",
      "odd\n",
      "even\n",
      "even\n",
      "even\n",
      "Zero\n",
      "Zero\n",
      "even\n"
     ]
    }
   ],
   "source": [
    "integers = [9,4,1,0,7,3,3,6,11,24,67,44,90,100,0,0,2]\n",
    "for integer in integers:\n",
    "    if (integer == 0):\n",
    "        print(\"Zero\")\n",
    "    elif (integer%2 == 0):\n",
    "        print(\"even\")\n",
    "    else:\n",
    "        print(\"odd\")"
   ]
  },
  {
   "cell_type": "markdown",
   "id": "5d463d74-3e57-41cb-b043-5ccc26c50c32",
   "metadata": {},
   "source": [
    "Exercise 2: Grade Evaluation\n",
    "Create a program that evaluates students' grades based on their scores.\n",
    "\n",
    "Instructions:\n",
    "\n",
    "Create a list of student scores (you can choose any scores).\n",
    "Loop through the list and classify each score:\n",
    "\"A\" for scores 90 and above.\n",
    "\"B\" for scores between 80 and 89.\n",
    "\"C\" for scores between 70 and 79.\n",
    "\"D\" for scores between 60 and 69.\n",
    "\"F\" for scores below 60.\n",
    "Print each score along with its corresponding grade."
   ]
  },
  {
   "cell_type": "code",
   "execution_count": 13,
   "id": "1cf1e5e1-8adb-468e-a688-28784c360168",
   "metadata": {},
   "outputs": [
    {
     "name": "stdout",
     "output_type": "stream",
     "text": [
      "A\n",
      "F\n",
      "F\n",
      "D\n",
      "C\n",
      "A\n"
     ]
    }
   ],
   "source": [
    "scores = [90, 45, 30, 67, 76, 99]\n",
    "for score in scores:\n",
    "    if score >= 90:\n",
    "        print('A')\n",
    "    elif score >= 80 :\n",
    "        print('B')\n",
    "    elif score >= 70 :\n",
    "        print('C')\n",
    "    elif score >= 60 :\n",
    "        print('D')\n",
    "    else:\n",
    "        print('F')"
   ]
  },
  {
   "cell_type": "markdown",
   "id": "bda9110b-ea33-4b93-9b7d-4a60ece0c737",
   "metadata": {},
   "source": [
    "Exercise 3: Countdown with Conditions\n",
    "Write a program that counts down from a given number and prints special messages for certain conditions.\n",
    "\n",
    "Instructions:\n",
    "\n",
    "Define a starting number (e.g., 10).\n",
    "Use a loop to count down to 0.\n",
    "For each number:\n",
    "Print \"Blast off!\" when it reaches 0.\n",
    "Print \"Even number!\" for even numbers.\n",
    "Print \"Odd number!\" for odd numbers."
   ]
  },
  {
   "cell_type": "code",
   "execution_count": 20,
   "id": "2cce7ea1-1e02-49f3-87b3-b22650c0fd50",
   "metadata": {},
   "outputs": [
    {
     "name": "stdout",
     "output_type": "stream",
     "text": [
      "10 is an even number\n",
      "9 is an odd number\n",
      "8 is an even number\n",
      "7 is an odd number\n",
      "6 is an even number\n",
      "5 is an odd number\n",
      "4 is an even number\n",
      "3 is an odd number\n",
      "2 is an even number\n",
      "1 is an odd number\n",
      "Blast off\n"
     ]
    }
   ],
   "source": [
    "starting_num = 10\n",
    "for x in range(starting_num, -1, -1):\n",
    "    if x == 0:\n",
    "        print( 'Blast off')\n",
    "    elif x %2 == 0:\n",
    "        print(F\"{x} is an even number\")\n",
    "    else:\n",
    "        print(F\"{x} is an odd number\")\n",
    "    "
   ]
  },
  {
   "cell_type": "markdown",
   "id": "d145f7dc-cf6c-42a4-a4cb-3fdf2b610328",
   "metadata": {},
   "source": [
    "Exercise: Inventory Management System\n",
    "Description: You are tasked with creating a simple inventory management system for a small store. The system should allow the user to add items to the inventory, remove items, and view the current inventory. Each item should have a name, a quantity, and a price.\n",
    "\n",
    "Instructions:\n",
    "\n",
    "Create an empty inventory list (you can use a list of dictionaries).\n",
    "Implement the following features in a loop until the user chooses to exit:\n",
    "Add Item: Ask the user for the item name, quantity, and price. Add this item to the inventory.\n",
    "Remove Item: Ask the user for the item name and remove it from the inventory if it exists.\n",
    "View Inventory: Print all items in the inventory along with their quantities and prices.\n",
    "Exit: Break the loop and exit the program.\n",
    "Requirements:\n",
    "\n",
    "Use conditional statements to handle user input and check if an item exists in the inventory.\n",
    "Use a loop to continuously prompt the user until they choose to exit.\n",
    "Implement input validation to ensure the quantity is a positive integer and the price is a positive float."
   ]
  },
  {
   "cell_type": "code",
   "execution_count": 3,
   "id": "3db1c684-705a-447d-8481-f85c76e58d50",
   "metadata": {},
   "outputs": [
    {
     "name": "stdout",
     "output_type": "stream",
     "text": [
      "1. add an item\n",
      "2. remove an item\n",
      "3. view inventory\n",
      "4. exit\n"
     ]
    },
    {
     "name": "stdin",
     "output_type": "stream",
     "text": [
      "choose an option 4\n"
     ]
    },
    {
     "name": "stdout",
     "output_type": "stream",
     "text": [
      "goodbye\n"
     ]
    }
   ],
   "source": [
    "inventory = []\n",
    "#function to add an item\n",
    "def add_item():\n",
    "    name = input('add an item:' )\n",
    "    \n",
    "    # get quantity\n",
    "    quantity = input('enter quantity (positive number):')\n",
    "    while not int(quantity) >= 0:\n",
    "        quantity = input('enter positive number:' )\n",
    "    quantity = int(quantity)\n",
    "\n",
    "    #get price\n",
    "    price = input('enter price of item')\n",
    "    while not float(price) >= 0:\n",
    "        price = input('enter price (positive number):')\n",
    "    price = float(price)\n",
    "\n",
    "    #creating a dictionary\n",
    "    item = {\n",
    "        'name': name,\n",
    "        'quantity': quantity,\n",
    "        'price': price\n",
    "    }\n",
    "\n",
    "    inventory.append(item)\n",
    "    print(F\"item {name} have been added\")\n",
    "#remove item\n",
    "def remove():\n",
    "    name = input('enter item to remove:')\n",
    "    for item in inventory:\n",
    "        if item['name'].lower() == name.lower():\n",
    "             inventory.remove(item)\n",
    "        print(F\" item '{name}' has been removed\")\n",
    "        return\n",
    "\n",
    "\n",
    "#view inventory\n",
    "def view_inventory():\n",
    "    \n",
    "    if not inventory:\n",
    "        print(\"empty inventory\")\n",
    "    print(\"current inventory:\")\n",
    "    for item in inventory:\n",
    "        print(f\"{item['name']} - Quantity: {item['quantity']}, Price: ${item['price']:.2f}\")\n",
    "\n",
    "\n",
    "def main():\n",
    "    while True:\n",
    "        print ('1. add an item')\n",
    "        print('2. remove an item')\n",
    "        print('3. view inventory')\n",
    "        print('4. exit')\n",
    "        \n",
    "        option = input ('choose an option') \n",
    "        \n",
    "        if option == '1':\n",
    "            add_item()\n",
    "        elif option == '2':\n",
    "            remove()\n",
    "        elif option == '3':\n",
    "            view_inventory()\n",
    "        elif option == '4':\n",
    "            print('goodbye')\n",
    "            break\n",
    "        else:\n",
    "            print(\"invalid option. choose again\")\n",
    "\n",
    "main()\n",
    "    \n",
    "\n",
    "    "
   ]
  },
  {
   "cell_type": "markdown",
   "id": "48400817-0ec9-4a47-b666-715d769ec5b4",
   "metadata": {},
   "source": [
    "Exercise: Book Collection Management System\n",
    "Description: Create a simple program that allows users to manage their personal book collection. Each book should have a title, author, and year of publication.\n",
    "\n",
    "Instructions:\n",
    "\n",
    "Create an empty list called book_collection to hold the book entries.\n",
    "Implement the following features in a loop until the user chooses to exit:\n",
    "Add Book: Prompt the user for the book title, author, and year of publication. Store this information in a dictionary and add it to the book_collection.\n",
    "Remove Book: Prompt the user for the book title and remove it from the collection if it exists.\n",
    "View Collection: Print all books in the collection along with their authors and publication years.\n",
    "Exit: Break the loop and exit the program.\n",
    "Requirements:\n",
    "\n",
    "Use conditional statements to handle user input and check if a book exists in the collection.\n",
    "Use a loop to continuously prompt the user until they choose to exit.\n",
    "Implement input validation to ensure the year is a positive integer."
   ]
  },
  {
   "cell_type": "code",
   "execution_count": 2,
   "id": "8b72d16a-fb0b-4987-a5ad-816bc2ceb737",
   "metadata": {},
   "outputs": [
    {
     "name": "stdout",
     "output_type": "stream",
     "text": [
      "\n",
      "Welcome to the Book Collection Management System!\n",
      "1. Add Book\n",
      "2. Remove Book\n",
      "3. View Collection\n",
      "4. Exit\n"
     ]
    },
    {
     "name": "stdin",
     "output_type": "stream",
     "text": [
      "Choose an option:  4\n"
     ]
    },
    {
     "name": "stdout",
     "output_type": "stream",
     "text": [
      "Goodbye!\n"
     ]
    }
   ],
   "source": [
    "# Initialize the book collection\n",
    "book_collection = []\n",
    "\n",
    "# Function to add a book\n",
    "def add_book():\n",
    "    title = input(\"Enter book title: \")\n",
    "    author = input(\"Enter author: \")\n",
    "\n",
    "    # Get year of publication\n",
    "    year = int(input(\"Enter year of publication (positive integer): \"))\n",
    "    while year <= 0:\n",
    "        print(\"Year must be a positive integer.\")\n",
    "        year = int(input(\"Enter year of publication (positive integer): \"))\n",
    "    \n",
    "    # Create a dictionary for the book\n",
    "    book = {\n",
    "        'title': title,\n",
    "        'author': author,\n",
    "        'year': year\n",
    "    }\n",
    "\n",
    "    # Append the book to the collection\n",
    "    book_collection.append(book)\n",
    "    print(f\"Book '{title}' added!\")\n",
    "\n",
    "# Function to remove a book\n",
    "def remove_book():\n",
    "    title = input(\"Enter book title to remove: \")\n",
    "    for book in book_collection:\n",
    "        if book['title'].lower() == title.lower():\n",
    "            book_collection.remove(book)\n",
    "            print(f\"Book '{title}' removed!\")\n",
    "            return\n",
    "    print(f\"Book '{title}' not found in the collection.\")\n",
    "\n",
    "# Function to view the book collection\n",
    "def view_collection():\n",
    "    if not book_collection:\n",
    "        print(\"Book collection is empty.\")\n",
    "        return\n",
    "    print(\"Current Book Collection:\")\n",
    "    for book in book_collection:\n",
    "        print(f\"{book['title']} - Author: {book['author']}, Year: {book['year']}\")\n",
    "\n",
    "# Main program loop\n",
    "def main():\n",
    "    while True:\n",
    "        print(\"\\nWelcome to the Book Collection Management System!\")\n",
    "        print(\"1. Add Book\")\n",
    "        print(\"2. Remove Book\")\n",
    "        print(\"3. View Collection\")\n",
    "        print(\"4. Exit\")\n",
    "        \n",
    "        option = input(\"Choose an option: \")\n",
    "        \n",
    "        if option == '1':\n",
    "            add_book()\n",
    "        elif option == '2':\n",
    "            remove_book()\n",
    "        elif option == '3':\n",
    "            view_collection()\n",
    "        elif option == '4':\n",
    "            print(\"Goodbye!\")\n",
    "            break\n",
    "        else:\n",
    "            print(\"Invalid option. Please try again.\")\n",
    "\n",
    "# Run the main program\n",
    "main()"
   ]
  },
  {
   "cell_type": "markdown",
   "id": "6529dfdd-d41a-4deb-91c6-ea649254608d",
   "metadata": {},
   "source": [
    "Exercise: To-Do List Management System\n",
    "Description: Create a simple program that allows users to manage their to-do list. Each task should have a description and a status (completed or not).\n",
    "\n",
    "Instructions:\n",
    "\n",
    "Create an empty list called todo_list to hold the tasks.\n",
    "Implement the following features in a loop until the user chooses to exit:\n",
    "Add Task: Prompt the user for a task description and add it to the todo_list.\n",
    "Complete Task: Prompt the user for the task description and mark it as completed if it exists.\n",
    "Remove Task: Prompt the user for the task description and remove it from the list if it exists.\n",
    "View Tasks: Print all tasks in the list along with their statuses.\n",
    "Exit: Break the loop and exit the program.\n",
    "Requirements:\n",
    "\n",
    "Use a list of dictionaries to represent the tasks.\n",
    "Each task should have a description and a status (boolean indicating completion).\n",
    "Ensure that tasks can be easily marked as completed or removed."
   ]
  },
  {
   "cell_type": "code",
   "execution_count": 9,
   "id": "554ce725-d202-4fd6-b8f5-7b7f2d3bd98c",
   "metadata": {},
   "outputs": [
    {
     "name": "stdout",
     "output_type": "stream",
     "text": [
      "My Todo List\n",
      "1. Add task\n",
      "2. remove task\n",
      "3. view task\n",
      "4. complete task\n",
      "5. Exit\n"
     ]
    },
    {
     "name": "stdin",
     "output_type": "stream",
     "text": [
      "Choose an option 1\n",
      "Enter task description:  going to market\n"
     ]
    },
    {
     "name": "stdout",
     "output_type": "stream",
     "text": [
      "My Todo List\n",
      "1. Add task\n",
      "2. remove task\n",
      "3. view task\n",
      "4. complete task\n",
      "5. Exit\n"
     ]
    },
    {
     "name": "stdin",
     "output_type": "stream",
     "text": [
      "Choose an option 3\n"
     ]
    },
    {
     "name": "stdout",
     "output_type": "stream",
     "text": [
      "my list\n",
      " going to market (Not completed)\n",
      "My Todo List\n",
      "1. Add task\n",
      "2. remove task\n",
      "3. view task\n",
      "4. complete task\n",
      "5. Exit\n"
     ]
    },
    {
     "name": "stdin",
     "output_type": "stream",
     "text": [
      "Choose an option 1\n",
      "Enter task description:  market\n"
     ]
    },
    {
     "name": "stdout",
     "output_type": "stream",
     "text": [
      "My Todo List\n",
      "1. Add task\n",
      "2. remove task\n",
      "3. view task\n",
      "4. complete task\n",
      "5. Exit\n"
     ]
    },
    {
     "name": "stdin",
     "output_type": "stream",
     "text": [
      "Choose an option 4\n",
      "input task description to be completed kkk\n"
     ]
    },
    {
     "name": "stdout",
     "output_type": "stream",
     "text": [
      "Task 'kkk' not found in list\n",
      "My Todo List\n",
      "1. Add task\n",
      "2. remove task\n",
      "3. view task\n",
      "4. complete task\n",
      "5. Exit\n"
     ]
    },
    {
     "name": "stdin",
     "output_type": "stream",
     "text": [
      "Choose an option 4\n",
      "input task description to be completed market\n"
     ]
    },
    {
     "name": "stdout",
     "output_type": "stream",
     "text": [
      "task 'market' has been completed\n",
      "My Todo List\n",
      "1. Add task\n",
      "2. remove task\n",
      "3. view task\n",
      "4. complete task\n",
      "5. Exit\n"
     ]
    },
    {
     "name": "stdin",
     "output_type": "stream",
     "text": [
      "Choose an option 3\n"
     ]
    },
    {
     "name": "stdout",
     "output_type": "stream",
     "text": [
      "my list\n",
      " going to market (Not completed)\n",
      " market (completed)\n",
      "My Todo List\n",
      "1. Add task\n",
      "2. remove task\n",
      "3. view task\n",
      "4. complete task\n",
      "5. Exit\n"
     ]
    },
    {
     "name": "stdin",
     "output_type": "stream",
     "text": [
      "Choose an option 5\n"
     ]
    },
    {
     "name": "stdout",
     "output_type": "stream",
     "text": [
      "Goodbye\n"
     ]
    }
   ],
   "source": [
    "todo_list = []\n",
    "#add task\n",
    "def add_task():\n",
    "    description = input(\"Enter task description: \")\n",
    "    #status = bolean(input(\"completion?\"))\n",
    "\n",
    "    list = {\n",
    "        'description': description,\n",
    "        'completed': False\n",
    "    }\n",
    "    #add to dictionary\n",
    "    todo_list.append(list)\n",
    "\n",
    "#completed task\n",
    "def completed():\n",
    "    description = input('input task description to be completed')\n",
    "    for task in todo_list:\n",
    "        if task['description'].lower() == description.lower():\n",
    "            task['completed'] = True\n",
    "            print(f\"task '{description}' has been completed\")\n",
    "            return\n",
    "    print(f\"Task '{description}' not found in list\")\n",
    "\n",
    "        \n",
    "#remove task\n",
    "def remove_task():\n",
    "    task = input('enter task to be deleted')\n",
    "    for task in todo_list:\n",
    "        todo_list.remove(task)\n",
    "        print(F\"task {task} has been removed\")\n",
    "#view task\n",
    "def view_task():\n",
    "    if not todo_list:\n",
    "        print('empty list')\n",
    "        return\n",
    "    print('my list')\n",
    "    for task in todo_list:\n",
    "        status = 'completed' if task['completed'] else 'Not completed'\n",
    "        print(f\" {task['description']} ({status})\")\n",
    "\n",
    "\n",
    "def my_todo_list():\n",
    "    while True:\n",
    "        print(\"My Todo List\")\n",
    "        print(\"1. Add task\")\n",
    "        print(\"2. remove task\")\n",
    "        print(\"3. view task\")\n",
    "        print(\"4. complete task\")\n",
    "        print(\"5. Exit\")\n",
    "    \n",
    "        option = input(\"Choose an option\")\n",
    "    \n",
    "        if option == '1':\n",
    "            add_task()\n",
    "        elif option == '2':\n",
    "            remove_task()\n",
    "        elif option == '3':\n",
    "            view_task()\n",
    "        elif option == '4':\n",
    "            completed()\n",
    "        elif option == '5':\n",
    "            print('Goodbye')\n",
    "            break\n",
    "        else:\n",
    "            print('invalid option')\n",
    "    \n",
    "my_todo_list()\n",
    "        "
   ]
  },
  {
   "cell_type": "markdown",
   "id": "7e273e11-f2a0-4dde-989d-b875d6eb1720",
   "metadata": {},
   "source": [
    "Simple Calculator: Step-by-Step Guide\n",
    "Define Functions for Each Operation: Create functions to handle addition, subtraction, multiplication, and division.\n",
    "\n",
    "Get User Input: Prompt the user to choose an operation and enter the numbers they want to calculate.\n",
    "\n",
    "Perform the Calculation: Based on the user’s choice, call the appropriate function and display the result.\n",
    "\n",
    "Loop Until the User Decides to Exit: Allow the user to perform multiple calculations until they choose to exit."
   ]
  },
  {
   "cell_type": "code",
   "execution_count": null,
   "id": "8e4b55d4-bb48-400b-9a48-e23aebf0bae0",
   "metadata": {},
   "outputs": [
    {
     "name": "stdout",
     "output_type": "stream",
     "text": [
      "Welcome to CALCULATOR\n",
      "Enter the operation you wish to perform\n",
      "1. addition\n",
      "2. subtraction\n",
      "3. multiplication\n",
      "4. divition\n",
      "5. EXIT CALCULATOR\n"
     ]
    },
    {
     "name": "stdin",
     "output_type": "stream",
     "text": [
      "choose an option to perform(1,2,3,4) 4\n",
      "Enter the first number 4\n",
      "Enter the second number 2\n"
     ]
    },
    {
     "name": "stdout",
     "output_type": "stream",
     "text": [
      "2.0\n",
      "Welcome to CALCULATOR\n",
      "Enter the operation you wish to perform\n",
      "1. addition\n",
      "2. subtraction\n",
      "3. multiplication\n",
      "4. divition\n",
      "5. EXIT CALCULATOR\n"
     ]
    }
   ],
   "source": [
    "#addition\n",
    "def add(x, y):\n",
    "    return x + y\n",
    "#subtraction\n",
    "def subtract(x, y):\n",
    "    return x - y\n",
    "    \n",
    "#multiplication\n",
    "def mul(x, y):\n",
    "    return x * y   \n",
    "    \n",
    "#division\n",
    "def div(x, y):\n",
    "    if y == 0:\n",
    "        print('error: division by zero')\n",
    "    return x / y\n",
    "    \n",
    "#main calculator\n",
    "def calculator():\n",
    "    while True:\n",
    "        print('Welcome to CALCULATOR')\n",
    "        print('Enter the operation you wish to perform')\n",
    "        print('1. addition')\n",
    "        print('2. subtraction')\n",
    "        print('3. multiplication')\n",
    "        print('4. divition')\n",
    "        print('5. EXIT CALCULATOR')\n",
    "        \n",
    "        choice = input(\"choose an option to perform(1,2,3,4)\")\n",
    "        \n",
    "        \n",
    "        if choice in ['1', '2', '3', '4']:\n",
    "            num1 = float(input(\"Enter the first number\"))\n",
    "            num2 = float(input(\"Enter the second number\"))\n",
    "            \n",
    "            if choice == '1':\n",
    "                print(f\"{num1} + {num2} =  {add(num1, num2)}\")\n",
    "            elif choice == '2':\n",
    "                print(f\"{num1} - {num2} = {subtract(num1, num2)}\")\n",
    "            elif choice == '3':\n",
    "                print(f\"{mul(num1, num2)}\")\n",
    "            elif choice == '4':\n",
    "               print(f\"{div(num1, num2)}\")\n",
    "        elif choice == '5':\n",
    "            print(\"GOODBYE\")\n",
    "            break\n",
    "        else:\n",
    "            print(\"invalid option, choose another operaion\")\n",
    "calculator()\n",
    "#add(2,3)"
   ]
  },
  {
   "cell_type": "markdown",
   "id": "532016da-a4e2-40ff-b819-9bf2d5c0336b",
   "metadata": {},
   "source": [
    "Exercise: NumPy Array Operations\n",
    "Objective:\n",
    "Practice creating and manipulating NumPy arrays and performing basic mathematical operations.\n",
    "\n",
    "Instructions:\n",
    "Install NumPy (if you haven't already): Make sure you have NumPy installed. You can install it using pip:\n",
    "\n",
    "bash\n",
    "Copy code\n",
    "pip install numpy\n",
    "Create a 1D Array:\n",
    "\n",
    "Create a NumPy array with the following numbers: [10, 20, 30, 40, 50].\n",
    "Array Properties:\n",
    "\n",
    "Print the shape and size of the array you created in step 2.\n",
    "Create a 2D Array:\n",
    "\n",
    "Create a 2D NumPy array (matrix) with the following data:\n",
    "lua\n",
    "Copy code\n",
    "[[1, 2, 3],\n",
    " [4, 5, 6],\n",
    " [7, 8, 9]]\n",
    "Accessing Elements:\n",
    "\n",
    "Access and print the element in the second row and third column of the 2D array.\n",
    "Array Operations:\n",
    "\n",
    "Perform the following operations on the 1D array from step 2:\n",
    "Add 5 to each element.\n",
    "Multiply each element by 2.\n",
    "Calculate the mean of the array.\n",
    "Array Reshaping:\n",
    "\n",
    "Reshape the 1D array into a 2D array with 5 rows and 1 column.\n",
    "Slicing:\n",
    "\n",
    "Slice the first three elements of the original 1D array and print the result.\n",
    "Boolean Indexing:\n",
    "\n",
    "Create a boolean array that identifies which elements in the original 1D array are greater than 25, and print the resulting boolean array.\n",
    "Save and Load Array:\n",
    "\n",
    "Save the original 1D array to a file using NumPy's save function, and then load it back using the load function. Print the loaded array.\n",
    "\n",
    "Tips\n",
    "Use NumPy functions for operations (e.g., np.mean(), np.reshape()).\n",
    "Print intermediate results to verify your calculations."
   ]
  },
  {
   "cell_type": "code",
   "execution_count": null,
   "id": "15b2b413-43d7-459e-9501-1cac3df59e68",
   "metadata": {},
   "outputs": [],
   "source": []
  }
 ],
 "metadata": {
  "kernelspec": {
   "display_name": "Python 3 (ipykernel)",
   "language": "python",
   "name": "python3"
  },
  "language_info": {
   "codemirror_mode": {
    "name": "ipython",
    "version": 3
   },
   "file_extension": ".py",
   "mimetype": "text/x-python",
   "name": "python",
   "nbconvert_exporter": "python",
   "pygments_lexer": "ipython3",
   "version": "3.12.4"
  }
 },
 "nbformat": 4,
 "nbformat_minor": 5
}
