{
 "cells": [
  {
   "cell_type": "markdown",
   "id": "cda30b72-76cc-4ac2-b973-a08601891867",
   "metadata": {},
   "source": [
    "DATA STRUCTURES"
   ]
  },
  {
   "cell_type": "code",
   "execution_count": 6,
   "id": "a9a3c46d-a7c8-490a-a28b-8276e4d7162e",
   "metadata": {},
   "outputs": [],
   "source": [
    "L = [1,2,3,4,\"name\",3.4]"
   ]
  },
  {
   "cell_type": "markdown",
   "id": "4396e97d-148c-4d01-b7d8-760337e70301",
   "metadata": {},
   "source": [
    "Tuple"
   ]
  },
  {
   "cell_type": "code",
   "execution_count": 7,
   "id": "79135f07-e7bd-408e-8b5f-96e9dc841eec",
   "metadata": {},
   "outputs": [],
   "source": [
    "T = (1,3,5,\"name\",3)"
   ]
  },
  {
   "cell_type": "markdown",
   "id": "8ab30610-dfe8-446f-8a97-7d4e354f9f67",
   "metadata": {},
   "source": [
    "Set"
   ]
  },
  {
   "cell_type": "code",
   "execution_count": 8,
   "id": "c8dd9f38-5e38-452b-b5ce-a9f4ac5e59d7",
   "metadata": {},
   "outputs": [],
   "source": [
    "S = {1,2,3,\"name\"}"
   ]
  },
  {
   "cell_type": "markdown",
   "id": "c63da0a2-ea38-4e1d-b151-1849284ea11a",
   "metadata": {},
   "source": [
    "Dictionary"
   ]
  },
  {
   "cell_type": "code",
   "execution_count": 9,
   "id": "af0baf04-d6da-4f1d-b3a4-ff62eafb0dae",
   "metadata": {},
   "outputs": [],
   "source": [
    "D = {\"A\":1, 23:\"twentythree\", 'b':\"bobo\"}"
   ]
  },
  {
   "cell_type": "markdown",
   "id": "41a81af5-fadf-4ee5-916c-35090e81dd85",
   "metadata": {},
   "source": [
    "Accessing Elements"
   ]
  },
  {
   "cell_type": "code",
   "execution_count": 10,
   "id": "b40b1291-45a0-4fe8-83bd-8910b252de69",
   "metadata": {},
   "outputs": [
    {
     "name": "stdout",
     "output_type": "stream",
     "text": [
      "3\n",
      "3\n",
      "True\n",
      "twentythree\n"
     ]
    }
   ],
   "source": [
    "print(L[2])\n",
    "print(T[1])\n",
    "print(3 in S)\n",
    "print(D[23])"
   ]
  },
  {
   "cell_type": "code",
   "execution_count": 11,
   "id": "54aab8fe-cc43-4e81-9e4a-ad2fb903b2ad",
   "metadata": {},
   "outputs": [
    {
     "name": "stdout",
     "output_type": "stream",
     "text": [
      "bobo\n"
     ]
    }
   ],
   "source": [
    "print(D['b'])"
   ]
  },
  {
   "cell_type": "code",
   "execution_count": 12,
   "id": "23cd6ba9-382e-432d-95c4-1438035d25ec",
   "metadata": {},
   "outputs": [
    {
     "data": {
      "text/plain": [
       "[2, 3]"
      ]
     },
     "execution_count": 12,
     "metadata": {},
     "output_type": "execute_result"
    }
   ],
   "source": [
    "L[1:3]"
   ]
  },
  {
   "cell_type": "code",
   "execution_count": 13,
   "id": "0e20dc36-5ad0-4c77-be49-f9640819351b",
   "metadata": {},
   "outputs": [
    {
     "data": {
      "text/plain": [
       "[3.4, 'name', 4, 3, 2, 1]"
      ]
     },
     "execution_count": 13,
     "metadata": {},
     "output_type": "execute_result"
    }
   ],
   "source": [
    "L[::-1]"
   ]
  },
  {
   "cell_type": "code",
   "execution_count": 14,
   "id": "705e8c6c-a9d7-4319-857c-55779e8fb53f",
   "metadata": {},
   "outputs": [
    {
     "data": {
      "text/plain": [
       "(1, 3, 5, 'name')"
      ]
     },
     "execution_count": 14,
     "metadata": {},
     "output_type": "execute_result"
    }
   ],
   "source": [
    "T[:4]"
   ]
  },
  {
   "cell_type": "code",
   "execution_count": 15,
   "id": "af5e444f-4576-4f7d-b8aa-b479fb554572",
   "metadata": {},
   "outputs": [
    {
     "name": "stdout",
     "output_type": "stream",
     "text": [
      "[1, 2, 3, 4, 'name', 3.4, 'game']\n"
     ]
    }
   ],
   "source": [
    "L = L+[\"game\"]\n",
    "print(L)"
   ]
  },
  {
   "cell_type": "code",
   "execution_count": 16,
   "id": "8e7e79c8-4fbf-4511-b468-c7f7e307f5b7",
   "metadata": {},
   "outputs": [],
   "source": [
    "L[2]=5"
   ]
  },
  {
   "cell_type": "code",
   "execution_count": 17,
   "id": "e63a24c8-94f3-405b-a1fb-3f56030e7841",
   "metadata": {},
   "outputs": [
    {
     "name": "stdout",
     "output_type": "stream",
     "text": [
      "[1, 2, 5, 4, 'name', 3.4, 'game']\n"
     ]
    }
   ],
   "source": [
    "print(L)"
   ]
  },
  {
   "cell_type": "code",
   "execution_count": 18,
   "id": "743db257-2c19-481c-8b77-e7f293d086f9",
   "metadata": {},
   "outputs": [
    {
     "name": "stdout",
     "output_type": "stream",
     "text": [
      "[1, 2, 5, 4, 'name', 3.4, 'game', 3.4, 'nice']\n"
     ]
    }
   ],
   "source": [
    "L.append(3.4)\n",
    "L.append(\"nice\")\n",
    "print(L)"
   ]
  },
  {
   "cell_type": "code",
   "execution_count": 19,
   "id": "4b118ead-5918-4b0b-8222-c4dd9b116776",
   "metadata": {},
   "outputs": [
    {
     "name": "stdout",
     "output_type": "stream",
     "text": [
      "{1, 2, 3, 'name'}\n"
     ]
    }
   ],
   "source": [
    "print(S)"
   ]
  },
  {
   "cell_type": "code",
   "execution_count": 20,
   "id": "0a61301c-6721-4a07-8844-63555074d333",
   "metadata": {},
   "outputs": [
    {
     "name": "stdout",
     "output_type": "stream",
     "text": [
      "{'hello', 1, 2, 3, 4, 'name'}\n"
     ]
    }
   ],
   "source": [
    "S.update({4, \"hello\", 1})\n",
    "print(S)"
   ]
  },
  {
   "cell_type": "code",
   "execution_count": 21,
   "id": "760e3051-322c-4577-94d3-689a9fe7d4f4",
   "metadata": {},
   "outputs": [
    {
     "data": {
      "text/plain": [
       "{'A': 1, 23: 'twentythree', 'b': 'bobo'}"
      ]
     },
     "execution_count": 21,
     "metadata": {},
     "output_type": "execute_result"
    }
   ],
   "source": [
    "D"
   ]
  },
  {
   "cell_type": "code",
   "execution_count": 22,
   "id": "72145245-5570-469a-bafa-3eb523da9971",
   "metadata": {},
   "outputs": [],
   "source": [
    "D['newkey'] = 'newval'"
   ]
  },
  {
   "cell_type": "code",
   "execution_count": 23,
   "id": "8bfdb36a-ebd2-4160-b543-3710b20fdf69",
   "metadata": {},
   "outputs": [
    {
     "data": {
      "text/plain": [
       "{'A': 1, 23: 'twentythree', 'b': 'bobo', 'newkey': 'newval'}"
      ]
     },
     "execution_count": 23,
     "metadata": {},
     "output_type": "execute_result"
    }
   ],
   "source": [
    "D"
   ]
  },
  {
   "cell_type": "code",
   "execution_count": 24,
   "id": "c9598428-9ebd-46a4-9c16-9c9e877ede93",
   "metadata": {},
   "outputs": [],
   "source": [
    "D2 = {\"name\": \"Amina\", \"age\": 25, \"status\": \"married\"}"
   ]
  },
  {
   "cell_type": "code",
   "execution_count": 25,
   "id": "92e957a7-90c9-4be4-bb88-5e14e635df50",
   "metadata": {},
   "outputs": [
    {
     "name": "stdout",
     "output_type": "stream",
     "text": [
      "{'A': 1, 23: 'twentythree', 'b': 'bobo', 'newkey': 'newval', 'name': 'Amina', 'age': 25, 'status': 'married'}\n"
     ]
    }
   ],
   "source": [
    "D.update(D2)\n",
    "print(D)"
   ]
  },
  {
   "cell_type": "code",
   "execution_count": 26,
   "id": "53ca74ad-ceed-47dd-a041-622b0990adaa",
   "metadata": {},
   "outputs": [],
   "source": [
    "del L[3]"
   ]
  },
  {
   "cell_type": "code",
   "execution_count": 27,
   "id": "49b8121e-b593-40b2-889d-720ea45e2851",
   "metadata": {},
   "outputs": [],
   "source": [
    "S.remove(\"hello\")"
   ]
  },
  {
   "cell_type": "code",
   "execution_count": 28,
   "id": "c16833b7-d3b9-4372-9258-825fe696343e",
   "metadata": {},
   "outputs": [
    {
     "data": {
      "text/plain": [
       "[1, 2, 5, 'name', 3.4, 'game', 3.4, 'nice']"
      ]
     },
     "execution_count": 28,
     "metadata": {},
     "output_type": "execute_result"
    }
   ],
   "source": [
    "L"
   ]
  },
  {
   "cell_type": "code",
   "execution_count": 29,
   "id": "0659d2b2-ad6f-4603-bf6c-463233afa9b3",
   "metadata": {},
   "outputs": [],
   "source": [
    "Dic ={'A': L, 'B': D2, \"Set\": S, 'd':D} "
   ]
  },
  {
   "cell_type": "code",
   "execution_count": 30,
   "id": "2a470805-ebe2-4632-b732-287e71c03948",
   "metadata": {},
   "outputs": [
    {
     "data": {
      "text/plain": [
       "{'A': [1, 2, 5, 'name', 3.4, 'game', 3.4, 'nice'],\n",
       " 'B': {'name': 'Amina', 'age': 25, 'status': 'married'},\n",
       " 'Set': {1, 2, 3, 4, 'name'},\n",
       " 'd': {'A': 1,\n",
       "  23: 'twentythree',\n",
       "  'b': 'bobo',\n",
       "  'newkey': 'newval',\n",
       "  'name': 'Amina',\n",
       "  'age': 25,\n",
       "  'status': 'married'}}"
      ]
     },
     "execution_count": 30,
     "metadata": {},
     "output_type": "execute_result"
    }
   ],
   "source": [
    "Dic"
   ]
  },
  {
   "cell_type": "code",
   "execution_count": 31,
   "id": "1437d15e-90e0-4cde-ae9d-d694e1807d00",
   "metadata": {},
   "outputs": [],
   "source": [
    "L2 = [x**2 for x in range(10)]"
   ]
  },
  {
   "cell_type": "code",
   "execution_count": 32,
   "id": "2f34e4f8-19df-4b14-9071-9cd871c2901b",
   "metadata": {},
   "outputs": [
    {
     "data": {
      "text/plain": [
       "[0, 1, 4, 9, 16, 25, 36, 49, 64, 81]"
      ]
     },
     "execution_count": 32,
     "metadata": {},
     "output_type": "execute_result"
    }
   ],
   "source": [
    "L2"
   ]
  },
  {
   "cell_type": "code",
   "execution_count": 33,
   "id": "f402a95e-c9f2-4b67-97d2-135e99665961",
   "metadata": {},
   "outputs": [],
   "source": [
    "S2 = {x+2 for x in range(3,20,2)}"
   ]
  },
  {
   "cell_type": "code",
   "execution_count": 34,
   "id": "9e7ff901-1f00-4e42-8693-08e79372de94",
   "metadata": {},
   "outputs": [
    {
     "data": {
      "text/plain": [
       "{5, 7, 9, 11, 13, 15, 17, 19, 21}"
      ]
     },
     "execution_count": 34,
     "metadata": {},
     "output_type": "execute_result"
    }
   ],
   "source": [
    "S2"
   ]
  },
  {
   "cell_type": "code",
   "execution_count": 35,
   "id": "479ef53b-e874-4ab3-9f01-21788b3b497d",
   "metadata": {},
   "outputs": [
    {
     "data": {
      "text/plain": [
       "False"
      ]
     },
     "execution_count": 35,
     "metadata": {},
     "output_type": "execute_result"
    }
   ],
   "source": [
    "20 in D"
   ]
  },
  {
   "cell_type": "code",
   "execution_count": 36,
   "id": "967d07a9-1782-4a7f-b31c-ce29010c7b13",
   "metadata": {},
   "outputs": [
    {
     "data": {
      "text/plain": [
       "True"
      ]
     },
     "execution_count": 36,
     "metadata": {},
     "output_type": "execute_result"
    }
   ],
   "source": [
    "23 in D"
   ]
  },
  {
   "cell_type": "code",
   "execution_count": 37,
   "id": "21ef45ca-31c5-4cb2-bb6b-93391f3079c4",
   "metadata": {},
   "outputs": [
    {
     "data": {
      "text/plain": [
       "True"
      ]
     },
     "execution_count": 37,
     "metadata": {},
     "output_type": "execute_result"
    }
   ],
   "source": [
    "11 in S2"
   ]
  },
  {
   "cell_type": "code",
   "execution_count": 38,
   "id": "326d73e5-de37-4604-8fde-bef14a5c0f78",
   "metadata": {},
   "outputs": [],
   "source": [
    "\"\"\"lets say youre a teacher, with diff student record containing ID of student\n",
    "    and the marks list in each subject where diff students have taken diff no of \n",
    "    subject and all this record are in hard copy, you want to enter all data in \n",
    "    computer and want to compute the average marks of each student and display\n",
    "\"\"\"\n",
    "def getDataFromTeacher():\n",
    "    D = {}\n",
    "    while True:\n",
    "        studentId = input(\"enter student ID: \")\n",
    "        marksList = input(\"enter marks and seperate with comma: \")\n",
    "        moreStudents = input('enter \"no\" to quit insertion: ')\n",
    "        if studentId in D:\n",
    "            print(studentId, \"is already inserted\")\n",
    "        else:\n",
    "            D[studentId] = marksList.split(\",\")\n",
    "        if moreStudents.lower() == \"no\":\n",
    "            return D"
   ]
  },
  {
   "cell_type": "code",
   "execution_count": 39,
   "id": "2640e366-189e-4b14-983c-5becc86a1f4a",
   "metadata": {},
   "outputs": [
    {
     "name": "stdin",
     "output_type": "stream",
     "text": [
      "enter student ID:  43\n",
      "enter marks and seperate with comma:  12, 23,65,\n",
      "enter \"no\" to quit insertion:  no\n"
     ]
    }
   ],
   "source": [
    "studentdata = getDataFromTeacher()"
   ]
  },
  {
   "cell_type": "code",
   "execution_count": 40,
   "id": "a5da7d5f-2bad-4916-ab84-780cda2cfd82",
   "metadata": {},
   "outputs": [
    {
     "data": {
      "text/plain": [
       "{'43': ['12', ' 23', '65', '']}"
      ]
     },
     "execution_count": 40,
     "metadata": {},
     "output_type": "execute_result"
    }
   ],
   "source": [
    "studentdata"
   ]
  },
  {
   "cell_type": "code",
   "execution_count": 41,
   "id": "a466569e-92d4-4d5b-b83b-1a295ebe2e5d",
   "metadata": {},
   "outputs": [],
   "source": [
    "def getAverage(D):\n",
    "    avgMarks = {}\n",
    "    for x in D:\n",
    "        L = D[x]\n",
    "        s = 0\n",
    "        for marks in L:\n",
    "            s += int(marks)\n",
    "        avgMarks[x] = s/len(L)\n",
    "    return avgMarks"
   ]
  },
  {
   "cell_type": "code",
   "execution_count": 42,
   "id": "503502ed-a420-4308-9f44-1b9bd660924e",
   "metadata": {},
   "outputs": [
    {
     "ename": "ValueError",
     "evalue": "invalid literal for int() with base 10: ''",
     "output_type": "error",
     "traceback": [
      "\u001b[1;31m---------------------------------------------------------------------------\u001b[0m",
      "\u001b[1;31mValueError\u001b[0m                                Traceback (most recent call last)",
      "Cell \u001b[1;32mIn[42], line 1\u001b[0m\n\u001b[1;32m----> 1\u001b[0m averageMarks \u001b[38;5;241m=\u001b[39m getAverage(studentdata)\n",
      "Cell \u001b[1;32mIn[41], line 7\u001b[0m, in \u001b[0;36mgetAverage\u001b[1;34m(D)\u001b[0m\n\u001b[0;32m      5\u001b[0m     s \u001b[38;5;241m=\u001b[39m \u001b[38;5;241m0\u001b[39m\n\u001b[0;32m      6\u001b[0m     \u001b[38;5;28;01mfor\u001b[39;00m marks \u001b[38;5;129;01min\u001b[39;00m L:\n\u001b[1;32m----> 7\u001b[0m         s \u001b[38;5;241m+\u001b[39m\u001b[38;5;241m=\u001b[39m \u001b[38;5;28mint\u001b[39m(marks)\n\u001b[0;32m      8\u001b[0m     avgMarks[x] \u001b[38;5;241m=\u001b[39m s\u001b[38;5;241m/\u001b[39m\u001b[38;5;28mlen\u001b[39m(L)\n\u001b[0;32m      9\u001b[0m \u001b[38;5;28;01mreturn\u001b[39;00m avgMarks\n",
      "\u001b[1;31mValueError\u001b[0m: invalid literal for int() with base 10: ''"
     ]
    }
   ],
   "source": [
    "averageMarks = getAverage(studentdata)"
   ]
  },
  {
   "cell_type": "code",
   "execution_count": null,
   "id": "b2c47861-95e7-4057-846f-524bf2e609b7",
   "metadata": {},
   "outputs": [],
   "source": [
    "for  x in averageMarks:\n",
    "    print(\"Student:\", x, 'got average marks as:', averageMarks[x])"
   ]
  },
  {
   "cell_type": "markdown",
   "id": "35d6ac01-23a2-401c-ba6c-8bc099b8e8ec",
   "metadata": {},
   "source": [
    "NUMPY PACKAGE"
   ]
  },
  {
   "cell_type": "code",
   "execution_count": null,
   "id": "3168a9ea-c811-4fe7-acc4-4e5fe6442fa1",
   "metadata": {},
   "outputs": [],
   "source": [
    "import numpy as np"
   ]
  },
  {
   "cell_type": "code",
   "execution_count": null,
   "id": "393130b6-caa6-44af-a2db-18c2c9f12775",
   "metadata": {},
   "outputs": [],
   "source": [
    "a = np.array([1,2,3,45,6], dtype = '1')\n",
    "b = np.array((2,4,6,8))\n",
    "print(a)\n",
    "type(a)\n",
    "type(b)"
   ]
  },
  {
   "cell_type": "code",
   "execution_count": null,
   "id": "8d2adac2-8e0b-4b98-aed9-bea3118735e6",
   "metadata": {},
   "outputs": [],
   "source": [
    "a.dtype"
   ]
  },
  {
   "cell_type": "code",
   "execution_count": null,
   "id": "bb6b816b-1c92-4891-8482-5388b50ff4ca",
   "metadata": {},
   "outputs": [],
   "source": [
    "b.dtype"
   ]
  },
  {
   "cell_type": "markdown",
   "id": "572be57c-a1f3-406a-b1dc-30acc93e4442",
   "metadata": {},
   "source": [
    "Numpy Dimensions"
   ]
  },
  {
   "cell_type": "code",
   "execution_count": null,
   "id": "d0fa2e7b-d986-4c81-bdca-bd66ec76cb6d",
   "metadata": {},
   "outputs": [],
   "source": [
    "\n",
    "a = np.array([[1,2,3],[5,6,7]])"
   ]
  },
  {
   "cell_type": "code",
   "execution_count": null,
   "id": "ce08084e-d2f9-4c7c-b113-9583a0cd6d63",
   "metadata": {},
   "outputs": [],
   "source": [
    "a.ndim"
   ]
  },
  {
   "cell_type": "code",
   "execution_count": null,
   "id": "c06e4c8f-af84-4334-adfc-8a02449b696a",
   "metadata": {},
   "outputs": [],
   "source": [
    "a[0,2]"
   ]
  },
  {
   "cell_type": "code",
   "execution_count": null,
   "id": "3ca60239-a63b-4ba4-81bc-ba0c377ba250",
   "metadata": {},
   "outputs": [],
   "source": [
    "b = np.array([[0,1,2,4],[4,6,7,5],[5.4,24,2,7]])\n",
    "b.ndim"
   ]
  },
  {
   "cell_type": "code",
   "execution_count": null,
   "id": "7550bb7d-d2a6-445d-b853-5f3932f21f7c",
   "metadata": {},
   "outputs": [],
   "source": [
    "b[2,3]"
   ]
  },
  {
   "cell_type": "code",
   "execution_count": null,
   "id": "1a7ef33f-6181-4ce5-9b2d-025b2eed6bc2",
   "metadata": {},
   "outputs": [],
   "source": [
    "c = np.array([[[0,1,2,4],[4,6,7,5],[5.4,24,2,7]],[[1,2,3,0],[5,6,7,3],[8.5,4,3,0.9]]])\n",
    "c.ndim\n",
    "c[1,0,3]"
   ]
  },
  {
   "cell_type": "markdown",
   "id": "7b768ffb-7ead-4125-b910-9aafd4c1cc97",
   "metadata": {},
   "source": [
    "Numpy shape"
   ]
  },
  {
   "cell_type": "code",
   "execution_count": null,
   "id": "dc6b3541-d276-4c3a-a039-9585527884a4",
   "metadata": {},
   "outputs": [],
   "source": [
    "c.shape"
   ]
  },
  {
   "cell_type": "code",
   "execution_count": null,
   "id": "124dfe68-898e-4fb0-b402-9a7840596bbf",
   "metadata": {},
   "outputs": [],
   "source": [
    "c.size"
   ]
  },
  {
   "cell_type": "markdown",
   "id": "f56adfc6-1f82-49c8-8f1b-86638c731cf5",
   "metadata": {},
   "source": [
    "Numpy (np.arange , reshape, random)"
   ]
  },
  {
   "cell_type": "code",
   "execution_count": null,
   "id": "0efd1d78-42f1-4e14-9fd3-266494244dbe",
   "metadata": {},
   "outputs": [],
   "source": [
    "A = np.arange(100)\n",
    "print(A)"
   ]
  },
  {
   "cell_type": "code",
   "execution_count": null,
   "id": "262d41ee-7bc3-40a1-ad12-2065b6411709",
   "metadata": {},
   "outputs": [],
   "source": [
    "B = np.arange(50,100)\n",
    "print(B)"
   ]
  },
  {
   "cell_type": "code",
   "execution_count": null,
   "id": "a4f303f2-83a2-4b77-b32c-56dd2da2b581",
   "metadata": {},
   "outputs": [],
   "source": [
    "z = np.arange(10,100,5) #for i in range()\n",
    "print(z)"
   ]
  },
  {
   "cell_type": "code",
   "execution_count": null,
   "id": "b142d199-7bfa-41d4-a163-f5884ee6d929",
   "metadata": {},
   "outputs": [],
   "source": [
    "A = np.random.permutation(np.arange(10))\n",
    "print(A)\n"
   ]
  },
  {
   "cell_type": "code",
   "execution_count": null,
   "id": "9700a32b-86ac-4de4-b78f-7dfce025a89c",
   "metadata": {},
   "outputs": [],
   "source": [
    "np.random.randint(20,30)"
   ]
  },
  {
   "cell_type": "code",
   "execution_count": null,
   "id": "0a24b7b2-e1a0-4c01-8f7a-65ebe25f0abf",
   "metadata": {},
   "outputs": [],
   "source": [
    "R = np.random.randn(100)\n",
    "print(R)"
   ]
  },
  {
   "cell_type": "code",
   "execution_count": null,
   "id": "e341be19-e271-4d25-8337-aa4d21b5e57b",
   "metadata": {},
   "outputs": [],
   "source": [
    "import matplotlib.pyplot as plt"
   ]
  },
  {
   "cell_type": "code",
   "execution_count": null,
   "id": "4de7efac-7180-4bd7-9519-4aae8914ff5b",
   "metadata": {},
   "outputs": [],
   "source": [
    "plt.hist(R, bins =10)"
   ]
  },
  {
   "cell_type": "code",
   "execution_count": null,
   "id": "83f8f66d-4c3d-4135-8cdd-069db994308b",
   "metadata": {
    "scrolled": true
   },
   "outputs": [],
   "source": [
    "M = np.random.randn(1000000)\n",
    "plt.hist(M, bins=200)\n"
   ]
  },
  {
   "cell_type": "code",
   "execution_count": null,
   "id": "1929be82-ccf8-44e5-b33d-aa60c5649616",
   "metadata": {},
   "outputs": [],
   "source": [
    "F = np.array([[0.15428023, 0.8047941 , 0.43375185, 0.18807759, 0.66250775],\n",
    "                 [0.63843769, 0.00336078, 0.66629079, 0.18242532, 0.97557835],\n",
    "                 [0.23289582, 0.23730813, 0.85798259, 0.42692492, 0.22032905],\n",
    "                 [0.76365671, 0.24402193, 0.80326811, 0.43619445, 0.29198295],\n",
    "                 [0.18340777, 0.74441328, 0.98288483, 0.91415588, 0.3409782]])"
   ]
  },
  {
   "cell_type": "code",
   "execution_count": null,
   "id": "62fb1bd7-b89d-4b1b-a886-109a10b7b902",
   "metadata": {},
   "outputs": [],
   "source": [
    "F.ndim"
   ]
  },
  {
   "cell_type": "code",
   "execution_count": null,
   "id": "a684f4fe-ebf4-42a2-9b62-da94975d75b2",
   "metadata": {},
   "outputs": [],
   "source": [
    "F[4, 4]"
   ]
  },
  {
   "cell_type": "code",
   "execution_count": null,
   "id": "72cc115f-e24b-4240-9b99-088a2f034136",
   "metadata": {},
   "outputs": [],
   "source": [
    "H = np.random.rand(4,4,5,5)\n",
    "\"\"\"\n",
    " 4 arrays that has 4 dimension with 5 list each and 5 elements each\n",
    "\"\"\""
   ]
  },
  {
   "cell_type": "code",
   "execution_count": null,
   "id": "0080c5fc-6a40-4e3d-b6c2-2427207e0e6c",
   "metadata": {},
   "outputs": [],
   "source": [
    "Y = np.arange(100).reshape(10,10)\n",
    "Y\n"
   ]
  },
  {
   "cell_type": "code",
   "execution_count": null,
   "id": "b9acc583-e3b7-454d-865c-7907680cfcdb",
   "metadata": {},
   "outputs": [],
   "source": [
    "Y.shape"
   ]
  },
  {
   "cell_type": "code",
   "execution_count": null,
   "id": "2173da98-01ff-42ec-8848-452017a0c1ec",
   "metadata": {
    "scrolled": true
   },
   "outputs": [],
   "source": [
    "np.zeros?"
   ]
  },
  {
   "cell_type": "markdown",
   "id": "6bdce32d-58c3-45e2-967e-4e9f5dd4881e",
   "metadata": {},
   "source": [
    "Numpy Slicing\n",
    "A[start:end:step]"
   ]
  },
  {
   "cell_type": "code",
   "execution_count": null,
   "id": "bacfa6a8-fa50-4094-86df-8b77e2a9e7a2",
   "metadata": {},
   "outputs": [],
   "source": [
    "W = np.arange(100)\n",
    "V = W[3:10]\n",
    "print(V)"
   ]
  },
  {
   "cell_type": "code",
   "execution_count": null,
   "id": "0b5bf8d2-f8cf-4656-b478-5535d2d8143c",
   "metadata": {},
   "outputs": [],
   "source": [
    "V[0] = -200"
   ]
  },
  {
   "cell_type": "code",
   "execution_count": null,
   "id": "09e2e121-e99a-4a12-a0e8-ae6858d2facc",
   "metadata": {
    "scrolled": true
   },
   "outputs": [],
   "source": [
    "W"
   ]
  },
  {
   "cell_type": "code",
   "execution_count": null,
   "id": "bc8e91a4-1dd6-463a-a7fb-1635a152c06f",
   "metadata": {},
   "outputs": [],
   "source": [
    "W[::5]"
   ]
  },
  {
   "cell_type": "code",
   "execution_count": null,
   "id": "72edf21f-ec10-4283-8f00-b2eeef643362",
   "metadata": {},
   "outputs": [],
   "source": [
    "W[::-5]"
   ]
  },
  {
   "cell_type": "code",
   "execution_count": null,
   "id": "abf69af3-61bd-41f7-9a4a-a0f3bdec1a08",
   "metadata": {},
   "outputs": [],
   "source": [
    "W[::-1]"
   ]
  },
  {
   "cell_type": "code",
   "execution_count": null,
   "id": "53c0f11e-a308-47bd-9ec2-c24361aabb4f",
   "metadata": {},
   "outputs": [],
   "source": [
    "W"
   ]
  },
  {
   "cell_type": "code",
   "execution_count": null,
   "id": "9fb41aa2-c2bc-49d8-a73e-6a73f4f4e2a5",
   "metadata": {},
   "outputs": [],
   "source": [
    "idx = np.argwhere(W == -200)[0][0]\n",
    "idx"
   ]
  },
  {
   "cell_type": "code",
   "execution_count": null,
   "id": "7798b497-7a1a-4eeb-9683-af87f04300c2",
   "metadata": {},
   "outputs": [],
   "source": [
    "W[idx]=3\n",
    "W"
   ]
  },
  {
   "cell_type": "code",
   "execution_count": null,
   "id": "a33e6213-d995-4a5e-8001-6aba893cf2ae",
   "metadata": {},
   "outputs": [],
   "source": [
    "A = np.round(10*np.random.rand(5,4))"
   ]
  },
  {
   "cell_type": "code",
   "execution_count": null,
   "id": "3a626d4e-9306-40f6-8d7a-d55d03c7a28e",
   "metadata": {},
   "outputs": [],
   "source": [
    "A"
   ]
  },
  {
   "cell_type": "code",
   "execution_count": null,
   "id": "e8485146-f471-4939-964c-c88492452bf7",
   "metadata": {},
   "outputs": [],
   "source": [
    "A[3, :]"
   ]
  },
  {
   "cell_type": "code",
   "execution_count": null,
   "id": "3e63cabf-20d6-4fe2-8978-ec11b562ac2d",
   "metadata": {},
   "outputs": [],
   "source": [
    "A.T #transpose"
   ]
  },
  {
   "cell_type": "code",
   "execution_count": null,
   "id": "f7418d77-d6ae-4f63-ba52-991da5cf22bc",
   "metadata": {},
   "outputs": [],
   "source": [
    "import numpy.linalg as la"
   ]
  },
  {
   "cell_type": "code",
   "execution_count": null,
   "id": "025bf1f9-118d-44f8-8f3b-87793d059f50",
   "metadata": {},
   "outputs": [],
   "source": [
    "la.inv(np.random.rand(4,4))"
   ]
  },
  {
   "cell_type": "code",
   "execution_count": null,
   "id": "295d94f1-79b6-4501-8e40-832669b201b9",
   "metadata": {},
   "outputs": [],
   "source": [
    "A = np.arange(100)"
   ]
  },
  {
   "cell_type": "code",
   "execution_count": null,
   "id": "97e0ee6b-c7fd-4e3f-aa3f-df99390179d2",
   "metadata": {},
   "outputs": [],
   "source": [
    "B =A[[3,4,5]]"
   ]
  },
  {
   "cell_type": "code",
   "execution_count": null,
   "id": "09587913-2296-4b6a-9f3b-2628172a2726",
   "metadata": {},
   "outputs": [],
   "source": [
    "B"
   ]
  },
  {
   "cell_type": "code",
   "execution_count": null,
   "id": "a157b63d-0789-4c8b-8609-ed19d25d2cb7",
   "metadata": {},
   "outputs": [],
   "source": [
    "B[0]=-4\n"
   ]
  },
  {
   "cell_type": "code",
   "execution_count": null,
   "id": "dde01d86-7756-4d4b-b035-99f3d38b0894",
   "metadata": {},
   "outputs": [],
   "source": [
    "B = A[A<40]"
   ]
  },
  {
   "cell_type": "code",
   "execution_count": null,
   "id": "a3b9a71d-7de1-41f2-9cd9-18445b6cc657",
   "metadata": {},
   "outputs": [],
   "source": [
    "B"
   ]
  },
  {
   "cell_type": "code",
   "execution_count": null,
   "id": "6bea4412-77d3-4045-b4cd-000891d3c644",
   "metadata": {},
   "outputs": [],
   "source": [
    "B = A[(A<40) & (A>30)]"
   ]
  },
  {
   "cell_type": "code",
   "execution_count": null,
   "id": "1119e9ca-83d0-4f03-b38f-e8a7bab9bb66",
   "metadata": {},
   "outputs": [],
   "source": [
    "B"
   ]
  },
  {
   "cell_type": "raw",
   "id": "0010cf3f-c43d-46bb-b026-595235d2760f",
   "metadata": {},
   "source": [
    "& for arrays, and single object Difference"
   ]
  },
  {
   "cell_type": "code",
   "execution_count": null,
   "id": "899ad6d7-4a23-4eb3-b300-1adb72c1fdf0",
   "metadata": {},
   "outputs": [],
   "source": [
    "F = np.round(10*np.random.rand(2,3))"
   ]
  },
  {
   "cell_type": "code",
   "execution_count": null,
   "id": "0de551e6-af37-40ef-9039-1785eb4ee0f9",
   "metadata": {},
   "outputs": [],
   "source": [
    "F"
   ]
  },
  {
   "cell_type": "code",
   "execution_count": null,
   "id": "4ee4c228-9189-445c-945c-812e31f1aca4",
   "metadata": {},
   "outputs": [],
   "source": [
    "F + 3"
   ]
  },
  {
   "cell_type": "code",
   "execution_count": null,
   "id": "17a6cab8-6110-4e94-b0f2-7f2beef3ae64",
   "metadata": {},
   "outputs": [],
   "source": [
    "F + (np.arange(2).reshape(2,1))"
   ]
  },
  {
   "cell_type": "code",
   "execution_count": null,
   "id": "237e1527-7669-413a-9b53-07b7d01f286e",
   "metadata": {},
   "outputs": [],
   "source": [
    "H = np.random.rand(100000)\n",
    "%timeit sum(H)\n",
    "%timeit np.sum(H)"
   ]
  },
  {
   "cell_type": "markdown",
   "id": "ea2f2786-38c8-4a39-aaf6-822de394682e",
   "metadata": {},
   "source": [
    "PANDAS LIBRARY "
   ]
  },
  {
   "cell_type": "code",
   "execution_count": null,
   "id": "1c84ac5a-0bbd-422c-a81e-6642c2fad825",
   "metadata": {},
   "outputs": [],
   "source": [
    "import pandas as pd"
   ]
  },
  {
   "cell_type": "code",
   "execution_count": null,
   "id": "9e8b964e-815c-4bc3-ad34-bfd7db650a12",
   "metadata": {},
   "outputs": [],
   "source": [
    "print(pd.__version__)"
   ]
  },
  {
   "cell_type": "code",
   "execution_count": null,
   "id": "bcb103ed-351b-4108-b5b1-09bb5d8c52d2",
   "metadata": {},
   "outputs": [],
   "source": [
    "A = pd.Series([2,4,5,4], index=['a', 'b', 'c', 'd'])"
   ]
  },
  {
   "cell_type": "code",
   "execution_count": null,
   "id": "91a2ed80-93f6-44f2-955c-a3d246e273d7",
   "metadata": {},
   "outputs": [],
   "source": [
    "A.values"
   ]
  },
  {
   "cell_type": "code",
   "execution_count": null,
   "id": "74e14e73-1bd1-445b-b858-b613cded6e65",
   "metadata": {},
   "outputs": [],
   "source": [
    "A.index"
   ]
  },
  {
   "cell_type": "code",
   "execution_count": null,
   "id": "72455969-a49d-4e17-8f16-2fd3e393c06d",
   "metadata": {},
   "outputs": [],
   "source": [
    "type(A.values)"
   ]
  },
  {
   "cell_type": "code",
   "execution_count": null,
   "id": "866e5a5e-063e-4c16-a76a-7cc07bea9141",
   "metadata": {},
   "outputs": [],
   "source": [
    "type(A)"
   ]
  },
  {
   "cell_type": "code",
   "execution_count": null,
   "id": "52fcd8a7-3c16-4396-a6f0-a724629a2321",
   "metadata": {},
   "outputs": [],
   "source": [
    "A['b']"
   ]
  },
  {
   "cell_type": "code",
   "execution_count": null,
   "id": "2afc3ae6-3cc4-4eb4-ace0-76a048441258",
   "metadata": {},
   "outputs": [],
   "source": [
    "A['a':'c']"
   ]
  },
  {
   "cell_type": "code",
   "execution_count": null,
   "id": "cdec4532-1a1d-44f5-b916-51a5e161bcc3",
   "metadata": {},
   "outputs": [],
   "source": [
    "gradic = {'A':5.0, 'B':4.4, 'C':3.3, 'D': 2.5}\n",
    "grads = pd.Series(gradic)"
   ]
  },
  {
   "cell_type": "code",
   "execution_count": null,
   "id": "a8c3bcff-0d8d-480b-9c4c-7e9b1682988e",
   "metadata": {},
   "outputs": [],
   "source": [
    "grads.values"
   ]
  },
  {
   "cell_type": "code",
   "execution_count": null,
   "id": "30e2ad5b-94e9-48b9-988c-665b8a64f0fa",
   "metadata": {},
   "outputs": [],
   "source": [
    "grads"
   ]
  },
  {
   "cell_type": "code",
   "execution_count": null,
   "id": "7de78cee-9e9e-4584-8648-12c6f05f0b2f",
   "metadata": {},
   "outputs": [],
   "source": [
    "marksdic={'A':85, 'B':75, 'C': 50, 'D':40}\n",
    "marks = pd.Series(marksdic)"
   ]
  },
  {
   "cell_type": "code",
   "execution_count": null,
   "id": "b2c5754e-7aa1-4539-8b4c-49589da5b469",
   "metadata": {},
   "outputs": [],
   "source": [
    "d = pd.DataFrame({'marks':marks, 'grades': grads})\n",
    "d"
   ]
  },
  {
   "cell_type": "code",
   "execution_count": null,
   "id": "b52ce6ee-1ddd-4b6a-a6c4-74995e1667e4",
   "metadata": {},
   "outputs": [],
   "source": [
    "d.T"
   ]
  },
  {
   "cell_type": "code",
   "execution_count": null,
   "id": "f280cd81-03e2-4add-b32b-f84b27e7f5bb",
   "metadata": {},
   "outputs": [],
   "source": [
    "d"
   ]
  },
  {
   "cell_type": "code",
   "execution_count": null,
   "id": "dacdd940-658e-4a43-ab85-89d1bc6c600f",
   "metadata": {},
   "outputs": [],
   "source": [
    "d.values"
   ]
  },
  {
   "cell_type": "code",
   "execution_count": null,
   "id": "24bc1697-aec9-42da-87ba-2b3508e9ca78",
   "metadata": {},
   "outputs": [],
   "source": [
    "d.values[3,0]"
   ]
  },
  {
   "cell_type": "code",
   "execution_count": null,
   "id": "984609b0-f0d9-48f5-9ee0-c6877c602a7f",
   "metadata": {},
   "outputs": [],
   "source": [
    "d.columns"
   ]
  },
  {
   "cell_type": "code",
   "execution_count": null,
   "id": "77a8082b-263a-4b94-921e-bfc99c5eb408",
   "metadata": {},
   "outputs": [],
   "source": [
    "d['ScaleMarks'] = 10*(d['marks']/90)\n",
    "d"
   ]
  },
  {
   "cell_type": "code",
   "execution_count": null,
   "id": "5fc9b511-f832-47bb-ab0a-69115e367327",
   "metadata": {},
   "outputs": [],
   "source": [
    "d"
   ]
  },
  {
   "cell_type": "code",
   "execution_count": null,
   "id": "af5dc125-aaba-4df9-a935-e46e1fa4e577",
   "metadata": {},
   "outputs": [],
   "source": [
    "g = d[d['marks']>70]\n",
    "g"
   ]
  },
  {
   "cell_type": "code",
   "execution_count": null,
   "id": "108f57e4-48c0-4fa8-a639-f4740ca44688",
   "metadata": {},
   "outputs": [],
   "source": [
    "B = pd.DataFrame([{'a':1, 'b':4},{'b':-3, 'c':9}])\n",
    "B"
   ]
  },
  {
   "cell_type": "code",
   "execution_count": null,
   "id": "e7d1c4ec-241c-4daa-9380-9a19df6422e4",
   "metadata": {},
   "outputs": [],
   "source": [
    "B.fillna(0)"
   ]
  },
  {
   "cell_type": "code",
   "execution_count": null,
   "id": "af0668fb-52dc-4378-905a-77e07a25a235",
   "metadata": {},
   "outputs": [],
   "source": [
    "B.dropna()"
   ]
  },
  {
   "cell_type": "code",
   "execution_count": null,
   "id": "9ba21dd4-da15-4df4-9bd2-6d37f26dbc51",
   "metadata": {},
   "outputs": [],
   "source": [
    "F = pd.Series(['a', 'b', 'c'], index = [1,3,4])"
   ]
  },
  {
   "cell_type": "code",
   "execution_count": null,
   "id": "487d8e52-d047-47d3-a3e7-4b0359448418",
   "metadata": {},
   "outputs": [],
   "source": [
    "F[1]"
   ]
  },
  {
   "cell_type": "code",
   "execution_count": null,
   "id": "972fbb1d-b001-4063-8a38-71356210554a",
   "metadata": {},
   "outputs": [],
   "source": [
    "F[1:3]"
   ]
  },
  {
   "cell_type": "code",
   "execution_count": null,
   "id": "c2d395f6-b071-4bc5-bee7-aac20d0b4e1b",
   "metadata": {},
   "outputs": [],
   "source": [
    "F[2:3]"
   ]
  },
  {
   "cell_type": "code",
   "execution_count": null,
   "id": "2d74502c-37b4-44e5-a865-168a280d1887",
   "metadata": {},
   "outputs": [],
   "source": [
    "F.loc[1:3]"
   ]
  },
  {
   "cell_type": "code",
   "execution_count": null,
   "id": "a0481423-dd3c-48c0-a561-74ffb0a7ba6c",
   "metadata": {},
   "outputs": [],
   "source": [
    "F.iloc[1:3]"
   ]
  },
  {
   "cell_type": "code",
   "execution_count": null,
   "id": "b6b8854b-cce9-44be-822d-f7315ad5bd41",
   "metadata": {},
   "outputs": [],
   "source": [
    "d"
   ]
  },
  {
   "cell_type": "code",
   "execution_count": null,
   "id": "ae3177b4-41e1-4291-80a6-8725b35ec960",
   "metadata": {},
   "outputs": [],
   "source": [
    "d.iloc[2]"
   ]
  },
  {
   "cell_type": "code",
   "execution_count": null,
   "id": "44b70a9b-a07d-488f-ab81-11e3cfe76cca",
   "metadata": {},
   "outputs": [],
   "source": [
    "d.iloc[3]"
   ]
  },
  {
   "cell_type": "code",
   "execution_count": null,
   "id": "29588ac3-dc43-4eae-8d86-7d5c411b55ad",
   "metadata": {},
   "outputs": [],
   "source": [
    "import pandas as pd\n",
    "import numpy as np\n",
    "from sklearn.impute import Simplelmputer\n"
   ]
  },
  {
   "cell_type": "code",
   "execution_count": null,
   "id": "8d5b4fd8-419b-495b-9753-e28b68ac8b70",
   "metadata": {},
   "outputs": [],
   "source": [
    "!pip show scikit-learn"
   ]
  },
  {
   "cell_type": "code",
   "execution_count": null,
   "id": "cc4ac5f3-45cf-457d-bcb4-2c5f3624ca7f",
   "metadata": {},
   "outputs": [],
   "source": [
    "import sklearn\n",
    "print(sklearn.__version__)"
   ]
  },
  {
   "cell_type": "code",
   "execution_count": null,
   "id": "4e4da178-1e4e-4337-b947-89611471f9e4",
   "metadata": {},
   "outputs": [],
   "source": [
    "import pandas as pd\n",
    "import numpy as np\n",
    "from sklearn.impute import SimpleImputer"
   ]
  },
  {
   "cell_type": "code",
   "execution_count": null,
   "id": "321defe3-de12-4774-bb0c-2092fed586a8",
   "metadata": {},
   "outputs": [],
   "source": [
    "df = pd.read_cs"
   ]
  },
  {
   "cell_type": "code",
   "execution_count": null,
   "id": "0d44c7bb-bc43-44d7-adf3-fca25ce9403a",
   "metadata": {},
   "outputs": [],
   "source": [
    "import pandas as pd"
   ]
  }
 ],
 "metadata": {
  "kernelspec": {
   "display_name": "Python 3 (ipykernel)",
   "language": "python",
   "name": "python3"
  },
  "language_info": {
   "codemirror_mode": {
    "name": "ipython",
    "version": 3
   },
   "file_extension": ".py",
   "mimetype": "text/x-python",
   "name": "python",
   "nbconvert_exporter": "python",
   "pygments_lexer": "ipython3",
   "version": "3.12.4"
  }
 },
 "nbformat": 4,
 "nbformat_minor": 5
}
