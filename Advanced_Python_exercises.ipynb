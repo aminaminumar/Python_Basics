{
 "cells": [
  {
   "cell_type": "markdown",
   "metadata": {},
   "source": [
    "## 1. Custom Exception Handling:\n",
    "\n",
    "#### Write a function that accepts a list of numbers. Raise a custom exception if any element is not a number or if the list contains less than 3 elements.\n",
    "#### Add detailed error messages and ensure the program handles exceptions gracefully."
   ]
  },
  {
   "cell_type": "code",
   "execution_count": 5,
   "metadata": {},
   "outputs": [],
   "source": [
    "def exp_handling(l):\n",
    "    for num in l:\n",
    "        if not isinstance(num, (int,float)):\n",
    "            print(\"Error!, input is not a number\")\n",
    "            return\n",
    "    if len(l) < 3:\n",
    "        print(\"Error! Numbers must be more than 3\")\n",
    "        return\n",
    "    print(\"The list is Valid\")\n"
   ]
  },
  {
   "cell_type": "code",
   "execution_count": 6,
   "metadata": {},
   "outputs": [
    {
     "name": "stdout",
     "output_type": "stream",
     "text": [
      "The list is Valid\n"
     ]
    }
   ],
   "source": [
    "exp_handling([1, 4, 5, 5])"
   ]
  },
  {
   "cell_type": "markdown",
   "metadata": {},
   "source": [
    "## 2. File Handling and Data Analysis:\n",
    "\n",
    " #### Write a script to read a text file containing a list of numbers (one number per line).\n",
    " #### Calculate the sum, mean, and maximum of the numbers and save the results to a new file."
   ]
  },
  {
   "cell_type": "code",
   "execution_count": 7,
   "metadata": {},
   "outputs": [
    {
     "name": "stdout",
     "output_type": "stream",
     "text": [
      "Result written to the result_file\n"
     ]
    }
   ],
   "source": [
    "#define a function to read the file\n",
    "def read_and_process_file(input_file, result_file):\n",
    "    try: #error handling\n",
    "        #open the file\n",
    "        with open(input_file, 'r') as file:\n",
    "            numbers = []\n",
    "            #read each line and append it to list\n",
    "           \n",
    "            for line in file:\n",
    "                 try:\n",
    "                    numbers.append(float(line.strip())) #add each no to list\n",
    "                 except ValueError:\n",
    "                     print(\"Error\")\n",
    "        \n",
    "        #calculate sum, mean and meadian\n",
    "        sum_numbers = sum(numbers)\n",
    "        mean_numbers = sum(numbers)/len(numbers)\n",
    "        max_numbers = max(numbers)\n",
    "\n",
    "        with open(result_file, 'w') as file: #writes to the new file\n",
    "            file.write(f\"sum is: {sum_numbers}\\n\") #\n",
    "            file.write(f\"mean is: {mean_numbers}\\n\") \n",
    "            file.write(f\"maximum number is: {max_numbers}\")\n",
    "        \n",
    "        print(\"Result written to the result_file\")\n",
    "    except Exception as e:\n",
    "        print(f\"error {e}\")\n",
    "\n",
    "input_file = 'numbers.txt'\n",
    "result_file = 'result.txt'\n",
    "\n",
    "#call the function \n",
    "read_and_process_file(input_file, result_file)\n",
    "\n",
    "\n",
    " "
   ]
  },
  {
   "cell_type": "markdown",
   "metadata": {},
   "source": [
    "# 3. List and Dictionary Manipulations:\n",
    "\n",
    "#### Create a dictionary from two lists: one containing product names and another containing prices.\n",
    "#### Add functionality to:\n",
    "- Search for a product and retrieve its price.\n",
    "- Add a new product.\n",
    "- Remove a product."
   ]
  },
  {
   "cell_type": "code",
   "execution_count": 8,
   "metadata": {},
   "outputs": [
    {
     "data": {
      "text/plain": [
       "'the price of maggi is: 150'"
      ]
     },
     "execution_count": 8,
     "metadata": {},
     "output_type": "execute_result"
    }
   ],
   "source": [
    "product_name = ['Indomie', 'Soap', 'maggi', 'perfume', 'sunscreen', 'Rice']\n",
    "prices = ['1500', '200', '150', '4000', '4500', '20000']\n",
    "d_dictionary = {} #crate an empty dictionary\n",
    "for i in range(len(product_name)): #loop throug to add items\n",
    "    d_dictionary[product_name[i]] = prices[i]\n",
    "\n",
    "#search for a product and retrieve its price\n",
    "def search_dic(product):\n",
    "    if product in d_dictionary:\n",
    "        return f\"the price of {product} is: {d_dictionary[product]}\" \n",
    "    else:\n",
    "        return \"produc not found\"\n",
    "    \n",
    "\n",
    "#add a new product\n",
    "d_dictionary['chicken'] = '5500'\n",
    "# print(d_dictionary)\n",
    "\n",
    "\n",
    "#remove a product\n",
    "del d_dictionary['sunscreen']\n",
    "\n",
    "#calling the function to find a product and retrieve its price\n",
    "search_dic('maggi')\n"
   ]
  },
  {
   "cell_type": "markdown",
   "metadata": {},
   "source": [
    "# 4. Functions with Arguments:\n",
    "\n",
    "#### Write a function that accepts a list of integers and returns:\n",
    "- A new list with all even numbers squared.\n",
    "- The count of odd numbers.\n"
   ]
  },
  {
   "cell_type": "code",
   "execution_count": 9,
   "metadata": {},
   "outputs": [
    {
     "data": {
      "text/plain": [
       "'even number squred is: [4, 16, 64, 36, 100] and odd number is: 5'"
      ]
     },
     "execution_count": 9,
     "metadata": {},
     "output_type": "execute_result"
    }
   ],
   "source": [
    "def functions_with_arguments(l):\n",
    "    l1 =[]\n",
    "    count = 0\n",
    "    for num in l: \n",
    "        if num % 2 == 0: #checks for even no\n",
    "            l1.append(num**2) #returns even number squared\n",
    "    for num in l:\n",
    "        if num % 2 != 0:\n",
    "            count += 1\n",
    "    return f\"even number squred is: {l1} and odd number is: {count}\"\n",
    "#calls the function\n",
    "functions_with_arguments([1,2,3,4,5,7,8,6,9,10])"
   ]
  },
  {
   "cell_type": "markdown",
   "metadata": {},
   "source": [
    "## NumPy Exercises\n",
    "#### 1. Array Operations:\n",
    "- Create a 4x4 matrix of random integers between 1 and 50.\n",
    "- Replace all even numbers in the matrix with their negative counterparts.\n",
    "- Find the sum of the rows and columns.\n",
    "\n",
    "#### 2. Statistical Analysis:\n",
    "- Generate a 1000-element array of random floating-point numbers between 0 and 1.\n",
    "- Calculate the 25th, 50th (median), and 75th percentiles.\n",
    "\n",
    "#### 3. Advanced Indexing:\n",
    "- Create a 6x6 matrix with values ranging from 10 to 100.\n",
    "- Extract:\n",
    "- The 3x3 sub-matrix at the center.\n",
    "- All elements divisible by 5."
   ]
  },
  {
   "cell_type": "code",
   "execution_count": 10,
   "metadata": {},
   "outputs": [
    {
     "name": "stdout",
     "output_type": "stream",
     "text": [
      "Original matrix\n",
      "[[45  1 17 17]\n",
      " [31 30 14 28]\n",
      " [38 39 10  3]\n",
      " [16  2  6  9]]\n",
      "negative matrix\n",
      "[[ 45   1  17  17]\n",
      " [ 31 -30 -14 -28]\n",
      " [-38  39 -10   3]\n",
      " [-16  -2  -6   9]]\n",
      "[ 80 -41  -6 -15]\n",
      "[ 22   8 -13   1]\n"
     ]
    }
   ],
   "source": [
    "import numpy as np\n",
    "\n",
    "#4x4 random matrix\n",
    "\n",
    "m4x4 = np.random.randint(1, 50, (4, 4))\n",
    "print(\"Original matrix\")\n",
    "print(m4x4)\n",
    "\n",
    "#replacing even numbers with negative counterparts\n",
    "m4x4[m4x4%2==0]  = - m4x4[m4x4%2==0]\n",
    "print(\"negative matrix\")\n",
    "print(m4x4)\n",
    "\n",
    "\n",
    "c = np.sum(m4x4, axis=1) #sum of rows\n",
    "print(c)\n",
    "\n",
    "r = np.sum(m4x4, axis=0) #sum of column\n",
    "print(r)\n",
    "\n"
   ]
  },
  {
   "cell_type": "code",
   "execution_count": 11,
   "metadata": {},
   "outputs": [],
   "source": [
    "#Generate a 1000-element array of random floating-point numbers between 0 and 1.\n",
    "\n",
    "elements_1000 = np.random.rand(1000)\n",
    "# elements_1000\n",
    "\n"
   ]
  },
  {
   "cell_type": "code",
   "execution_count": 12,
   "metadata": {},
   "outputs": [
    {
     "name": "stdout",
     "output_type": "stream",
     "text": [
      "0.7568185986602319\n",
      "0.5129338958947087\n",
      "0.5129338958947087\n"
     ]
    }
   ],
   "source": [
    "twnty = np.percentile(elements_1000, 25)  #25th percentile\n",
    "fifty = np.percentile(elements_1000, 50) #50th percentile or median\n",
    "med = np.median(elements_1000)         #median\n",
    "seventy = np.percentile(elements_1000, 75)\n",
    "\n",
    "print(seventy)\n",
    "print(fifty)\n",
    "print(med)\n"
   ]
  },
  {
   "cell_type": "code",
   "execution_count": 13,
   "metadata": {},
   "outputs": [
    {
     "name": "stdout",
     "output_type": "stream",
     "text": [
      "[[85 35 87 48 43 10]\n",
      " [33 32 66 95 39 83]\n",
      " [18 99 18 79 98 47]\n",
      " [40 51 78 13 27 49]\n",
      " [62 56 16 35 64 72]\n",
      " [19 23 39 79 83 61]]\n",
      "2\n",
      "[[18 79 98]\n",
      " [78 13 27]\n",
      " [16 35 64]]\n"
     ]
    },
    {
     "data": {
      "text/plain": [
       "array([85, 35, 10, 95, 40, 35], dtype=int32)"
      ]
     },
     "execution_count": 13,
     "metadata": {},
     "output_type": "execute_result"
    }
   ],
   "source": [
    "# Create a 6x6 matrix with values ranging from 10 to 100.\n",
    "# - Extract:\n",
    "# - The 3x3 sub-matrix at the center.\n",
    "# - All elements divisible by 5.\n",
    "\n",
    "matrix6x6 = np.random.randint(10,100, (6,6)) #a 6x6 matrix \n",
    "print(matrix6x6)\n",
    "\n",
    "print(np.ndim(matrix6x6)) #prints the dimension of the array\n",
    "\n",
    "subM = matrix6x6[2:5, 2:5]  # slices the matric at the center\n",
    "print(subM)\n",
    "\n",
    "divisible_by_5 = matrix6x6[matrix6x6 % 5 == 0] # all elements divisible by 5\n",
    "divisible_by_5"
   ]
  },
  {
   "cell_type": "markdown",
   "metadata": {},
   "source": [
    "# Pandas Exercises\n",
    "### 1. Data Cleaning:\n",
    "- Create a DataFrame with some missing values and invalid entries.\n",
    "- Drop rows with missing values.\n",
    "- Replace invalid entries (e.g., negative numbers in a \"Price\" column) with the column's mean.\n"
   ]
  },
  {
   "cell_type": "code",
   "execution_count": 14,
   "metadata": {},
   "outputs": [
    {
     "data": {
      "text/html": [
       "<div>\n",
       "<style scoped>\n",
       "    .dataframe tbody tr th:only-of-type {\n",
       "        vertical-align: middle;\n",
       "    }\n",
       "\n",
       "    .dataframe tbody tr th {\n",
       "        vertical-align: top;\n",
       "    }\n",
       "\n",
       "    .dataframe thead th {\n",
       "        text-align: right;\n",
       "    }\n",
       "</style>\n",
       "<table border=\"1\" class=\"dataframe\">\n",
       "  <thead>\n",
       "    <tr style=\"text-align: right;\">\n",
       "      <th></th>\n",
       "      <th>name</th>\n",
       "      <th>age</th>\n",
       "      <th>department</th>\n",
       "      <th>salary</th>\n",
       "    </tr>\n",
       "  </thead>\n",
       "  <tbody>\n",
       "    <tr>\n",
       "      <th>0</th>\n",
       "      <td>Amina</td>\n",
       "      <td>26</td>\n",
       "      <td>Computer</td>\n",
       "      <td>400000</td>\n",
       "    </tr>\n",
       "    <tr>\n",
       "      <th>1</th>\n",
       "      <td>Mufeeda</td>\n",
       "      <td>unknown</td>\n",
       "      <td>5000</td>\n",
       "      <td>50000</td>\n",
       "    </tr>\n",
       "    <tr>\n",
       "      <th>2</th>\n",
       "      <td>None</td>\n",
       "      <td>None</td>\n",
       "      <td>Mathematics</td>\n",
       "      <td>unknown</td>\n",
       "    </tr>\n",
       "    <tr>\n",
       "      <th>3</th>\n",
       "      <td>Fatima</td>\n",
       "      <td>55</td>\n",
       "      <td>None</td>\n",
       "      <td>100000</td>\n",
       "    </tr>\n",
       "  </tbody>\n",
       "</table>\n",
       "</div>"
      ],
      "text/plain": [
       "      name      age   department   salary\n",
       "0    Amina       26     Computer   400000\n",
       "1  Mufeeda  unknown         5000    50000\n",
       "2     None     None  Mathematics  unknown\n",
       "3   Fatima       55         None   100000"
      ]
     },
     "execution_count": 14,
     "metadata": {},
     "output_type": "execute_result"
    }
   ],
   "source": [
    "import pandas as pd\n",
    "data = {\n",
    "    'name': ['Amina', 'Mufeeda', None, 'Fatima'],\n",
    "    'age' : [26, 'unknown', None, 55 ],\n",
    "    'department': ['Computer', 5000, 'Mathematics', None],\n",
    "    'salary': [400000, 50000, 'unknown', 100000]\n",
    "}\n",
    "df = pd.DataFrame(data)  #create a dataframe from dic\n",
    "df"
   ]
  },
  {
   "cell_type": "code",
   "execution_count": 15,
   "metadata": {},
   "outputs": [
    {
     "name": "stderr",
     "output_type": "stream",
     "text": [
      "C:\\Users\\Amina\\AppData\\Local\\Temp\\ipykernel_19784\\2043494438.py:1: FutureWarning: Downcasting behavior in `replace` is deprecated and will be removed in a future version. To retain the old behavior, explicitly call `result.infer_objects(copy=False)`. To opt-in to the future behavior, set `pd.set_option('future.no_silent_downcasting', True)`\n",
      "  df.replace({'unknown': np.nan, 'None': np.nan})  #replace unknwan value to nan\n"
     ]
    },
    {
     "data": {
      "text/html": [
       "<div>\n",
       "<style scoped>\n",
       "    .dataframe tbody tr th:only-of-type {\n",
       "        vertical-align: middle;\n",
       "    }\n",
       "\n",
       "    .dataframe tbody tr th {\n",
       "        vertical-align: top;\n",
       "    }\n",
       "\n",
       "    .dataframe thead th {\n",
       "        text-align: right;\n",
       "    }\n",
       "</style>\n",
       "<table border=\"1\" class=\"dataframe\">\n",
       "  <thead>\n",
       "    <tr style=\"text-align: right;\">\n",
       "      <th></th>\n",
       "      <th>name</th>\n",
       "      <th>age</th>\n",
       "      <th>department</th>\n",
       "      <th>salary</th>\n",
       "    </tr>\n",
       "  </thead>\n",
       "  <tbody>\n",
       "    <tr>\n",
       "      <th>0</th>\n",
       "      <td>Amina</td>\n",
       "      <td>26</td>\n",
       "      <td>Computer</td>\n",
       "      <td>400000</td>\n",
       "    </tr>\n",
       "    <tr>\n",
       "      <th>1</th>\n",
       "      <td>Mufeeda</td>\n",
       "      <td>unknown</td>\n",
       "      <td>5000</td>\n",
       "      <td>50000</td>\n",
       "    </tr>\n",
       "  </tbody>\n",
       "</table>\n",
       "</div>"
      ],
      "text/plain": [
       "      name      age department  salary\n",
       "0    Amina       26   Computer  400000\n",
       "1  Mufeeda  unknown       5000   50000"
      ]
     },
     "execution_count": 15,
     "metadata": {},
     "output_type": "execute_result"
    }
   ],
   "source": [
    "df.replace({'unknown': np.nan, 'None': np.nan})  #replace unknwan value to nan \n",
    "df.dropna() #drops all rows and coulmns with none values"
   ]
  },
  {
   "cell_type": "code",
   "execution_count": 16,
   "metadata": {},
   "outputs": [
    {
     "data": {
      "text/html": [
       "<div>\n",
       "<style scoped>\n",
       "    .dataframe tbody tr th:only-of-type {\n",
       "        vertical-align: middle;\n",
       "    }\n",
       "\n",
       "    .dataframe tbody tr th {\n",
       "        vertical-align: top;\n",
       "    }\n",
       "\n",
       "    .dataframe thead th {\n",
       "        text-align: right;\n",
       "    }\n",
       "</style>\n",
       "<table border=\"1\" class=\"dataframe\">\n",
       "  <thead>\n",
       "    <tr style=\"text-align: right;\">\n",
       "      <th></th>\n",
       "      <th>name</th>\n",
       "      <th>age</th>\n",
       "      <th>department</th>\n",
       "      <th>salary</th>\n",
       "    </tr>\n",
       "  </thead>\n",
       "  <tbody>\n",
       "    <tr>\n",
       "      <th>0</th>\n",
       "      <td>Amina</td>\n",
       "      <td>26</td>\n",
       "      <td>Computer</td>\n",
       "      <td>400000</td>\n",
       "    </tr>\n",
       "    <tr>\n",
       "      <th>1</th>\n",
       "      <td>Mufeeda</td>\n",
       "      <td>unknown</td>\n",
       "      <td>5000</td>\n",
       "      <td>50000</td>\n",
       "    </tr>\n",
       "    <tr>\n",
       "      <th>2</th>\n",
       "      <td>Boss</td>\n",
       "      <td>0</td>\n",
       "      <td>Mathematics</td>\n",
       "      <td>unknown</td>\n",
       "    </tr>\n",
       "    <tr>\n",
       "      <th>3</th>\n",
       "      <td>Fatima</td>\n",
       "      <td>55</td>\n",
       "      <td>None</td>\n",
       "      <td>100000</td>\n",
       "    </tr>\n",
       "  </tbody>\n",
       "</table>\n",
       "</div>"
      ],
      "text/plain": [
       "      name      age   department   salary\n",
       "0    Amina       26     Computer   400000\n",
       "1  Mufeeda  unknown         5000    50000\n",
       "2     Boss        0  Mathematics  unknown\n",
       "3   Fatima       55         None   100000"
      ]
     },
     "execution_count": 16,
     "metadata": {},
     "output_type": "execute_result"
    }
   ],
   "source": [
    "df['age'] = df['age'].fillna(0)   # fill the age row values unknown with 0\n",
    "df['name'] = df['name'].fillna('Boss') \n",
    "df"
   ]
  },
  {
   "cell_type": "code",
   "execution_count": null,
   "metadata": {},
   "outputs": [],
   "source": []
  },
  {
   "cell_type": "markdown",
   "metadata": {},
   "source": [
    "### 2. Grouping and Aggregation:\n",
    "- Create a DataFrame with columns: Name, Department, Salary, and Experience.\n",
    "- Group the data by Department and calculate:\n",
    "- The average salary.\n",
    "- The maximum years of experience."
   ]
  },
  {
   "cell_type": "code",
   "execution_count": 17,
   "metadata": {},
   "outputs": [
    {
     "data": {
      "text/html": [
       "<div>\n",
       "<style scoped>\n",
       "    .dataframe tbody tr th:only-of-type {\n",
       "        vertical-align: middle;\n",
       "    }\n",
       "\n",
       "    .dataframe tbody tr th {\n",
       "        vertical-align: top;\n",
       "    }\n",
       "\n",
       "    .dataframe thead th {\n",
       "        text-align: right;\n",
       "    }\n",
       "</style>\n",
       "<table border=\"1\" class=\"dataframe\">\n",
       "  <thead>\n",
       "    <tr style=\"text-align: right;\">\n",
       "      <th></th>\n",
       "      <th>Name</th>\n",
       "      <th>Department</th>\n",
       "      <th>Salary</th>\n",
       "      <th>Experience</th>\n",
       "    </tr>\n",
       "  </thead>\n",
       "  <tbody>\n",
       "    <tr>\n",
       "      <th>0</th>\n",
       "      <td>Isa</td>\n",
       "      <td>Pysics</td>\n",
       "      <td>1000</td>\n",
       "      <td>7</td>\n",
       "    </tr>\n",
       "    <tr>\n",
       "      <th>1</th>\n",
       "      <td>Mubarak</td>\n",
       "      <td>Engineer</td>\n",
       "      <td>5000</td>\n",
       "      <td>4</td>\n",
       "    </tr>\n",
       "    <tr>\n",
       "      <th>2</th>\n",
       "      <td>Mujahid</td>\n",
       "      <td>Engineer</td>\n",
       "      <td>3000</td>\n",
       "      <td>3</td>\n",
       "    </tr>\n",
       "    <tr>\n",
       "      <th>3</th>\n",
       "      <td>Maaruf</td>\n",
       "      <td>Maths</td>\n",
       "      <td>4500</td>\n",
       "      <td>6</td>\n",
       "    </tr>\n",
       "    <tr>\n",
       "      <th>4</th>\n",
       "      <td>Sakina</td>\n",
       "      <td>Engineer</td>\n",
       "      <td>7000</td>\n",
       "      <td>1</td>\n",
       "    </tr>\n",
       "    <tr>\n",
       "      <th>5</th>\n",
       "      <td>Fidausi</td>\n",
       "      <td>Computer</td>\n",
       "      <td>6000</td>\n",
       "      <td>7</td>\n",
       "    </tr>\n",
       "    <tr>\n",
       "      <th>6</th>\n",
       "      <td>Aneesa</td>\n",
       "      <td>Engineer</td>\n",
       "      <td>900</td>\n",
       "      <td>2</td>\n",
       "    </tr>\n",
       "    <tr>\n",
       "      <th>7</th>\n",
       "      <td>Raeesa</td>\n",
       "      <td>Maths</td>\n",
       "      <td>4500</td>\n",
       "      <td>8</td>\n",
       "    </tr>\n",
       "    <tr>\n",
       "      <th>8</th>\n",
       "      <td>Sumayya</td>\n",
       "      <td>Pysics</td>\n",
       "      <td>1000</td>\n",
       "      <td>4</td>\n",
       "    </tr>\n",
       "    <tr>\n",
       "      <th>9</th>\n",
       "      <td>Amatu</td>\n",
       "      <td>Maths</td>\n",
       "      <td>4500</td>\n",
       "      <td>3</td>\n",
       "    </tr>\n",
       "  </tbody>\n",
       "</table>\n",
       "</div>"
      ],
      "text/plain": [
       "      Name Department  Salary  Experience\n",
       "0      Isa     Pysics    1000           7\n",
       "1  Mubarak   Engineer    5000           4\n",
       "2  Mujahid   Engineer    3000           3\n",
       "3   Maaruf      Maths    4500           6\n",
       "4   Sakina   Engineer    7000           1\n",
       "5  Fidausi   Computer    6000           7\n",
       "6   Aneesa   Engineer     900           2\n",
       "7   Raeesa      Maths    4500           8\n",
       "8  Sumayya     Pysics    1000           4\n",
       "9    Amatu      Maths    4500           3"
      ]
     },
     "execution_count": 17,
     "metadata": {},
     "output_type": "execute_result"
    }
   ],
   "source": [
    "dataframe = {\n",
    "        'Name': ['Isa', 'Mubarak', 'Mujahid', 'Maaruf', 'Sakina', 'Fidausi', 'Aneesa', 'Raeesa', 'Sumayya', 'Amatu'],\n",
    "        'Department': ['Pysics', 'Engineer', 'Engineer', 'Maths', 'Engineer', 'Computer', 'Engineer', 'Maths', 'Pysics', 'Maths'],\n",
    "        'Salary': [1000, 5000, 3000, 4500, 7000, 6000, 900, 4500, 1000, 4500],\n",
    "        'Experience': [7, 4, 3, 6, 1, 7, 2, 8, 4, 3]\n",
    "    }\n",
    "df2 = pd.DataFrame(dataframe)\n",
    "df2"
   ]
  },
  {
   "cell_type": "code",
   "execution_count": 18,
   "metadata": {},
   "outputs": [
    {
     "data": {
      "text/html": [
       "<div>\n",
       "<style scoped>\n",
       "    .dataframe tbody tr th:only-of-type {\n",
       "        vertical-align: middle;\n",
       "    }\n",
       "\n",
       "    .dataframe tbody tr th {\n",
       "        vertical-align: top;\n",
       "    }\n",
       "\n",
       "    .dataframe thead th {\n",
       "        text-align: right;\n",
       "    }\n",
       "</style>\n",
       "<table border=\"1\" class=\"dataframe\">\n",
       "  <thead>\n",
       "    <tr style=\"text-align: right;\">\n",
       "      <th></th>\n",
       "      <th>avarage_salary</th>\n",
       "      <th>max_num_years</th>\n",
       "      <th>max_salary</th>\n",
       "    </tr>\n",
       "    <tr>\n",
       "      <th>Department</th>\n",
       "      <th></th>\n",
       "      <th></th>\n",
       "      <th></th>\n",
       "    </tr>\n",
       "  </thead>\n",
       "  <tbody>\n",
       "    <tr>\n",
       "      <th>Computer</th>\n",
       "      <td>6000.0</td>\n",
       "      <td>7</td>\n",
       "      <td>6000</td>\n",
       "    </tr>\n",
       "    <tr>\n",
       "      <th>Engineer</th>\n",
       "      <td>3975.0</td>\n",
       "      <td>4</td>\n",
       "      <td>7000</td>\n",
       "    </tr>\n",
       "    <tr>\n",
       "      <th>Maths</th>\n",
       "      <td>4500.0</td>\n",
       "      <td>8</td>\n",
       "      <td>4500</td>\n",
       "    </tr>\n",
       "    <tr>\n",
       "      <th>Pysics</th>\n",
       "      <td>1000.0</td>\n",
       "      <td>7</td>\n",
       "      <td>1000</td>\n",
       "    </tr>\n",
       "  </tbody>\n",
       "</table>\n",
       "</div>"
      ],
      "text/plain": [
       "            avarage_salary  max_num_years  max_salary\n",
       "Department                                           \n",
       "Computer            6000.0              7        6000\n",
       "Engineer            3975.0              4        7000\n",
       "Maths               4500.0              8        4500\n",
       "Pysics              1000.0              7        1000"
      ]
     },
     "execution_count": 18,
     "metadata": {},
     "output_type": "execute_result"
    }
   ],
   "source": [
    "d = df2.groupby('Department').agg(avarage_salary = ('Salary', 'mean'), max_num_years = ('Experience', 'max'), max_salary = ('Salary', 'max'))\n",
    "#used a function groupby to group the data by department\n",
    "#the agg function known as the aggregate function to fine the mean salary and the max number of experience\n",
    "d"
   ]
  },
  {
   "cell_type": "code",
   "execution_count": 19,
   "metadata": {},
   "outputs": [
    {
     "data": {
      "text/html": [
       "<div>\n",
       "<style scoped>\n",
       "    .dataframe tbody tr th:only-of-type {\n",
       "        vertical-align: middle;\n",
       "    }\n",
       "\n",
       "    .dataframe tbody tr th {\n",
       "        vertical-align: top;\n",
       "    }\n",
       "\n",
       "    .dataframe thead th {\n",
       "        text-align: right;\n",
       "    }\n",
       "</style>\n",
       "<table border=\"1\" class=\"dataframe\">\n",
       "  <thead>\n",
       "    <tr style=\"text-align: right;\">\n",
       "      <th></th>\n",
       "      <th>max_salary</th>\n",
       "    </tr>\n",
       "    <tr>\n",
       "      <th>Department</th>\n",
       "      <th></th>\n",
       "    </tr>\n",
       "  </thead>\n",
       "  <tbody>\n",
       "    <tr>\n",
       "      <th>Computer</th>\n",
       "      <td>6000</td>\n",
       "    </tr>\n",
       "    <tr>\n",
       "      <th>Engineer</th>\n",
       "      <td>7000</td>\n",
       "    </tr>\n",
       "    <tr>\n",
       "      <th>Maths</th>\n",
       "      <td>4500</td>\n",
       "    </tr>\n",
       "    <tr>\n",
       "      <th>Pysics</th>\n",
       "      <td>1000</td>\n",
       "    </tr>\n",
       "  </tbody>\n",
       "</table>\n",
       "</div>"
      ],
      "text/plain": [
       "            max_salary\n",
       "Department            \n",
       "Computer          6000\n",
       "Engineer          7000\n",
       "Maths             4500\n",
       "Pysics            1000"
      ]
     },
     "execution_count": 19,
     "metadata": {},
     "output_type": "execute_result"
    }
   ],
   "source": [
    "d2 = df2.groupby('Department').agg(max_salary = ('Salary', 'max'))\n",
    "d2"
   ]
  },
  {
   "cell_type": "markdown",
   "metadata": {},
   "source": [
    "### 3. Time Series Analysis:\n",
    "- Create a DataFrame containing a date range (e.g., from 2022-01-01 to 2022-12-31) and random sales values.\n",
    "- Plot a rolling average of sales using Matplotlib for visualization."
   ]
  },
  {
   "cell_type": "code",
   "execution_count": 22,
   "metadata": {},
   "outputs": [
    {
     "data": {
      "text/html": [
       "<div>\n",
       "<style scoped>\n",
       "    .dataframe tbody tr th:only-of-type {\n",
       "        vertical-align: middle;\n",
       "    }\n",
       "\n",
       "    .dataframe tbody tr th {\n",
       "        vertical-align: top;\n",
       "    }\n",
       "\n",
       "    .dataframe thead th {\n",
       "        text-align: right;\n",
       "    }\n",
       "</style>\n",
       "<table border=\"1\" class=\"dataframe\">\n",
       "  <thead>\n",
       "    <tr style=\"text-align: right;\">\n",
       "      <th></th>\n",
       "      <th>Dates</th>\n",
       "      <th>Sales</th>\n",
       "    </tr>\n",
       "  </thead>\n",
       "  <tbody>\n",
       "    <tr>\n",
       "      <th>361</th>\n",
       "      <td>2024-12-27</td>\n",
       "      <td>83</td>\n",
       "    </tr>\n",
       "    <tr>\n",
       "      <th>362</th>\n",
       "      <td>2024-12-28</td>\n",
       "      <td>81</td>\n",
       "    </tr>\n",
       "    <tr>\n",
       "      <th>363</th>\n",
       "      <td>2024-12-29</td>\n",
       "      <td>38</td>\n",
       "    </tr>\n",
       "    <tr>\n",
       "      <th>364</th>\n",
       "      <td>2024-12-30</td>\n",
       "      <td>89</td>\n",
       "    </tr>\n",
       "    <tr>\n",
       "      <th>365</th>\n",
       "      <td>2024-12-31</td>\n",
       "      <td>15</td>\n",
       "    </tr>\n",
       "  </tbody>\n",
       "</table>\n",
       "</div>"
      ],
      "text/plain": [
       "         Dates  Sales\n",
       "361 2024-12-27     83\n",
       "362 2024-12-28     81\n",
       "363 2024-12-29     38\n",
       "364 2024-12-30     89\n",
       "365 2024-12-31     15"
      ]
     },
     "execution_count": 22,
     "metadata": {},
     "output_type": "execute_result"
    }
   ],
   "source": [
    "#Create a DataFrame containing a date range (e.g., from 2022-01-01 to 2022-12-31)\n",
    "def3 = pd.date_range(start='2024-01-01', end='2024-12-31')\n",
    "random_sales = np.random.randint(10, 100, len(def3)) #cretaes a ramdom sales value\n",
    "\n",
    "T_S_analysis = pd.DataFrame({\n",
    "    'Dates': def3,\n",
    "    'Sales': random_sales\n",
    "})\n",
    "\n",
    "T_S_analysis.tail()"
   ]
  },
  {
   "cell_type": "code",
   "execution_count": 26,
   "metadata": {},
   "outputs": [
    {
     "data": {
      "text/plain": [
       "(array([[  0.,   0.,   0.,   0.,   0.,   0.,   0.,   0.,   0., 366.],\n",
       "        [366.,   0.,   0.,   0.,   0.,   0.,   0.,   0.,   0.,   0.]]),\n",
       " array([1.00000e+01, 2.01780e+03, 4.02560e+03, 6.03340e+03, 8.04120e+03,\n",
       "        1.00490e+04, 1.20568e+04, 1.40646e+04, 1.60724e+04, 1.80802e+04,\n",
       "        2.00880e+04]),\n",
       " <a list of 2 BarContainer objects>)"
      ]
     },
     "execution_count": 26,
     "metadata": {},
     "output_type": "execute_result"
    },
    {
     "data": {
      "image/png": "[encoded data removed]",
      "text/plain": [
       "<Figure size 640x480 with 1 Axes>"
      ]
     },
     "metadata": {},
     "output_type": "display_data"
    }
   ],
   "source": [
    "import matplotlib.pyplot as plt\n",
    "\n",
    "plt.hist(T_S_analysis)"
   ]
  },
  {
   "cell_type": "markdown",
   "metadata": {},
   "source": [
    "### 4. Data Merging:\n",
    "- Create two DataFrames: one with student information (ID, Name, Department) and another with test scores (ID, Score).\n",
    "- Merge the DataFrames on ID and calculate the average score by department.\n"
   ]
  },
  {
   "cell_type": "code",
   "execution_count": null,
   "metadata": {},
   "outputs": [],
   "source": []
  }
 ],
 "metadata": {
  "kernelspec": {
   "display_name": "Python 3",
   "language": "python",
   "name": "python3"
  },
  "language_info": {
   "codemirror_mode": {
    "name": "ipython",
    "version": 3
   },
   "file_extension": ".py",
   "mimetype": "text/x-python",
   "name": "python",
   "nbconvert_exporter": "python",
   "pygments_lexer": "ipython3",
   "version": "3.12.4"
  }
 },
 "nbformat": 4,
 "nbformat_minor": 2
}
