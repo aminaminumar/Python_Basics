{
 "cells": [
  {
   "cell_type": "code",
   "execution_count": 20,
   "id": "1355bc5d-5803-4c13-bfae-30aa1c5090bc",
   "metadata": {},
   "outputs": [],
   "source": [
    "def AddAllNo(*args):\n",
    "    c = 0\n",
    "    for i in range(len(args)):\n",
    "        c+=args[i]\n",
    "    print(c)"
   ]
  },
  {
   "cell_type": "code",
   "execution_count": 21,
   "id": "d534f4c5-5e98-4483-8e64-f2932bcbf792",
   "metadata": {},
   "outputs": [
    {
     "name": "stdout",
     "output_type": "stream",
     "text": [
      "4\n"
     ]
    }
   ],
   "source": [
    "AddAllNo(2,2)"
   ]
  },
  {
   "cell_type": "code",
   "execution_count": 45,
   "id": "7b2d8233-dbd8-4a56-9ad6-a12193343cd0",
   "metadata": {},
   "outputs": [],
   "source": [
    "def searchTypeOfValue(**c):\n",
    "    for i in c:\n",
    "     print(\"this type is\", c[i], type(i))\n",
    "    else:\n",
    "          print(\"Error: wrong type\")"
   ]
  },
  {
   "cell_type": "code",
   "execution_count": 46,
   "id": "c42a12ce-492f-4f78-b29f-44a9631dfc3a",
   "metadata": {},
   "outputs": [
    {
     "name": "stdout",
     "output_type": "stream",
     "text": [
      "this type is 23 <class 'str'>\n",
      "this type is Amina <class 'str'>\n",
      "Error: wrong type\n"
     ]
    }
   ],
   "source": [
    "searchTypeOfValue(c1 = 23, c2 = \"Amina\")"
   ]
  },
  {
   "cell_type": "code",
   "execution_count": 1,
   "id": "27d01764-87e5-4018-8b5a-5394de942b48",
   "metadata": {},
   "outputs": [
    {
     "data": {
      "text/plain": [
       "(-9, 4)"
      ]
     },
     "execution_count": 1,
     "metadata": {},
     "output_type": "execute_result"
    }
   ],
   "source": [
    "\"\"\"\n",
    "using Functions\n",
    "given a list of numbers i.e [1,2,4,-5,7,9,3,2], make another list that containes a sorted list in order \n",
    "from min to max i.e yor list should be [-5,1,2,2,3,4,7,9]\n",
    "\"\"\"\n",
    "\n",
    "def find_minimum(L):\n",
    "    min = L[0]\n",
    "    idx = 0\n",
    "    count = 0\n",
    "    for num in L:\n",
    "        if min > num:\n",
    "            min = num\n",
    "            idx = count\n",
    "        else:\n",
    "            pass\n",
    "        count += 1\n",
    "        # new_list = L.append(min)\n",
    "    return(min, idx)\n",
    "    # print(L)\n",
    "find_minimum([1,2,3,-5,-9,-1])\n",
    "    "
   ]
  },
  {
   "cell_type": "code",
   "execution_count": 2,
   "id": "751d00b2-b012-45fe-90fb-9096167873e8",
   "metadata": {},
   "outputs": [
    {
     "name": "stdout",
     "output_type": "stream",
     "text": [
      "[-5, 1, 2, 2, 3, 4, 7, 9]\n"
     ]
    }
   ],
   "source": [
    "def find_minimum(L):\n",
    "    min_val = L[0]\n",
    "    idx = 0\n",
    "    count = 0\n",
    "    for num in L:\n",
    "        if min_val > num:\n",
    "            min_val = num\n",
    "            idx = count\n",
    "        count += 1\n",
    "    return min_val, idx\n",
    "\n",
    "def sort_list(L):\n",
    "    sorted_list = []\n",
    "    while L:\n",
    "        min_val, idx = find_minimum(L)\n",
    "        sorted_list.append(min_val)\n",
    "        # Remove the found minimum from the list\n",
    "        L.pop(idx)\n",
    "    return sorted_list\n",
    "\n",
    "# Test the function\n",
    "original_list = [1, 2, 4, -5, 7, 9, 3, 2]\n",
    "print(sort_list(original_list))"
   ]
  },
  {
   "cell_type": "code",
   "execution_count": 12,
   "id": "cc583f0b-9739-47b5-8142-4059477149a3",
   "metadata": {},
   "outputs": [
    {
     "name": "stdout",
     "output_type": "stream",
     "text": [
      "32.0\n",
      "89.6\n",
      "True\n",
      "False\n",
      "True\n"
     ]
    }
   ],
   "source": [
    "\"\"\"Exercise 1: Temperature Converter\n",
    "Write a function called convert_temperature that:\n",
    "\n",
    "Takes a temperature in Celsius as input.\n",
    "Converts it to Fahrenheit using the formula: \n",
    "F = (C * 9/5) + 32​\n",
    "Returns the Fahrenheit value.\n",
    "Then, write a global variable freezing_point set to 0 (freezing point in Celsius) and create a function is_freezing that:\n",
    "Uses freezing_point to check if a given Celsius temperature is at or below the freezing point.\n",
    "Returns True if freezing or below, and False otherwise.\n",
    "\"\"\"\n",
    "def convert_temperature(c):\n",
    "    # celcius = float(input(\"Enter temperature in celcuis\"))  #temprature in celcius\n",
    "    fahrenheit = (c * 9/5) + 32\n",
    "    return fahrenheit\n",
    "\n",
    "freezing_point = 0  #freezing point in celcius\n",
    "def is_freezing(d):\n",
    "    # celcius = float(input(\"Enter temperature in celcuis\"))  #temprature in celcius\n",
    "    if d <= freezing_point:\n",
    "        return True\n",
    "    else:\n",
    "        return False\n",
    "\n",
    "print(convert_temperature(0))\n",
    "print(convert_temperature(32))\n",
    "print(is_freezing(0))\n",
    "print(is_freezing(20))\n",
    "print(is_freezing(-5))\n",
    "# convert_temperature()\n",
    "# is_freezing()"
   ]
  },
  {
   "cell_type": "code",
   "execution_count": 30,
   "id": "f385591a-7ccb-4f42-a7ec-e13f638bb8e4",
   "metadata": {},
   "outputs": [
    {
     "name": "stdout",
     "output_type": "stream",
     "text": [
      "1\n",
      "2\n",
      "3\n"
     ]
    }
   ],
   "source": [
    "\"\"\"Exercise 2: Counter Function with Nested Scope\n",
    "Write a function called create_counter that:\n",
    "Defines a variable count with an initial value of 0.\n",
    "Defines a nested function increment that:\n",
    "Increments count by 1 each time it’s called.\n",
    "Prints the current value of count.\n",
    "create_counter should return the increment function.\n",
    "Test the create_counter function by creating a counter instance and calling the increment function multiple\n",
    "times to see how the nested scope works.\"\"\"\n",
    "\n",
    "def create_counter():\n",
    "    count = 0\n",
    "    def increment():\n",
    "        nonlocal count\n",
    "        count += 1\n",
    "        print(count)\n",
    "    return increment\n",
    "    \n",
    "counter = create_counter()\n",
    "counter()\n",
    "counter()\n",
    "counter()"
   ]
  },
  {
   "cell_type": "code",
   "execution_count": 67,
   "id": "7fab9214-7a5d-4883-993e-b9e7f2dc7d85",
   "metadata": {},
   "outputs": [
    {
     "name": "stdout",
     "output_type": "stream",
     "text": [
      "800\n"
     ]
    }
   ],
   "source": [
    "\"\"\" Expense Tracker\n",
    "Create a program that tracks daily expenses using a function. Write a function add_expense that:\n",
    "\n",
    "Takes the name of the expense (like \"Groceries\"), the amount spent, and an optional category (like \"Food\").\n",
    "Adds the expense to a list, expenses.\n",
    "Each expense should be stored as a dictionary with keys: name, amount, and category.\n",
    "Write another function get_total_expense that:\n",
    "Calculates and returns the total amount spent so far.\"\"\"\n",
    "\n",
    "expenses = []\n",
    "def add_expense(name, amount, category):\n",
    "    each_expense = {\n",
    "        'name': name,\n",
    "        'amount': amount,\n",
    "        'category': category\n",
    "    }\n",
    "    expenses.append(each_expense)\n",
    "\n",
    "def get_total_expense():\n",
    "    total = 0\n",
    "    for items in expenses:\n",
    "        total += items['amount']\n",
    "    return total\n",
    "#calling the function\n",
    "add_expense('popcorn', 200, 'food')\n",
    "add_expense('pen', 200, 'item')\n",
    "add_expense('phone', 200, 'it')\n",
    "add_expense('watch', 200, 'itemm')\n",
    "\n",
    "print(get_total_expense())"
   ]
  },
  {
   "cell_type": "code",
   "execution_count": 68,
   "id": "25c09841-2697-4713-8d64-ad5c6ccdbf15",
   "metadata": {},
   "outputs": [
    {
     "name": "stdout",
     "output_type": "stream",
     "text": [
      "900\n"
     ]
    }
   ],
   "source": [
    "add_expense('mango', 100, 'fruit')\n",
    "print(get_total_expense())"
   ]
  },
  {
   "cell_type": "code",
   "execution_count": 97,
   "id": "2edc64a6-98b6-40b6-b475-27c99b172196",
   "metadata": {},
   "outputs": [
    {
     "data": {
      "text/plain": [
       "37.5"
      ]
     },
     "execution_count": 97,
     "metadata": {},
     "output_type": "execute_result"
    }
   ],
   "source": [
    "\"\"\"\n",
    "Temperature Logger\n",
    "Create a program that logs temperatures in different cities. Write a function log_temperature that:\n",
    "\n",
    "Takes a city name and a temperature in Celsius.\n",
    "Adds the data to a dictionary city_temperatures, where the city name is the key, and the value is a list of logged temperatures for that city.\n",
    "Then, write a function get_average_temperature that:\n",
    "\n",
    "Takes the name of a city as input.\n",
    "Calculates and returns the average temperature recorded for that city.\n",
    "\"\"\"\n",
    "\n",
    "city_temperatures = {}\n",
    "def log_tmp(name, temperature):\n",
    "    if name in city_temperatures:\n",
    "        city_temperatures[name].append(temperature)\n",
    "    else:\n",
    "        city_temperatures[name] = [temperature]\n",
    "def get_average_tmp(name):\n",
    "    if name in city_temperatures:\n",
    "        temperatures = city_temperatures[name]\n",
    "        average = sum(temperatures)/len(temperatures)\n",
    "        return average\n",
    "    else:\n",
    "        return 'city and tmp not logged'\n",
    "\n",
    "log_tmp('kaduna', 20)\n",
    "log_tmp('kaduna', 40)\n",
    "log_tmp('kaduna', 40)\n",
    "log_tmp('kaduna', 50)\n",
    "\n",
    "# av = get_average_tmp('kaduna')\n",
    "get_average_tmp('kaduna')"
   ]
  },
  {
   "cell_type": "code",
   "execution_count": 110,
   "id": "94dc1670-af03-4b75-a407-bd9378fa69a2",
   "metadata": {},
   "outputs": [
    {
     "name": "stdout",
     "output_type": "stream",
     "text": [
      "120\n"
     ]
    }
   ],
   "source": [
    "def factorial(a):\n",
    "    fact_product = 1\n",
    "    for number in range(1, a+1):\n",
    "        fact_product = fact_product * number \n",
    "    return fact_product\n",
    "print(factorial(5))"
   ]
  },
  {
   "cell_type": "markdown",
   "id": "32bee93b-802a-44e9-8abc-77dde0542605",
   "metadata": {},
   "source": [
    "Functions with string formating and positiional argument"
   ]
  },
  {
   "cell_type": "code",
   "execution_count": 111,
   "id": "5df31fe9-2088-4e94-a0d2-e5d06e5922de",
   "metadata": {},
   "outputs": [],
   "source": [
    "list_name = ['amina', 'zainab', 'yusra', 'mujahid', 'isa']"
   ]
  },
  {
   "cell_type": "code",
   "execution_count": 124,
   "id": "47c4dc3b-1804-49ca-abde-e0d8782fbca3",
   "metadata": {},
   "outputs": [],
   "source": [
    "list_age = [25, 21, 27, 32, 36]"
   ]
  },
  {
   "cell_type": "code",
   "execution_count": 150,
   "id": "c2970091-399d-463b-9d97-184a1e2234c7",
   "metadata": {},
   "outputs": [],
   "source": [
    "def name_age(name, age):\n",
    "        return 'Your name is {} and youre {} years old'.format(name, age)\n",
    "\n"
   ]
  },
  {
   "cell_type": "code",
   "execution_count": 125,
   "id": "179706e8-40e9-4075-a401-3c9004b103be",
   "metadata": {},
   "outputs": [
    {
     "name": "stdout",
     "output_type": "stream",
     "text": [
      "Your name is amina and youre 25 years old\n",
      "Your name is zainab and youre 21 years old\n",
      "Your name is yusra and youre 27 years old\n",
      "Your name is mujahid and youre 32 years old\n",
      "Your name is isa and youre 36 years old\n"
     ]
    }
   ],
   "source": [
    "for idx, name in enumerate(list_name):\n",
    "     age = list_age[idx]\n",
    "     name_age(name, age)\n",
    "     print('Your name is {} and youre {} years old'.format(name, age))"
   ]
  },
  {
   "cell_type": "code",
   "execution_count": 140,
   "id": "7560d29d-5781-44ca-ac7b-12f3e4193e7f",
   "metadata": {},
   "outputs": [
    {
     "data": {
      "text/plain": [
       "15.700000000000001"
      ]
     },
     "execution_count": 140,
     "metadata": {},
     "output_type": "execute_result"
    }
   ],
   "source": [
    "# LAmda Functions\n",
    "\n",
    "pii = lambda x: x*3.14\n",
    "pii(5)"
   ]
  },
  {
   "cell_type": "code",
   "execution_count": 149,
   "id": "ad10a771-82ff-438f-b81a-284682f89999",
   "metadata": {},
   "outputs": [],
   "source": [
    "root = lambda y: y**y #gives the root of y"
   ]
  },
  {
   "cell_type": "code",
   "execution_count": 148,
   "id": "8fed9b8f-b27c-47b7-aaaa-b68cfab8c427",
   "metadata": {},
   "outputs": [
    {
     "data": {
      "text/plain": [
       "27"
      ]
     },
     "execution_count": 148,
     "metadata": {},
     "output_type": "execute_result"
    }
   ],
   "source": [
    "root(3) # same as 3 to yhe power of 3"
   ]
  },
  {
   "cell_type": "code",
   "execution_count": 146,
   "id": "33b61306-45c2-4581-b00d-46096601cb18",
   "metadata": {},
   "outputs": [],
   "source": [
    "square_root = lambda z: z**2"
   ]
  },
  {
   "cell_type": "code",
   "execution_count": 147,
   "id": "7ced839a-2a97-42ef-ad70-bc8697cb9844",
   "metadata": {},
   "outputs": [
    {
     "data": {
      "text/plain": [
       "16"
      ]
     },
     "execution_count": 147,
     "metadata": {},
     "output_type": "execute_result"
    }
   ],
   "source": [
    "square_root(4)"
   ]
  },
  {
   "cell_type": "code",
   "execution_count": null,
   "id": "a7b69e42-7ffe-4597-9bb4-f170ff0fdbc9",
   "metadata": {},
   "outputs": [],
   "source": []
  }
 ],
 "metadata": {
  "kernelspec": {
   "display_name": "Python 3 (ipykernel)",
   "language": "python",
   "name": "python3"
  },
  "language_info": {
   "codemirror_mode": {
    "name": "ipython",
    "version": 3
   },
   "file_extension": ".py",
   "mimetype": "text/x-python",
   "name": "python",
   "nbconvert_exporter": "python",
   "pygments_lexer": "ipython3",
   "version": "3.12.4"
  }
 },
 "nbformat": 4,
 "nbformat_minor": 5
}
