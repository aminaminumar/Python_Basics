{
 "cells": [
  {
   "cell_type": "code",
   "execution_count": 20,
   "id": "1355bc5d-5803-4c13-bfae-30aa1c5090bc",
   "metadata": {},
   "outputs": [],
   "source": [
    "def AddAllNo(*args):\n",
    "    c = 0\n",
    "    for i in range(len(args)):\n",
    "        c+=args[i]\n",
    "    print(c)"
   ]
  },
  {
   "cell_type": "code",
   "execution_count": 21,
   "id": "d534f4c5-5e98-4483-8e64-f2932bcbf792",
   "metadata": {},
   "outputs": [
    {
     "name": "stdout",
     "output_type": "stream",
     "text": [
      "4\n"
     ]
    }
   ],
   "source": [
    "AddAllNo(2,2)"
   ]
  },
  {
   "cell_type": "code",
   "execution_count": 45,
   "id": "7b2d8233-dbd8-4a56-9ad6-a12193343cd0",
   "metadata": {},
   "outputs": [],
   "source": [
    "def searchTypeOfValue(**c):\n",
    "    for i in c:\n",
    "     print(\"this type is\", c[i], type(i))\n",
    "    else:\n",
    "          print(\"Error: wrong type\")"
   ]
  },
  {
   "cell_type": "code",
   "execution_count": 46,
   "id": "c42a12ce-492f-4f78-b29f-44a9631dfc3a",
   "metadata": {},
   "outputs": [
    {
     "name": "stdout",
     "output_type": "stream",
     "text": [
      "this type is 23 <class 'str'>\n",
      "this type is Amina <class 'str'>\n",
      "Error: wrong type\n"
     ]
    }
   ],
   "source": [
    "searchTypeOfValue(c1 = 23, c2 = \"Amina\")"
   ]
  },
  {
   "cell_type": "code",
   "execution_count": null,
   "id": "27d01764-87e5-4018-8b5a-5394de942b48",
   "metadata": {},
   "outputs": [],
   "source": [
    "def launchpad_welcome():\n",
    "    \n",
    "    "
   ]
  }
 ],
 "metadata": {
  "kernelspec": {
   "display_name": "Python 3 (ipykernel)",
   "language": "python",
   "name": "python3"
  },
  "language_info": {
   "codemirror_mode": {
    "name": "ipython",
    "version": 3
   },
   "file_extension": ".py",
   "mimetype": "text/x-python",
   "name": "python",
   "nbconvert_exporter": "python",
   "pygments_lexer": "ipython3",
   "version": "3.12.4"
  }
 },
 "nbformat": 4,
 "nbformat_minor": 5
}
